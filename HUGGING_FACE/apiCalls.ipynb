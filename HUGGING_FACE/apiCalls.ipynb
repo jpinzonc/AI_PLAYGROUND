{
 "cells": [
  {
   "cell_type": "markdown",
   "metadata": {},
   "source": [
    "\n",
    "\n",
    "-  https://huggingface.co/bigscience/bloom/discussions/252"
   ]
  },
  {
   "cell_type": "code",
   "execution_count": 1,
   "metadata": {},
   "outputs": [],
   "source": [
    "import sys, os\n",
    "import requests\n",
    "sys.path.append(os.path.abspath(os.path.join('..', 'secret')))\n",
    "from secret_info import hug_face\n",
    "\n",
    "headers= {\n",
    "        \"Authorization\": f\"Bearer {hug_face}\",\n",
    "        \"Content-Type\": \"application/json\"\n",
    "        }\n",
    "\n",
    "def hug_face_api_call(question, headers, API_URL=None):\n",
    "    API_URL = \"https://api-inference.huggingface.co/models/mistralai/Mistral-7B-Instruct-v0.3\" if API_URL == None else API_URL\n",
    "\n",
    "    payload_template =  {\n",
    "                    \"inputs\":question,\n",
    "                    \"parameters\" : {\n",
    "                                    \"max_length\": 40,\n",
    "                                    }\n",
    "                    }  \n",
    "    try: \n",
    "        response = requests.post(API_URL, headers=headers, json=payload_template)\n",
    "        if response.status_code == 200:\n",
    "            answer = response.json()[0]['generated_text']\n",
    "            return response, answer\n",
    "        else: \n",
    "            return response\n",
    "    except Exception as E: \n",
    "        print(str(E))\n",
    "        return"
   ]
  },
  {
   "cell_type": "code",
   "execution_count": 2,
   "metadata": {},
   "outputs": [
    {
     "name": "stdout",
     "output_type": "stream",
     "text": [
      "Why are sharks so cool?\n",
      "\n",
      "Sharks are cool for many reasons. Here are a few:\n",
      "\n",
      "1. Sharks have been around for over 400 million years, making them one of the oldest species on the planet.\n",
      "2. They have a unique and efficient body shape that allows them to swim quickly and efficiently through the water.\n",
      "3. Sharks have a keen sense of smell, which they use to locate prey from miles away.\n",
      "4. They have rows of sharp teeth that they\n"
     ]
    }
   ],
   "source": [
    "response_, answer_ = hug_face_api_call('Why are sharks so cool?', headers)\n",
    "print(answer_)"
   ]
  },
  {
   "cell_type": "markdown",
   "metadata": {},
   "source": [
    "# IMPROVING CODE WITH IBM CODE MODELS"
   ]
  },
  {
   "cell_type": "code",
   "execution_count": 3,
   "metadata": {},
   "outputs": [
    {
     "name": "stdout",
     "output_type": "stream",
     "text": [
      "b's (https://huggingface.co/spaces) or Inference Endpoints (https://huggingface.co/inference-endpoints).\"}'\n"
     ]
    }
   ],
   "source": [
    "# with 8b ===> Generates as error as the 8b model is to big.\n",
    "# with 3b ===> Response is not correct \n",
    "code =  ''' def sum(a, b): return a+b'''\n",
    "input = f'''Please generate doc string for this python function: {code}''' \n",
    "response_, answer_ = hug_face_api_call(input, headers, API_URL ='''https://api-inference.huggingface.co/models/ibm-granite/granite-8b-code-instruct''' )\n",
    "print(answer_)"
   ]
  },
  {
   "cell_type": "code",
   "execution_count": 9,
   "metadata": {},
   "outputs": [],
   "source": [
    "# API for 8b is turned of as os August 2024\n",
    "from huggingface_hub import InferenceClient\n",
    "client = InferenceClient(\n",
    "    \"ibm-granite/granite-3b-code-instruct\",\n",
    "    token=hug_face,\n",
    ")\n",
    "\n",
    "code =  '''\n",
    "def hug_face_api_call(question, headers, API_URL=None):\n",
    "    API_URL = \"https://api-inference.huggingface.co/models/mistralai/Mistral-7B-Instruct-v0.3\" if API_URL == None else API_URL\n",
    "\n",
    "    payload_template =  {\n",
    "                    \"inputs\":question,\n",
    "                    \"parameters\" : {\n",
    "                                    \"max_length\": 40,\n",
    "                                    }\n",
    "                    }  \n",
    "    try: \n",
    "        response = requests.post(API_URL, headers=headers, json=payload_template)\n",
    "        if response.status_code == 200:\n",
    "            answer = response.json()[0]['generated_text']\n",
    "            return response, answer\n",
    "        else: \n",
    "            return response\n",
    "    except Exception as E: \n",
    "        print(str(E))\n",
    "        return\n",
    "'''\n",
    "input = f'''Generate doc string for this python function: {code}''' \n",
    "\n",
    "resultapi = client.chat_completion(\n",
    "\tmessages=[{\"role\": \"user\", \"content\": input}],\n",
    "\tmax_tokens=1500,\n",
    "\tstream=True,\n",
    ")\n"
   ]
  },
  {
   "cell_type": "code",
   "execution_count": 10,
   "metadata": {},
   "outputs": [
    {
     "name": "stdout",
     "output_type": "stream",
     "text": [
      "def hug_face_api_call(questionyii, headers, API_URL=None):\n",
      "    \"\"\"Standardized chit-chat interaction to HuggingFace API\n",
      "\n",
      "   Args:\n",
      "       question (str): The user input.\n",
      "       headers (}:dict, optional): The needed http header to pass to the proxy.. Defaults to None.\n",
      "       API_URL (str): Thenasa API base URL. Defaults to None.\n",
      "\n",
      "    Returns:\n",
      "        response: (requests.models.Response): the returned response. \n",
      "        answer (str):  the answer generated by reasoning api.\n",
      "                \n",
      "    \"\"\"\n",
      "    API_URL = \"https://api-inference.huggingface.co/models/ mistralai/Mistral-7B-Instruct-v0.3\" if API_URL == None else API_URL\n",
      "\n",
      "    payload_template =  {\n",
      "                    \"inputs\":questionyii,\n",
      "                    \"parameters\" : {\n",
      "                                    \"max_length\": 40,\n",
      "                                    }\n",
      "                    }  \n",
      "    try: \n",
      "        response = requests.post(API_URL, headers=headers, json=payload_template)\n",
      "        if response.status_code == 200:\n",
      "            answer = response.json()[0]['generated_text']\n",
      "            return response, answer\n",
      "        else: \n",
      "            return response\n",
      "    except Exception as E: \n",
      "        print(str(E))\n",
      "        return\n",
      "\n",
      "\n",
      "\n"
     ]
    }
   ],
   "source": [
    "resultl = []\n",
    "for v in resultapi:\n",
    "    resultl.append(v.choices[0].delta.content)\n",
    "results = \"\".join(resultl)\n",
    "print(results, end = '\\n')"
   ]
  },
  {
   "cell_type": "code",
   "execution_count": null,
   "metadata": {},
   "outputs": [],
   "source": []
  }
 ],
 "metadata": {
  "kernelspec": {
   "display_name": "morgage",
   "language": "python",
   "name": "python3"
  },
  "language_info": {
   "codemirror_mode": {
    "name": "ipython",
    "version": 3
   },
   "file_extension": ".py",
   "mimetype": "text/x-python",
   "name": "python",
   "nbconvert_exporter": "python",
   "pygments_lexer": "ipython3",
   "version": "3.12.2"
  }
 },
 "nbformat": 4,
 "nbformat_minor": 2
}
