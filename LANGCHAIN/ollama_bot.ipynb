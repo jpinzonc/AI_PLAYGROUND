{
 "cells": [
  {
   "cell_type": "code",
   "execution_count": 1,
   "metadata": {},
   "outputs": [],
   "source": [
    "import os \n",
    "import re\n",
    "from langchain_community.llms import Ollama\n",
    "from langchain_openai.chat_models import ChatOpenAI\n",
    "from langchain.prompts import PromptTemplate\n",
    "from langchain_core.output_parsers import StrOutputParser\n",
    "from langchain.text_splitter import RecursiveCharacterTextSplitter\n",
    "from langchain_community.document_loaders import TextLoader\n",
    "from langchain_openai.embeddings import OpenAIEmbeddings\n",
    "from langchain_community.vectorstores import FAISS\n",
    "from langchain_core.runnables import RunnablePassthrough, RunnableParallel"
   ]
  },
  {
   "cell_type": "code",
   "execution_count": 2,
   "metadata": {},
   "outputs": [
    {
     "data": {
      "text/plain": [
       "AIMessage(content=\"A bot (short for robot) is a computer program that automates repetitive or specific tasks, often interacting with humans through text or voice commands. Bots can be found in various forms, such as:\\n\\n1. **Chatbots**: These are computer programs that mimic human conversation, using natural language processing (NLP) and machine learning algorithms to understand and respond to user input.\\n2. **Web scrapers**: Bots that extract specific data from websites, often used for research or monitoring purposes.\\n3. **Virtual assistants**: AI-powered bots like Siri, Google Assistant, or Alexa, which can perform tasks, provide information, and control smart home devices.\\n4. **Customer service chatbots**: Automated systems designed to help customers with simple inquiries or issues, freeing up human customer support agents to focus on more complex problems.\\n5. **Social media bots**: Programs that automate social media interactions, such as posting updates, responding to messages, or tracking engagement metrics.\\n6. **Game bots**: AI-powered programs that play games, interact with other players, and make decisions based on game mechanics and strategies.\\n7. **Task-oriented bots**: Bots designed to perform specific tasks, like booking flights, making reservations, or sending notifications.\\n\\nBots typically operate by:\\n\\n1. **Receiving input** from users (e.g., text commands, voice prompts, or mouse clicks).\\n2. **Processing the input** using algorithms and rules-based systems.\\n3. **Generating a response** to the user's input.\\n4. **Executing actions**, such as performing tasks, updating databases, or sending notifications.\\n\\nSome popular examples of bots include:\\n\\n* Amazon Echo (Alexa)\\n* Google Assistant (Google Home)\\n* Siri (Apple Watch/Phone)\\n* Microsoft Cortana\\n* IBM Watson (chatbots and virtual assistants)\\n\\nIn summary, a bot is an automated computer program that interacts with humans, performs specific tasks, or provides information, often using natural language processing and machine learning algorithms.\", response_metadata={'token_usage': {'completion_tokens': 399, 'prompt_tokens': 14, 'total_tokens': 413}, 'model_name': 'llama3', 'system_fingerprint': 'fp_ollama', 'finish_reason': 'stop', 'logprobs': None}, id='run-fe00fa0a-ef1d-40dc-a4f3-849731eeb070-0')"
      ]
     },
     "execution_count": 2,
     "metadata": {},
     "output_type": "execute_result"
    }
   ],
   "source": [
    "# Modified following https://www.youtube.com/watch?v=02cdCd43Ccc \n",
    "API_KEY = \"NA\" #Causes ChatOpenAI to look for local models. base-url is needed to use ollama\n",
    "Model = 'llama3'\n",
    "gpt_llm = ChatOpenAI(api_key = API_KEY, model= Model, base_url=\"http://localhost:11434/v1\") # Thise parameters uses Ollama with Llama3\n",
    "gpt_llm.invoke('what is a bot')"
   ]
  },
  {
   "cell_type": "code",
   "execution_count": 3,
   "metadata": {},
   "outputs": [
    {
     "data": {
      "text/plain": [
       "\"A great question!\\n\\nA shark is a type of fish that belongs to the class Chondrichthyes. Sharks are characterized by their cartilaginous skeleton (as opposed to bony fish), which means their skeleton is made up of flexible, yet strong, cartilage rather than bones. They have a distinctive body shape with a streamlined torpedo-shaped body, a conical snout, and a caudal fin that is typically rounded.\\n\\nHere are some key features that define sharks:\\n\\n1. **Cartilaginous skeleton**: Sharks have no bones; their skeleton is made up of cartilage, which provides flexibility and buoyancy.\\n2. **Streamlined body**: Sharks have a torpedo-shaped body that allows them to swim efficiently through the water.\\n3. **Conical snout**: Sharks have a distinctive snout that is shaped like a cone or triangle. This helps them detect prey and navigate their surroundings.\\n4. **Multiple gill slits**: Sharks have multiple gill slits on either side of their head, which allow for efficient respiration.\\n5. **Dermal denticles**: Sharks have special skin scales called dermal denticles that provide protection from the environment and improve swimming efficiency.\\n6. **Apex predator role**: Many shark species are apex predators, meaning they have no natural predators in their ecosystem.\\n\\nThere are over 500 species of sharks, ranging in size from the small dwarf lanternshark (Etmopterus perryi) to the massive whale shark (Rhincodon typus). Sharks can be found in all the world's oceans, from shallow tropical waters to deep-sea environments.\\n\\nSharks play important roles in their ecosystems as both predators and prey. Some species of sharks are also important indicators of ocean health, and many are considered endangered or threatened due to human activities such as overfishing, habitat destruction, and climate change.\\n\\nSo, there you have it! That's what a shark is\""
      ]
     },
     "execution_count": 3,
     "metadata": {},
     "output_type": "execute_result"
    }
   ],
   "source": [
    "parser = StrOutputParser()\n",
    "gpt_chain = gpt_llm|parser\n",
    "gpt_chain.invoke('what is a shark')"
   ]
  },
  {
   "cell_type": "markdown",
   "metadata": {},
   "source": [
    "### Text version of an online article"
   ]
  },
  {
   "cell_type": "code",
   "execution_count": 6,
   "metadata": {},
   "outputs": [],
   "source": [
    "loader = TextLoader('WoodSpaceShip.txt',encoding = 'utf-8')\n",
    "document = loader.load()"
   ]
  },
  {
   "cell_type": "code",
   "execution_count": 7,
   "metadata": {},
   "outputs": [
    {
     "data": {
      "text/plain": [
       "Document(page_content='The roughly 10-centimetre-long cube is made of magnolia-wood panels and has an aluminium frame, solar panels, circuit boards and sensors. The panels incorporate Japanese wood-joinery methods that do', metadata={'source': 'WoodSpaceShip.txt'})"
      ]
     },
     "execution_count": 7,
     "metadata": {},
     "output_type": "execute_result"
    }
   ],
   "source": [
    "spliter = RecursiveCharacterTextSplitter(chunk_size = 200,chunk_overlap = 50)\n",
    "chunks = spliter.split_documents(document)\n",
    "chunks[3]\n"
   ]
  },
  {
   "cell_type": "code",
   "execution_count": 8,
   "metadata": {},
   "outputs": [],
   "source": [
    "# vector_storage = FAISS.from_documents(chunks,OpenAIEmbeddings())\n",
    "# retriever = vector_storage.as_retriever()\n",
    "from langchain_community.embeddings import OllamaEmbeddings\n",
    "\n",
    "ollama_emb = OllamaEmbeddings(base_url = 'http://localhost:11434', model=\"llama3\")\n",
    "# May need: \n",
    "# !pip install faiss-cpu\n",
    "# or \n",
    "# !pip install faiss-gpu\n",
    "\n",
    "vector_storage = FAISS.from_documents(chunks, ollama_emb)\n",
    "retriever = vector_storage.as_retriever()"
   ]
  },
  {
   "cell_type": "code",
   "execution_count": 9,
   "metadata": {},
   "outputs": [
    {
     "data": {
      "text/plain": [
       "[Document(page_content='LignoSat will cost about US$191,000 to design, manufacture, launch and operate. Sensors onboard will evaluate strain on the wood, temperature, geomagnetic forces and cosmic radiation, as well as', metadata={'source': 'WoodSpaceShip.txt'}),\n",
       " Document(page_content='And there is a precedent for spacecraft with wooden parts. Launched in 1962, NASA’s Ranger 3 lunar probe had a balsa-wood casing intended to protect its capsule as it landed on the lunar surface (the', metadata={'source': 'WoodSpaceShip.txt'}),\n",
       " Document(page_content='forces and cosmic radiation, as well as receive and transmit radio signals. The satellite has been handed over to the Japan Aerospace Exploration Agency (JAXA) and will be transferred to the', metadata={'source': 'WoodSpaceShip.txt'}),\n",
       " Document(page_content='When LignoSat plunges back to Earth, after six months to a year of service, the magnolia will incinerate completely and release only water vapour and carbon dioxide, says Takao Doi, an astronaut and', metadata={'source': 'WoodSpaceShip.txt'})]"
      ]
     },
     "execution_count": 9,
     "metadata": {},
     "output_type": "execute_result"
    }
   ],
   "source": [
    "retriever.invoke('what is the main characteristic of the satellite')"
   ]
  },
  {
   "cell_type": "code",
   "execution_count": 10,
   "metadata": {},
   "outputs": [],
   "source": [
    "template = (\"\"\"\n",
    "You are AI-powered chatbot designed to provide \n",
    "information and assistance for customers\n",
    "based on the context provided to you only. \n",
    "            \n",
    "Context:{context}\n",
    "Question:{question}\n",
    "\"\"\")"
   ]
  },
  {
   "cell_type": "code",
   "execution_count": 11,
   "metadata": {},
   "outputs": [
    {
     "data": {
      "text/plain": [
       "'\\nYou are AI-powered chatbot designed to provide \\ninformation and assistance for customers\\nbased on the context provided to you only. \\n            \\nContext: Here is a context to use\\nQuestion: This is a question to answer\\n'"
      ]
     },
     "execution_count": 11,
     "metadata": {},
     "output_type": "execute_result"
    }
   ],
   "source": [
    "prompt = PromptTemplate.from_template(template=template)\n",
    "prompt.format(\n",
    "    context = ' Here is a context to use',\n",
    "    question = ' This is a question to answer'\n",
    ")"
   ]
  },
  {
   "cell_type": "code",
   "execution_count": 12,
   "metadata": {},
   "outputs": [
    {
     "ename": "TypeError",
     "evalue": "Expected a Runnable, callable or dict.Instead got an unsupported type: <class 'int'>",
     "output_type": "error",
     "traceback": [
      "\u001b[0;31m---------------------------------------------------------------------------\u001b[0m",
      "\u001b[0;31mTypeError\u001b[0m                                 Traceback (most recent call last)",
      "Cell \u001b[0;32mIn[12], line 2\u001b[0m\n\u001b[1;32m      1\u001b[0m result \u001b[38;5;241m=\u001b[39m RunnableParallel(context \u001b[38;5;241m=\u001b[39m retriever,question \u001b[38;5;241m=\u001b[39m RunnablePassthrough())\n\u001b[0;32m----> 2\u001b[0m chain \u001b[38;5;241m=\u001b[39m \u001b[38;5;241;43m27\u001b[39;49m\u001b[43m \u001b[49m\u001b[38;5;241;43m|\u001b[39;49m\u001b[43mprompt\u001b[49m \u001b[38;5;241m|\u001b[39m gpt_llm \u001b[38;5;241m|\u001b[39m parser\n",
      "File \u001b[0;32m~/opt/anaconda3/envs/morgage/lib/python3.12/site-packages/langchain_core/runnables/base.py:433\u001b[0m, in \u001b[0;36mRunnable.__ror__\u001b[0;34m(self, other)\u001b[0m\n\u001b[1;32m    423\u001b[0m \u001b[38;5;28;01mdef\u001b[39;00m \u001b[38;5;21m__ror__\u001b[39m(\n\u001b[1;32m    424\u001b[0m     \u001b[38;5;28mself\u001b[39m,\n\u001b[1;32m    425\u001b[0m     other: Union[\n\u001b[0;32m   (...)\u001b[0m\n\u001b[1;32m    430\u001b[0m     ],\n\u001b[1;32m    431\u001b[0m ) \u001b[38;5;241m-\u001b[39m\u001b[38;5;241m>\u001b[39m RunnableSerializable[Other, Output]:\n\u001b[1;32m    432\u001b[0m \u001b[38;5;250m    \u001b[39m\u001b[38;5;124;03m\"\"\"Compose this runnable with another object to create a RunnableSequence.\"\"\"\u001b[39;00m\n\u001b[0;32m--> 433\u001b[0m     \u001b[38;5;28;01mreturn\u001b[39;00m RunnableSequence(\u001b[43mcoerce_to_runnable\u001b[49m\u001b[43m(\u001b[49m\u001b[43mother\u001b[49m\u001b[43m)\u001b[49m, \u001b[38;5;28mself\u001b[39m)\n",
      "File \u001b[0;32m~/opt/anaconda3/envs/morgage/lib/python3.12/site-packages/langchain_core/runnables/base.py:4977\u001b[0m, in \u001b[0;36mcoerce_to_runnable\u001b[0;34m(thing)\u001b[0m\n\u001b[1;32m   4975\u001b[0m     \u001b[38;5;28;01mreturn\u001b[39;00m cast(Runnable[Input, Output], RunnableParallel(thing))\n\u001b[1;32m   4976\u001b[0m \u001b[38;5;28;01melse\u001b[39;00m:\n\u001b[0;32m-> 4977\u001b[0m     \u001b[38;5;28;01mraise\u001b[39;00m \u001b[38;5;167;01mTypeError\u001b[39;00m(\n\u001b[1;32m   4978\u001b[0m         \u001b[38;5;124mf\u001b[39m\u001b[38;5;124m\"\u001b[39m\u001b[38;5;124mExpected a Runnable, callable or dict.\u001b[39m\u001b[38;5;124m\"\u001b[39m\n\u001b[1;32m   4979\u001b[0m         \u001b[38;5;124mf\u001b[39m\u001b[38;5;124m\"\u001b[39m\u001b[38;5;124mInstead got an unsupported type: \u001b[39m\u001b[38;5;132;01m{\u001b[39;00m\u001b[38;5;28mtype\u001b[39m(thing)\u001b[38;5;132;01m}\u001b[39;00m\u001b[38;5;124m\"\u001b[39m\n\u001b[1;32m   4980\u001b[0m     )\n",
      "\u001b[0;31mTypeError\u001b[0m: Expected a Runnable, callable or dict.Instead got an unsupported type: <class 'int'>"
     ]
    }
   ],
   "source": [
    "result = RunnableParallel(context = retriever,question = RunnablePassthrough())\n",
    "chain = 27 |prompt | gpt_llm | parser"
   ]
  },
  {
   "cell_type": "code",
   "execution_count": null,
   "metadata": {},
   "outputs": [],
   "source": [
    "chain.invoke('What is the recommended material for satelites? ')"
   ]
  },
  {
   "cell_type": "code",
   "execution_count": null,
   "metadata": {},
   "outputs": [],
   "source": [
    "chain.invoke('are there any precedents to wood satellites? Do they work?')"
   ]
  },
  {
   "cell_type": "markdown",
   "metadata": {},
   "source": [
    "### Online Document"
   ]
  },
  {
   "cell_type": "code",
   "execution_count": null,
   "metadata": {},
   "outputs": [],
   "source": [
    "# https://python.langchain.com/v0.2/docs/integrations/document_loaders/url/\n",
    "# !pip install unstructured\n",
    "from langchain_community.document_loaders import UnstructuredURLLoader\n",
    "\n",
    "loaderhmlt = UnstructuredURLLoader(urls = [\"https://www.nature.com/articles/d41586-024-01456-z\"])\n",
    "data = loaderhmlt.load()\n",
    "spliterhtml = RecursiveCharacterTextSplitter(chunk_size = 200,chunk_overlap = 50)\n",
    "chunkhtml = spliterhtml.split_documents(data)\n",
    "chunkhtml[3]"
   ]
  },
  {
   "cell_type": "code",
   "execution_count": null,
   "metadata": {},
   "outputs": [],
   "source": [
    "# The article of interest is inclluded in the first 44 chunks \n",
    "vector_storagehtml = FAISS.from_documents(chunkhtml[:44], ollama_emb)\n",
    "retrieverhtml = vector_storagehtml.as_retriever()"
   ]
  },
  {
   "cell_type": "code",
   "execution_count": null,
   "metadata": {},
   "outputs": [],
   "source": [
    "resulthtml = RunnableParallel(context = retrieverhtml,question = RunnablePassthrough())\n",
    "chainhtml = resulthtml |prompt | gpt_llm | parser\n",
    "chain_htmlr = chainhtml.invoke('are there any precedents to wood satellites? Do they work?')\n",
    "chain_htmlr"
   ]
  },
  {
   "cell_type": "code",
   "execution_count": null,
   "metadata": {},
   "outputs": [],
   "source": [
    "chain_htmlr2 = chainhtml.invoke('What is the recommended material for satelites? ')\n",
    "chain_htmlr2"
   ]
  },
  {
   "cell_type": "code",
   "execution_count": null,
   "metadata": {},
   "outputs": [],
   "source": [
    "chain_htmlr2 = chainhtml.invoke('What is the recommended material for satelites? ')\n",
    "chain_htmlr2"
   ]
  },
  {
   "cell_type": "code",
   "execution_count": null,
   "metadata": {},
   "outputs": [],
   "source": [
    "chain_htmlr2 = re.sub(r'\\. ',r'.\\n', chain_htmlr2)\n",
    "print(chain_htmlr2)"
   ]
  },
  {
   "cell_type": "code",
   "execution_count": null,
   "metadata": {},
   "outputs": [],
   "source": [
    "chain_htmlr3 = chainhtml.invoke('What is the main idea of the context provided? ')\n",
    "chain_htmlr3\n",
    "chain_htmlr3 = re.sub(r'\\. ',r'.\\n', chain_htmlr3)\n",
    "print(chain_htmlr3)"
   ]
  }
 ],
 "metadata": {
  "kernelspec": {
   "display_name": "morgage",
   "language": "python",
   "name": "python3"
  },
  "language_info": {
   "codemirror_mode": {
    "name": "ipython",
    "version": 3
   },
   "file_extension": ".py",
   "mimetype": "text/x-python",
   "name": "python",
   "nbconvert_exporter": "python",
   "pygments_lexer": "ipython3",
   "version": "3.12.2"
  }
 },
 "nbformat": 4,
 "nbformat_minor": 2
}
