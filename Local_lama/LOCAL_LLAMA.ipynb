{
 "cells": [
  {
   "cell_type": "markdown",
   "metadata": {},
   "source": [
    "# Llama Locally\n",
    "\n",
    "## Example 1\n",
    "\n",
    "This includes: \n",
    "\n",
    "- LLM Categorization of transactions \n",
    "\n",
    "- DASHBOARD on Ploty plot \n",
    "\n",
    "https://www.youtube.com/watch?v=h_GTxRFYETY\n",
    "\n",
    "https://ollama.com/\n",
    "\n",
    "https://github.com/thu-vu92/local-llms-analyse-finance\n",
    "\n",
    "\n",
    "### Getting Ollama: \n",
    "\n",
    "1. Go to ollama.ai \n",
    "\n",
    "2. Click download \n",
    "\n",
    "### Installing Ollama\n",
    "\n",
    "1. Double clink on ollama downloaded file and follow instructions \n",
    "\n",
    "### Get models\n",
    "\n",
    "1. on Terminal: \n",
    "\n",
    "    ollama pull llama3\n",
    "\n",
    "3. Generate own model (Optional), create a file using nano: \n",
    "\n",
    "```nano expense_analyzer```\n",
    "\n",
    "Enter this information in the file: \n",
    "\n",
    "FROM llama3\n",
    "\n",
    "PARAMETER temperature 0.8\n",
    "\n",
    "SYSTEM You are a financial assistan, you help classify expenses and income from bank trnsactions\n",
    "\n",
    "3. Run this code\n",
    "\n",
    "```ollama create expense_analyzer_llama3 -f ./expense_analyzer```\n"
   ]
  },
  {
   "cell_type": "code",
   "execution_count": 1,
   "metadata": {},
   "outputs": [],
   "source": [
    "from langchain_community.llms import Ollama\n",
    "\n",
    "llm = Ollama(model ='llama3')"
   ]
  },
  {
   "cell_type": "code",
   "execution_count": 2,
   "metadata": {},
   "outputs": [
    {
     "data": {
      "text/plain": [
       "\"Here is the list of categories with each expense:\\n\\nFood (ISS Catering Services De Meern), Food (Vishandel Sier AMSTELVEEN), Government/Politics (Ministerie van Justitie en Veiligheid), Retail (Etos AMSTERDAM NLD), Nightlife (Bistro Bar Amsterdam)\\n\\nLet me know if you'd like me to add any other categories!\""
      ]
     },
     "execution_count": 2,
     "metadata": {},
     "output_type": "execute_result"
    }
   ],
   "source": [
    "llm.invoke(\"Can you add an appropriate category next to each of the following expenses. Respond with a list of categories separated by commas. For example, Spotify AB by Adyen - \\\n",
    "Entertainment, Beta Boulders Ams Amsterdam Nld - Sports, etc.: \\\n",
    "ISS Catering Services De Meern, Vishandel Sier AMSTELVEEN, Ministerie van Justitie en Veiligheid, Etos AMSTERDAM NLD, Bistro Bar Amsterdam\")"
   ]
  },
  {
   "cell_type": "code",
   "execution_count": 3,
   "metadata": {},
   "outputs": [
    {
     "data": {
      "text/html": [
       "<div>\n",
       "<style scoped>\n",
       "    .dataframe tbody tr th:only-of-type {\n",
       "        vertical-align: middle;\n",
       "    }\n",
       "\n",
       "    .dataframe tbody tr th {\n",
       "        vertical-align: top;\n",
       "    }\n",
       "\n",
       "    .dataframe thead th {\n",
       "        text-align: right;\n",
       "    }\n",
       "</style>\n",
       "<table border=\"1\" class=\"dataframe\">\n",
       "  <thead>\n",
       "    <tr style=\"text-align: right;\">\n",
       "      <th></th>\n",
       "      <th>Date</th>\n",
       "      <th>Name / Description</th>\n",
       "      <th>Expense/Income</th>\n",
       "      <th>Amount (EUR)</th>\n",
       "    </tr>\n",
       "  </thead>\n",
       "  <tbody>\n",
       "    <tr>\n",
       "      <th>0</th>\n",
       "      <td>2023-12-30</td>\n",
       "      <td>Belastingdienst</td>\n",
       "      <td>Expense</td>\n",
       "      <td>9.96</td>\n",
       "    </tr>\n",
       "    <tr>\n",
       "      <th>1</th>\n",
       "      <td>2023-12-30</td>\n",
       "      <td>Tesco Breda</td>\n",
       "      <td>Expense</td>\n",
       "      <td>17.53</td>\n",
       "    </tr>\n",
       "    <tr>\n",
       "      <th>2</th>\n",
       "      <td>2023-12-30</td>\n",
       "      <td>Monthly Appartment Rent</td>\n",
       "      <td>Expense</td>\n",
       "      <td>451.00</td>\n",
       "    </tr>\n",
       "    <tr>\n",
       "      <th>3</th>\n",
       "      <td>2023-12-30</td>\n",
       "      <td>Vishandel Sier Amsterdam</td>\n",
       "      <td>Expense</td>\n",
       "      <td>12.46</td>\n",
       "    </tr>\n",
       "    <tr>\n",
       "      <th>4</th>\n",
       "      <td>2023-12-29</td>\n",
       "      <td>Selling Paintings</td>\n",
       "      <td>Income</td>\n",
       "      <td>13.63</td>\n",
       "    </tr>\n",
       "  </tbody>\n",
       "</table>\n",
       "</div>"
      ],
      "text/plain": [
       "         Date        Name / Description Expense/Income  Amount (EUR)\n",
       "0  2023-12-30           Belastingdienst        Expense          9.96\n",
       "1  2023-12-30               Tesco Breda        Expense         17.53\n",
       "2  2023-12-30   Monthly Appartment Rent        Expense        451.00\n",
       "3  2023-12-30  Vishandel Sier Amsterdam        Expense         12.46\n",
       "4  2023-12-29         Selling Paintings         Income         13.63"
      ]
     },
     "execution_count": 3,
     "metadata": {},
     "output_type": "execute_result"
    }
   ],
   "source": [
    "import pandas as pd\n",
    "\n",
    "df = pd.read_csv('transactions_2022_2023.csv', low_memory = False )\n",
    "df.head()"
   ]
  },
  {
   "cell_type": "code",
   "execution_count": 4,
   "metadata": {},
   "outputs": [
    {
     "data": {
      "text/plain": [
       "23"
      ]
     },
     "execution_count": 4,
     "metadata": {},
     "output_type": "execute_result"
    }
   ],
   "source": [
    "# Get unique transactions in the Name / Description column\n",
    "unique_transactions = df[\"Name / Description\"].unique()\n",
    "len(unique_transactions)"
   ]
  },
  {
   "cell_type": "code",
   "execution_count": 5,
   "metadata": {},
   "outputs": [
    {
     "data": {
      "text/plain": [
       "array(['Tesco Breda', 'Monthly Appartment Rent',\n",
       "       'Vishandel Sier Amsterdam', 'Selling Paintings',\n",
       "       'Spotify Ab By Adyen', 'Tk Maxx Amsterdam Da', 'Consulting',\n",
       "       'Aidsfonds', 'Tls Bv Inz Ov-Chipkaart'], dtype=object)"
      ]
     },
     "execution_count": 5,
     "metadata": {},
     "output_type": "execute_result"
    }
   ],
   "source": [
    "unique_transactions[1:10]\n"
   ]
  },
  {
   "cell_type": "code",
   "execution_count": 6,
   "metadata": {},
   "outputs": [
    {
     "data": {
      "text/plain": [
       "[0, 23]"
      ]
     },
     "execution_count": 6,
     "metadata": {},
     "output_type": "execute_result"
    }
   ],
   "source": [
    "# Get index list\n",
    "#https://stackoverflow.com/questions/47518609/for-loop-range-and-interval-how-to-include-last-step\n",
    "def hop(start, stop, step):\n",
    "    for i in range(start, stop, step):\n",
    "        yield i\n",
    "    yield stop\n",
    "# Spit the index into groups of 30\n",
    "index_list = list(hop(0, len(unique_transactions), 30))\n",
    "index_list"
   ]
  },
  {
   "cell_type": "code",
   "execution_count": 7,
   "metadata": {},
   "outputs": [
    {
     "data": {
      "text/plain": [
       "ResponseChecks(data=None)"
      ]
     },
     "execution_count": 7,
     "metadata": {},
     "output_type": "execute_result"
    }
   ],
   "source": [
    "# Output validation\n",
    "from pydantic import BaseModel, field_validator\n",
    "from typing import List\n",
    "\n",
    "# Validate response format - check if it actually contains hyphen (\"-\")\n",
    "class ResponseChecks(BaseModel):\n",
    "    data: List[str]\n",
    "\n",
    "    @field_validator(\"data\")\n",
    "    def check(cls, value):\n",
    "        for item in value:\n",
    "            if len(item) > 0:\n",
    "                assert \"-\" in item, \"String does not contain hyphen.\"\n",
    "\n",
    "# Test validation\n",
    "ResponseChecks(data=['Hello - World', 'Hello - there!'])"
   ]
  },
  {
   "cell_type": "code",
   "execution_count": 8,
   "metadata": {},
   "outputs": [],
   "source": [
    "def categorize_transactions(transaction_names, llm):\n",
    "    response = llm.invoke(\"Can you add an appropriate category to the following expenses. For example: Spotify AB by Adyen - Entertainment, Beta Boulders Ams Amsterdam Nld - Sport, etc.. Categories should be less than 4 words. \" + transaction_names)\n",
    "    response = response.split('\\n')\n",
    "\n",
    "    # Keep only the lines in between blank lines (removing the explaination lines at the beginning and end of the response)\n",
    "    blank_indexes = [index for index in range(len(response)) if response[index] == '']\n",
    "    if len(blank_indexes) == 1:\n",
    "        response = response[(blank_indexes[0] + 1):]\n",
    "    else:\n",
    "        response = response[(blank_indexes[0] + 1) : blank_indexes[1]]\n",
    "\n",
    "    # Print response and validate if it is in the correct format\n",
    "    print(response)\n",
    "    response = [s.replace('* ', '') for s in response]\n",
    "    # return response\n",
    "    ResponseChecks(data = response)\n",
    "    \n",
    "    # Put in dataframe\n",
    "    categories_df = pd.DataFrame({'Transaction vs category': response})\n",
    "    return categories_df\n",
    "    # categories_df[['Transaction', 'Category']] = categories_df['Transaction vs category'].str.split(' - ', expand=True)\n",
    "    \n",
    "    # return categories_df"
   ]
  },
  {
   "cell_type": "code",
   "execution_count": 9,
   "metadata": {},
   "outputs": [
    {
     "name": "stdout",
     "output_type": "stream",
     "text": [
      "['* ISS Catering Services De Meern - Food', '* Vishandel Sier AMSTELVEEN - Shopping', '* Etos AMSTERDAM NLD - Health', '* Bistro Bar Amsterdam - Entertainment']\n"
     ]
    },
    {
     "data": {
      "text/html": [
       "<div>\n",
       "<style scoped>\n",
       "    .dataframe tbody tr th:only-of-type {\n",
       "        vertical-align: middle;\n",
       "    }\n",
       "\n",
       "    .dataframe tbody tr th {\n",
       "        vertical-align: top;\n",
       "    }\n",
       "\n",
       "    .dataframe thead th {\n",
       "        text-align: right;\n",
       "    }\n",
       "</style>\n",
       "<table border=\"1\" class=\"dataframe\">\n",
       "  <thead>\n",
       "    <tr style=\"text-align: right;\">\n",
       "      <th></th>\n",
       "      <th>Transaction vs category</th>\n",
       "    </tr>\n",
       "  </thead>\n",
       "  <tbody>\n",
       "    <tr>\n",
       "      <th>0</th>\n",
       "      <td>ISS Catering Services De Meern - Food</td>\n",
       "    </tr>\n",
       "    <tr>\n",
       "      <th>1</th>\n",
       "      <td>Vishandel Sier AMSTELVEEN - Shopping</td>\n",
       "    </tr>\n",
       "    <tr>\n",
       "      <th>2</th>\n",
       "      <td>Etos AMSTERDAM NLD - Health</td>\n",
       "    </tr>\n",
       "    <tr>\n",
       "      <th>3</th>\n",
       "      <td>Bistro Bar Amsterdam - Entertainment</td>\n",
       "    </tr>\n",
       "  </tbody>\n",
       "</table>\n",
       "</div>"
      ],
      "text/plain": [
       "                 Transaction vs category\n",
       "0  ISS Catering Services De Meern - Food\n",
       "1   Vishandel Sier AMSTELVEEN - Shopping\n",
       "2            Etos AMSTERDAM NLD - Health\n",
       "3   Bistro Bar Amsterdam - Entertainment"
      ]
     },
     "execution_count": 9,
     "metadata": {},
     "output_type": "execute_result"
    }
   ],
   "source": [
    "# Test out the function\n",
    "r = categorize_transactions('ISS Catering Services De Meern, Vishandel Sier AMSTELVEEN, Etos AMSTERDAM NLD, Bistro Bar Amsterdam',\n",
    "                        llm)\n",
    "r"
   ]
  },
  {
   "cell_type": "code",
   "execution_count": 10,
   "metadata": {},
   "outputs": [
    {
     "data": {
      "text/html": [
       "<div>\n",
       "<style scoped>\n",
       "    .dataframe tbody tr th:only-of-type {\n",
       "        vertical-align: middle;\n",
       "    }\n",
       "\n",
       "    .dataframe tbody tr th {\n",
       "        vertical-align: top;\n",
       "    }\n",
       "\n",
       "    .dataframe thead th {\n",
       "        text-align: right;\n",
       "    }\n",
       "</style>\n",
       "<table border=\"1\" class=\"dataframe\">\n",
       "  <thead>\n",
       "    <tr style=\"text-align: right;\">\n",
       "      <th></th>\n",
       "      <th>Transaction vs category</th>\n",
       "      <th>Transaction</th>\n",
       "      <th>Category</th>\n",
       "    </tr>\n",
       "  </thead>\n",
       "  <tbody>\n",
       "    <tr>\n",
       "      <th>0</th>\n",
       "      <td>ISS Catering Services De Meern - Food</td>\n",
       "      <td>ISS Catering Services De Meern</td>\n",
       "      <td>Food</td>\n",
       "    </tr>\n",
       "    <tr>\n",
       "      <th>1</th>\n",
       "      <td>Vishandel Sier AMSTELVEEN - Shopping</td>\n",
       "      <td>Vishandel Sier AMSTELVEEN</td>\n",
       "      <td>Shopping</td>\n",
       "    </tr>\n",
       "    <tr>\n",
       "      <th>2</th>\n",
       "      <td>Etos AMSTERDAM NLD - Health</td>\n",
       "      <td>Etos AMSTERDAM NLD</td>\n",
       "      <td>Health</td>\n",
       "    </tr>\n",
       "    <tr>\n",
       "      <th>3</th>\n",
       "      <td>Bistro Bar Amsterdam - Entertainment</td>\n",
       "      <td>Bistro Bar Amsterdam</td>\n",
       "      <td>Entertainment</td>\n",
       "    </tr>\n",
       "  </tbody>\n",
       "</table>\n",
       "</div>"
      ],
      "text/plain": [
       "                 Transaction vs category                     Transaction  \\\n",
       "0  ISS Catering Services De Meern - Food  ISS Catering Services De Meern   \n",
       "1   Vishandel Sier AMSTELVEEN - Shopping       Vishandel Sier AMSTELVEEN   \n",
       "2            Etos AMSTERDAM NLD - Health              Etos AMSTERDAM NLD   \n",
       "3   Bistro Bar Amsterdam - Entertainment            Bistro Bar Amsterdam   \n",
       "\n",
       "        Category  \n",
       "0           Food  \n",
       "1       Shopping  \n",
       "2         Health  \n",
       "3  Entertainment  "
      ]
     },
     "execution_count": 10,
     "metadata": {},
     "output_type": "execute_result"
    }
   ],
   "source": [
    "r[['Transaction', 'Category']] = r['Transaction vs category'].str.split(' - ', expand=True)\n",
    "r"
   ]
  },
  {
   "cell_type": "code",
   "execution_count": 11,
   "metadata": {},
   "outputs": [
    {
     "name": "stdout",
     "output_type": "stream",
     "text": [
      "['1. Belastingdienst - Taxes', '2. Tesco Breda - Grocery', '3. Monthly Apartment Rent - Housing', '4. Vishandel Sier Amsterdam - Fish/Meat (assuming a fish market)', '5. Selling Paintings - Business/Income', '6. Spotify Ab By Adyen - Entertainment', '7. Tk Maxx Amsterdam Da - Retail', '8. Consulting - Work', '9. Aidsfonds - Charity', '10. Tls Bv Inz Ov-Chipkaart - Transportation (assuming public transportation)', '11. Etos Amsterdam - Health/Wellness', '12. Beta Boulders Ams Amsterdam - Sport', '13. Salary - Income', '14. Bouldermuur Bv Amsterdam - Business/Investment', '15. Birat Restaurant Amsterdam - Food/Dining', '16. Freelancing - Work', '17. Tikkie - Personal/Bills (assuming a personal bill management service)', '18. Blogging - Business/Income', '19. Taxi Utrecht - Transportation', '20. Apple Services - Technology', '21. Amazon Lux - Retail/E-commerce', '22. Classpass* Monthly - Fitness/Sport', '23. Audible Uk AdblCo/Pymt Gbr - Entertainment (assuming audiobooks)']\n"
     ]
    }
   ],
   "source": [
    "# Intialise the categories_df_all dataframe\n",
    "categories_df_all = pd.DataFrame()\n",
    "max_tries = 7\n",
    "\n",
    "# Loop through the index_list\n",
    "for i in range(0, len(index_list)-1):\n",
    "    transaction_names = unique_transactions[index_list[i]:index_list[i+1]]\n",
    "    transaction_names = ','.join(transaction_names)\n",
    "\n",
    "    # Try and validate output, if it fails, try again for max_tries=7 times\n",
    "    for j in range(1, max_tries):\n",
    "        try:\n",
    "            categories_df = categorize_transactions(transaction_names, llm)\n",
    "            categories_df_all = pd.concat([categories_df_all, categories_df], ignore_index=True)\n",
    "            \n",
    "        except:\n",
    "            if j < max_tries:\n",
    "                continue\n",
    "            else:\n",
    "                raise Exception(f\"Cannot categorise transactions indexes {i} to {i+1}.\")\n",
    "        break"
   ]
  },
  {
   "cell_type": "code",
   "execution_count": 12,
   "metadata": {},
   "outputs": [
    {
     "data": {
      "text/html": [
       "<div>\n",
       "<style scoped>\n",
       "    .dataframe tbody tr th:only-of-type {\n",
       "        vertical-align: middle;\n",
       "    }\n",
       "\n",
       "    .dataframe tbody tr th {\n",
       "        vertical-align: top;\n",
       "    }\n",
       "\n",
       "    .dataframe thead th {\n",
       "        text-align: right;\n",
       "    }\n",
       "</style>\n",
       "<table border=\"1\" class=\"dataframe\">\n",
       "  <thead>\n",
       "    <tr style=\"text-align: right;\">\n",
       "      <th></th>\n",
       "      <th>Transaction vs category</th>\n",
       "    </tr>\n",
       "  </thead>\n",
       "  <tbody>\n",
       "    <tr>\n",
       "      <th>0</th>\n",
       "      <td>1. Belastingdienst - Taxes</td>\n",
       "    </tr>\n",
       "    <tr>\n",
       "      <th>1</th>\n",
       "      <td>2. Tesco Breda - Grocery</td>\n",
       "    </tr>\n",
       "    <tr>\n",
       "      <th>2</th>\n",
       "      <td>3. Monthly Apartment Rent - Housing</td>\n",
       "    </tr>\n",
       "    <tr>\n",
       "      <th>3</th>\n",
       "      <td>4. Vishandel Sier Amsterdam - Fish/Meat (assum...</td>\n",
       "    </tr>\n",
       "    <tr>\n",
       "      <th>4</th>\n",
       "      <td>5. Selling Paintings - Business/Income</td>\n",
       "    </tr>\n",
       "  </tbody>\n",
       "</table>\n",
       "</div>"
      ],
      "text/plain": [
       "                             Transaction vs category\n",
       "0                         1. Belastingdienst - Taxes\n",
       "1                           2. Tesco Breda - Grocery\n",
       "2                3. Monthly Apartment Rent - Housing\n",
       "3  4. Vishandel Sier Amsterdam - Fish/Meat (assum...\n",
       "4             5. Selling Paintings - Business/Income"
      ]
     },
     "execution_count": 12,
     "metadata": {},
     "output_type": "execute_result"
    }
   ],
   "source": [
    "categories_df.head()\n"
   ]
  },
  {
   "cell_type": "code",
   "execution_count": 13,
   "metadata": {},
   "outputs": [
    {
     "data": {
      "text/html": [
       "<div>\n",
       "<style scoped>\n",
       "    .dataframe tbody tr th:only-of-type {\n",
       "        vertical-align: middle;\n",
       "    }\n",
       "\n",
       "    .dataframe tbody tr th {\n",
       "        vertical-align: top;\n",
       "    }\n",
       "\n",
       "    .dataframe thead th {\n",
       "        text-align: right;\n",
       "    }\n",
       "</style>\n",
       "<table border=\"1\" class=\"dataframe\">\n",
       "  <thead>\n",
       "    <tr style=\"text-align: right;\">\n",
       "      <th></th>\n",
       "      <th>Transaction vs category</th>\n",
       "      <th>Transaction</th>\n",
       "      <th>Category</th>\n",
       "    </tr>\n",
       "  </thead>\n",
       "  <tbody>\n",
       "    <tr>\n",
       "      <th>0</th>\n",
       "      <td>1. Belastingdienst - Taxes</td>\n",
       "      <td>1. Belastingdienst</td>\n",
       "      <td>Taxes</td>\n",
       "    </tr>\n",
       "    <tr>\n",
       "      <th>1</th>\n",
       "      <td>2. Tesco Breda - Grocery</td>\n",
       "      <td>2. Tesco Breda</td>\n",
       "      <td>Grocery</td>\n",
       "    </tr>\n",
       "    <tr>\n",
       "      <th>2</th>\n",
       "      <td>3. Monthly Apartment Rent - Housing</td>\n",
       "      <td>3. Monthly Apartment Rent</td>\n",
       "      <td>Housing</td>\n",
       "    </tr>\n",
       "    <tr>\n",
       "      <th>3</th>\n",
       "      <td>4. Vishandel Sier Amsterdam - Fish/Meat (assum...</td>\n",
       "      <td>4. Vishandel Sier Amsterdam</td>\n",
       "      <td>Fish/Meat (assuming a fish market)</td>\n",
       "    </tr>\n",
       "    <tr>\n",
       "      <th>4</th>\n",
       "      <td>5. Selling Paintings - Business/Income</td>\n",
       "      <td>5. Selling Paintings</td>\n",
       "      <td>Business/Income</td>\n",
       "    </tr>\n",
       "  </tbody>\n",
       "</table>\n",
       "</div>"
      ],
      "text/plain": [
       "                             Transaction vs category  \\\n",
       "0                         1. Belastingdienst - Taxes   \n",
       "1                           2. Tesco Breda - Grocery   \n",
       "2                3. Monthly Apartment Rent - Housing   \n",
       "3  4. Vishandel Sier Amsterdam - Fish/Meat (assum...   \n",
       "4             5. Selling Paintings - Business/Income   \n",
       "\n",
       "                   Transaction                            Category  \n",
       "0           1. Belastingdienst                               Taxes  \n",
       "1               2. Tesco Breda                             Grocery  \n",
       "2    3. Monthly Apartment Rent                             Housing  \n",
       "3  4. Vishandel Sier Amsterdam  Fish/Meat (assuming a fish market)  \n",
       "4         5. Selling Paintings                     Business/Income  "
      ]
     },
     "execution_count": 13,
     "metadata": {},
     "output_type": "execute_result"
    }
   ],
   "source": [
    "categories_df_all[['Transaction', 'Category']] = categories_df_all['Transaction vs category'].str.split(' - ', expand=True)\n",
    "categories_df_all.head()"
   ]
  },
  {
   "cell_type": "code",
   "execution_count": 14,
   "metadata": {},
   "outputs": [
    {
     "data": {
      "text/plain": [
       "array(['Taxes', 'Grocery', 'Housing',\n",
       "       'Fish/Meat (assuming a fish market)', 'Business/Income',\n",
       "       'Entertainment', 'Retail', 'Work', 'Charity',\n",
       "       'Transportation (assuming public transportation)',\n",
       "       'Health/Wellness', 'Sport', 'Income', 'Business/Investment',\n",
       "       'Food/Dining',\n",
       "       'Personal/Bills (assuming a personal bill management service)',\n",
       "       'Transportation', 'Technology', 'Retail/E-commerce',\n",
       "       'Fitness/Sport', 'Entertainment (assuming audiobooks)'],\n",
       "      dtype=object)"
      ]
     },
     "execution_count": 14,
     "metadata": {},
     "output_type": "execute_result"
    }
   ],
   "source": [
    "# Get unique categories in categories_df_all\n",
    "unique_categories = categories_df_all[\"Category\"].unique()\n",
    "unique_categories"
   ]
  },
  {
   "cell_type": "code",
   "execution_count": 15,
   "metadata": {},
   "outputs": [],
   "source": [
    "# Drop NA values\n",
    "categories_df_all = categories_df_all.dropna()\n",
    "\n",
    "# If category contains \"Food\", then categorise as \"Food and Drinks\"\n",
    "categories_df_all.loc[categories_df_all['Category'].str.contains(\"Food\"), 'Category'] = \"Food and Drinks\"\n",
    "# If category contains \"Clothing\", then categorise as \"Clothing\"\n",
    "categories_df_all.loc[categories_df_all['Category'].str.contains(\"Clothing\"), 'Category'] = \"Clothing\"\n",
    "# If category contains \"Services\", then categorise as \"Services\"\n",
    "categories_df_all.loc[categories_df_all['Category'].str.contains(\"Services\"), 'Category'] = \"Services\"\n",
    "# If category contains \"Health\" or \"Wellness\", then categorise as \"Health and Wellness\"\n",
    "categories_df_all.loc[categories_df_all['Category'].str.contains(\"Health|Wellness\"), 'Category'] = \"Health and Wellness\"\n",
    "# If category contains \"Sport\", then categorise as \"Sport\n",
    "#  and Fitness\"\n",
    "categories_df_all.loc[categories_df_all['Category'].str.contains(\"Sport\"), 'Category'] = \"Sport and Fitness\"\n",
    "# If category contains \"Travel\", then categorise as \"Travel\"\n",
    "categories_df_all.loc[categories_df_all['Category'].str.contains(\"Travel\"), 'Category'] = \"Travel\""
   ]
  },
  {
   "cell_type": "code",
   "execution_count": 16,
   "metadata": {},
   "outputs": [
    {
     "data": {
      "text/html": [
       "<div>\n",
       "<style scoped>\n",
       "    .dataframe tbody tr th:only-of-type {\n",
       "        vertical-align: middle;\n",
       "    }\n",
       "\n",
       "    .dataframe tbody tr th {\n",
       "        vertical-align: top;\n",
       "    }\n",
       "\n",
       "    .dataframe thead th {\n",
       "        text-align: right;\n",
       "    }\n",
       "</style>\n",
       "<table border=\"1\" class=\"dataframe\">\n",
       "  <thead>\n",
       "    <tr style=\"text-align: right;\">\n",
       "      <th></th>\n",
       "      <th>Transaction vs category</th>\n",
       "      <th>Transaction</th>\n",
       "      <th>Category</th>\n",
       "    </tr>\n",
       "  </thead>\n",
       "  <tbody>\n",
       "    <tr>\n",
       "      <th>0</th>\n",
       "      <td>1. Belastingdienst - Taxes</td>\n",
       "      <td>1. Belastingdienst</td>\n",
       "      <td>Taxes</td>\n",
       "    </tr>\n",
       "    <tr>\n",
       "      <th>1</th>\n",
       "      <td>2. Tesco Breda - Grocery</td>\n",
       "      <td>2. Tesco Breda</td>\n",
       "      <td>Grocery</td>\n",
       "    </tr>\n",
       "    <tr>\n",
       "      <th>2</th>\n",
       "      <td>3. Monthly Apartment Rent - Housing</td>\n",
       "      <td>3. Monthly Apartment Rent</td>\n",
       "      <td>Housing</td>\n",
       "    </tr>\n",
       "    <tr>\n",
       "      <th>3</th>\n",
       "      <td>4. Vishandel Sier Amsterdam - Fish/Meat (assum...</td>\n",
       "      <td>4. Vishandel Sier Amsterdam</td>\n",
       "      <td>Fish/Meat (assuming a fish market)</td>\n",
       "    </tr>\n",
       "    <tr>\n",
       "      <th>4</th>\n",
       "      <td>5. Selling Paintings - Business/Income</td>\n",
       "      <td>5. Selling Paintings</td>\n",
       "      <td>Business/Income</td>\n",
       "    </tr>\n",
       "    <tr>\n",
       "      <th>5</th>\n",
       "      <td>6. Spotify Ab By Adyen - Entertainment</td>\n",
       "      <td>6. Spotify Ab By Adyen</td>\n",
       "      <td>Entertainment</td>\n",
       "    </tr>\n",
       "    <tr>\n",
       "      <th>6</th>\n",
       "      <td>7. Tk Maxx Amsterdam Da - Retail</td>\n",
       "      <td>7. Tk Maxx Amsterdam Da</td>\n",
       "      <td>Retail</td>\n",
       "    </tr>\n",
       "    <tr>\n",
       "      <th>7</th>\n",
       "      <td>8. Consulting - Work</td>\n",
       "      <td>8. Consulting</td>\n",
       "      <td>Work</td>\n",
       "    </tr>\n",
       "    <tr>\n",
       "      <th>8</th>\n",
       "      <td>9. Aidsfonds - Charity</td>\n",
       "      <td>9. Aidsfonds</td>\n",
       "      <td>Charity</td>\n",
       "    </tr>\n",
       "    <tr>\n",
       "      <th>9</th>\n",
       "      <td>10. Tls Bv Inz Ov-Chipkaart - Transportation (...</td>\n",
       "      <td>10. Tls Bv Inz Ov-Chipkaart</td>\n",
       "      <td>Transportation (assuming public transportation)</td>\n",
       "    </tr>\n",
       "    <tr>\n",
       "      <th>10</th>\n",
       "      <td>11. Etos Amsterdam - Health/Wellness</td>\n",
       "      <td>11. Etos Amsterdam</td>\n",
       "      <td>Health and Wellness</td>\n",
       "    </tr>\n",
       "    <tr>\n",
       "      <th>11</th>\n",
       "      <td>12. Beta Boulders Ams Amsterdam - Sport</td>\n",
       "      <td>12. Beta Boulders Ams Amsterdam</td>\n",
       "      <td>Sport and Fitness</td>\n",
       "    </tr>\n",
       "    <tr>\n",
       "      <th>12</th>\n",
       "      <td>13. Salary - Income</td>\n",
       "      <td>13. Salary</td>\n",
       "      <td>Income</td>\n",
       "    </tr>\n",
       "    <tr>\n",
       "      <th>13</th>\n",
       "      <td>14. Bouldermuur Bv Amsterdam - Business/Invest...</td>\n",
       "      <td>14. Bouldermuur Bv Amsterdam</td>\n",
       "      <td>Business/Investment</td>\n",
       "    </tr>\n",
       "    <tr>\n",
       "      <th>14</th>\n",
       "      <td>15. Birat Restaurant Amsterdam - Food/Dining</td>\n",
       "      <td>15. Birat Restaurant Amsterdam</td>\n",
       "      <td>Food and Drinks</td>\n",
       "    </tr>\n",
       "    <tr>\n",
       "      <th>15</th>\n",
       "      <td>16. Freelancing - Work</td>\n",
       "      <td>16. Freelancing</td>\n",
       "      <td>Work</td>\n",
       "    </tr>\n",
       "    <tr>\n",
       "      <th>16</th>\n",
       "      <td>17. Tikkie - Personal/Bills (assuming a person...</td>\n",
       "      <td>17. Tikkie</td>\n",
       "      <td>Personal/Bills (assuming a personal bill manag...</td>\n",
       "    </tr>\n",
       "    <tr>\n",
       "      <th>17</th>\n",
       "      <td>18. Blogging - Business/Income</td>\n",
       "      <td>18. Blogging</td>\n",
       "      <td>Business/Income</td>\n",
       "    </tr>\n",
       "    <tr>\n",
       "      <th>18</th>\n",
       "      <td>19. Taxi Utrecht - Transportation</td>\n",
       "      <td>19. Taxi Utrecht</td>\n",
       "      <td>Transportation</td>\n",
       "    </tr>\n",
       "    <tr>\n",
       "      <th>19</th>\n",
       "      <td>20. Apple Services - Technology</td>\n",
       "      <td>20. Apple Services</td>\n",
       "      <td>Technology</td>\n",
       "    </tr>\n",
       "    <tr>\n",
       "      <th>20</th>\n",
       "      <td>21. Amazon Lux - Retail/E-commerce</td>\n",
       "      <td>21. Amazon Lux</td>\n",
       "      <td>Retail/E-commerce</td>\n",
       "    </tr>\n",
       "    <tr>\n",
       "      <th>21</th>\n",
       "      <td>22. ClasspassMonthly - Fitness/Sport</td>\n",
       "      <td>22. ClasspassMonthly</td>\n",
       "      <td>Sport and Fitness</td>\n",
       "    </tr>\n",
       "    <tr>\n",
       "      <th>22</th>\n",
       "      <td>23. Audible Uk AdblCo/Pymt Gbr - Entertainment...</td>\n",
       "      <td>23. Audible Uk AdblCo/Pymt Gbr</td>\n",
       "      <td>Entertainment (assuming audiobooks)</td>\n",
       "    </tr>\n",
       "  </tbody>\n",
       "</table>\n",
       "</div>"
      ],
      "text/plain": [
       "                              Transaction vs category  \\\n",
       "0                          1. Belastingdienst - Taxes   \n",
       "1                            2. Tesco Breda - Grocery   \n",
       "2                 3. Monthly Apartment Rent - Housing   \n",
       "3   4. Vishandel Sier Amsterdam - Fish/Meat (assum...   \n",
       "4              5. Selling Paintings - Business/Income   \n",
       "5              6. Spotify Ab By Adyen - Entertainment   \n",
       "6                    7. Tk Maxx Amsterdam Da - Retail   \n",
       "7                                8. Consulting - Work   \n",
       "8                              9. Aidsfonds - Charity   \n",
       "9   10. Tls Bv Inz Ov-Chipkaart - Transportation (...   \n",
       "10               11. Etos Amsterdam - Health/Wellness   \n",
       "11            12. Beta Boulders Ams Amsterdam - Sport   \n",
       "12                                13. Salary - Income   \n",
       "13  14. Bouldermuur Bv Amsterdam - Business/Invest...   \n",
       "14       15. Birat Restaurant Amsterdam - Food/Dining   \n",
       "15                             16. Freelancing - Work   \n",
       "16  17. Tikkie - Personal/Bills (assuming a person...   \n",
       "17                     18. Blogging - Business/Income   \n",
       "18                  19. Taxi Utrecht - Transportation   \n",
       "19                    20. Apple Services - Technology   \n",
       "20                 21. Amazon Lux - Retail/E-commerce   \n",
       "21               22. ClasspassMonthly - Fitness/Sport   \n",
       "22  23. Audible Uk AdblCo/Pymt Gbr - Entertainment...   \n",
       "\n",
       "                        Transaction  \\\n",
       "0                1. Belastingdienst   \n",
       "1                    2. Tesco Breda   \n",
       "2         3. Monthly Apartment Rent   \n",
       "3       4. Vishandel Sier Amsterdam   \n",
       "4              5. Selling Paintings   \n",
       "5            6. Spotify Ab By Adyen   \n",
       "6           7. Tk Maxx Amsterdam Da   \n",
       "7                     8. Consulting   \n",
       "8                      9. Aidsfonds   \n",
       "9       10. Tls Bv Inz Ov-Chipkaart   \n",
       "10               11. Etos Amsterdam   \n",
       "11  12. Beta Boulders Ams Amsterdam   \n",
       "12                       13. Salary   \n",
       "13     14. Bouldermuur Bv Amsterdam   \n",
       "14   15. Birat Restaurant Amsterdam   \n",
       "15                  16. Freelancing   \n",
       "16                       17. Tikkie   \n",
       "17                     18. Blogging   \n",
       "18                 19. Taxi Utrecht   \n",
       "19               20. Apple Services   \n",
       "20                   21. Amazon Lux   \n",
       "21             22. ClasspassMonthly   \n",
       "22   23. Audible Uk AdblCo/Pymt Gbr   \n",
       "\n",
       "                                             Category  \n",
       "0                                               Taxes  \n",
       "1                                             Grocery  \n",
       "2                                             Housing  \n",
       "3                  Fish/Meat (assuming a fish market)  \n",
       "4                                     Business/Income  \n",
       "5                                       Entertainment  \n",
       "6                                              Retail  \n",
       "7                                                Work  \n",
       "8                                             Charity  \n",
       "9     Transportation (assuming public transportation)  \n",
       "10                                Health and Wellness  \n",
       "11                                  Sport and Fitness  \n",
       "12                                             Income  \n",
       "13                                Business/Investment  \n",
       "14                                    Food and Drinks  \n",
       "15                                               Work  \n",
       "16  Personal/Bills (assuming a personal bill manag...  \n",
       "17                                    Business/Income  \n",
       "18                                     Transportation  \n",
       "19                                         Technology  \n",
       "20                                  Retail/E-commerce  \n",
       "21                                  Sport and Fitness  \n",
       "22                Entertainment (assuming audiobooks)  "
      ]
     },
     "execution_count": 16,
     "metadata": {},
     "output_type": "execute_result"
    }
   ],
   "source": [
    "# Remove the numbering eg \"1. \" from Transaction column\n",
    "categories_df_all['Transaction'] = categories_df_all['Transaction'].str.replace(r'\\d+\\.\\s+', '')\n",
    "categories_df_all"
   ]
  },
  {
   "cell_type": "code",
   "execution_count": 17,
   "metadata": {},
   "outputs": [
    {
     "data": {
      "text/plain": [
       "array(['Belastingdienst', 'Tesco Breda', 'Monthly Apartment Rent',\n",
       "       'Vishandel Sier Amsterdam', 'Selling Paintings',\n",
       "       'Spotify Ab By Adyen', 'Tk Maxx Amsterdam Da', 'Consulting',\n",
       "       'Aidsfonds', 'Tls Bv Inz Ov-Chipkaart', 'Etos Amsterdam',\n",
       "       'Beta Boulders Ams Amsterdam', 'Salary',\n",
       "       'Bouldermuur Bv Amsterdam', 'Birat Restaurant Amsterdam',\n",
       "       'Freelancing', 'Tikkie', 'Blogging', 'Taxi Utrecht',\n",
       "       'Apple Services', 'Amazon Lux', 'ClasspassMonthly',\n",
       "       'Audible Uk AdblCo/Pymt Gbr'], dtype=object)"
      ]
     },
     "execution_count": 17,
     "metadata": {},
     "output_type": "execute_result"
    }
   ],
   "source": [
    "c = categories_df_all.copy()\n",
    "c.loc[:,'Transact'] = c['Transaction'].str.split('.', expand=True)[1]\n",
    "c.loc[:,'Transact'] = c.Transact.str.strip()\n",
    "c.drop(['Transaction', 'Transaction vs category'], axis = 1, inplace = True)\n",
    "c.rename(columns = {'Transact': 'Transaction'}, inplace = True)\n",
    "c.Transaction.unique()\n"
   ]
  },
  {
   "cell_type": "code",
   "execution_count": 18,
   "metadata": {},
   "outputs": [
    {
     "data": {
      "text/html": [
       "<div>\n",
       "<style scoped>\n",
       "    .dataframe tbody tr th:only-of-type {\n",
       "        vertical-align: middle;\n",
       "    }\n",
       "\n",
       "    .dataframe tbody tr th {\n",
       "        vertical-align: top;\n",
       "    }\n",
       "\n",
       "    .dataframe thead th {\n",
       "        text-align: right;\n",
       "    }\n",
       "</style>\n",
       "<table border=\"1\" class=\"dataframe\">\n",
       "  <thead>\n",
       "    <tr style=\"text-align: right;\">\n",
       "      <th></th>\n",
       "      <th>Date</th>\n",
       "      <th>Name / Description</th>\n",
       "      <th>Expense/Income</th>\n",
       "      <th>Amount (EUR)</th>\n",
       "      <th>Category</th>\n",
       "      <th>Transaction</th>\n",
       "    </tr>\n",
       "  </thead>\n",
       "  <tbody>\n",
       "    <tr>\n",
       "      <th>0</th>\n",
       "      <td>2023-12-30</td>\n",
       "      <td>Belastingdienst</td>\n",
       "      <td>Expense</td>\n",
       "      <td>9.96</td>\n",
       "      <td>Taxes</td>\n",
       "      <td>Belastingdienst</td>\n",
       "    </tr>\n",
       "    <tr>\n",
       "      <th>1</th>\n",
       "      <td>2023-12-30</td>\n",
       "      <td>Tesco Breda</td>\n",
       "      <td>Expense</td>\n",
       "      <td>17.53</td>\n",
       "      <td>Grocery</td>\n",
       "      <td>Tesco Breda</td>\n",
       "    </tr>\n",
       "    <tr>\n",
       "      <th>2</th>\n",
       "      <td>2023-12-30</td>\n",
       "      <td>Monthly Appartment Rent</td>\n",
       "      <td>Expense</td>\n",
       "      <td>451.00</td>\n",
       "      <td>NaN</td>\n",
       "      <td>NaN</td>\n",
       "    </tr>\n",
       "    <tr>\n",
       "      <th>3</th>\n",
       "      <td>2023-12-30</td>\n",
       "      <td>Vishandel Sier Amsterdam</td>\n",
       "      <td>Expense</td>\n",
       "      <td>12.46</td>\n",
       "      <td>Fish/Meat (assuming a fish market)</td>\n",
       "      <td>Vishandel Sier Amsterdam</td>\n",
       "    </tr>\n",
       "    <tr>\n",
       "      <th>4</th>\n",
       "      <td>2023-12-29</td>\n",
       "      <td>Selling Paintings</td>\n",
       "      <td>Income</td>\n",
       "      <td>13.63</td>\n",
       "      <td>Business/Income</td>\n",
       "      <td>Selling Paintings</td>\n",
       "    </tr>\n",
       "    <tr>\n",
       "      <th>5</th>\n",
       "      <td>2023-12-29</td>\n",
       "      <td>Spotify Ab By Adyen</td>\n",
       "      <td>Expense</td>\n",
       "      <td>12.19</td>\n",
       "      <td>Entertainment</td>\n",
       "      <td>Spotify Ab By Adyen</td>\n",
       "    </tr>\n",
       "    <tr>\n",
       "      <th>6</th>\n",
       "      <td>2023-12-23</td>\n",
       "      <td>Tk Maxx Amsterdam Da</td>\n",
       "      <td>Expense</td>\n",
       "      <td>27.08</td>\n",
       "      <td>Retail</td>\n",
       "      <td>Tk Maxx Amsterdam Da</td>\n",
       "    </tr>\n",
       "    <tr>\n",
       "      <th>7</th>\n",
       "      <td>2023-12-22</td>\n",
       "      <td>Consulting</td>\n",
       "      <td>Income</td>\n",
       "      <td>541.57</td>\n",
       "      <td>Work</td>\n",
       "      <td>Consulting</td>\n",
       "    </tr>\n",
       "    <tr>\n",
       "      <th>8</th>\n",
       "      <td>2023-12-22</td>\n",
       "      <td>Aidsfonds</td>\n",
       "      <td>Expense</td>\n",
       "      <td>10.70</td>\n",
       "      <td>Charity</td>\n",
       "      <td>Aidsfonds</td>\n",
       "    </tr>\n",
       "    <tr>\n",
       "      <th>9</th>\n",
       "      <td>2023-12-20</td>\n",
       "      <td>Consulting</td>\n",
       "      <td>Income</td>\n",
       "      <td>2641.93</td>\n",
       "      <td>Work</td>\n",
       "      <td>Consulting</td>\n",
       "    </tr>\n",
       "    <tr>\n",
       "      <th>10</th>\n",
       "      <td>2023-12-19</td>\n",
       "      <td>Tls Bv Inz Ov-Chipkaart</td>\n",
       "      <td>Expense</td>\n",
       "      <td>18.90</td>\n",
       "      <td>Transportation (assuming public transportation)</td>\n",
       "      <td>Tls Bv Inz Ov-Chipkaart</td>\n",
       "    </tr>\n",
       "    <tr>\n",
       "      <th>11</th>\n",
       "      <td>2023-12-18</td>\n",
       "      <td>Etos Amsterdam</td>\n",
       "      <td>Expense</td>\n",
       "      <td>17.67</td>\n",
       "      <td>Health and Wellness</td>\n",
       "      <td>Etos Amsterdam</td>\n",
       "    </tr>\n",
       "    <tr>\n",
       "      <th>12</th>\n",
       "      <td>2023-12-18</td>\n",
       "      <td>Tesco Breda</td>\n",
       "      <td>Expense</td>\n",
       "      <td>8.81</td>\n",
       "      <td>Grocery</td>\n",
       "      <td>Tesco Breda</td>\n",
       "    </tr>\n",
       "    <tr>\n",
       "      <th>13</th>\n",
       "      <td>2023-12-18</td>\n",
       "      <td>Beta Boulders Ams Amsterdam</td>\n",
       "      <td>Expense</td>\n",
       "      <td>6.94</td>\n",
       "      <td>Sport and Fitness</td>\n",
       "      <td>Beta Boulders Ams Amsterdam</td>\n",
       "    </tr>\n",
       "    <tr>\n",
       "      <th>14</th>\n",
       "      <td>2022-11-26</td>\n",
       "      <td>Salary</td>\n",
       "      <td>Income</td>\n",
       "      <td>14.36</td>\n",
       "      <td>Income</td>\n",
       "      <td>Salary</td>\n",
       "    </tr>\n",
       "    <tr>\n",
       "      <th>15</th>\n",
       "      <td>2022-11-26</td>\n",
       "      <td>Bouldermuur Bv Amsterdam</td>\n",
       "      <td>Expense</td>\n",
       "      <td>19.27</td>\n",
       "      <td>Business/Investment</td>\n",
       "      <td>Bouldermuur Bv Amsterdam</td>\n",
       "    </tr>\n",
       "    <tr>\n",
       "      <th>16</th>\n",
       "      <td>2022-11-26</td>\n",
       "      <td>Birtat Restaurant Amsterdam</td>\n",
       "      <td>Expense</td>\n",
       "      <td>24.71</td>\n",
       "      <td>NaN</td>\n",
       "      <td>NaN</td>\n",
       "    </tr>\n",
       "    <tr>\n",
       "      <th>17</th>\n",
       "      <td>2022-11-25</td>\n",
       "      <td>Tesco Breda</td>\n",
       "      <td>Expense</td>\n",
       "      <td>17.35</td>\n",
       "      <td>Grocery</td>\n",
       "      <td>Tesco Breda</td>\n",
       "    </tr>\n",
       "    <tr>\n",
       "      <th>18</th>\n",
       "      <td>2022-11-24</td>\n",
       "      <td>Freelancing</td>\n",
       "      <td>Income</td>\n",
       "      <td>2409.55</td>\n",
       "      <td>Work</td>\n",
       "      <td>Freelancing</td>\n",
       "    </tr>\n",
       "    <tr>\n",
       "      <th>19</th>\n",
       "      <td>2022-11-19</td>\n",
       "      <td>Tikkie</td>\n",
       "      <td>Expense</td>\n",
       "      <td>20.76</td>\n",
       "      <td>Personal/Bills (assuming a personal bill manag...</td>\n",
       "      <td>Tikkie</td>\n",
       "    </tr>\n",
       "    <tr>\n",
       "      <th>20</th>\n",
       "      <td>2022-10-25</td>\n",
       "      <td>Blogging</td>\n",
       "      <td>Income</td>\n",
       "      <td>4044.27</td>\n",
       "      <td>Business/Income</td>\n",
       "      <td>Blogging</td>\n",
       "    </tr>\n",
       "    <tr>\n",
       "      <th>21</th>\n",
       "      <td>2022-10-24</td>\n",
       "      <td>Taxi Utrecht</td>\n",
       "      <td>Expense</td>\n",
       "      <td>18.90</td>\n",
       "      <td>Transportation</td>\n",
       "      <td>Taxi Utrecht</td>\n",
       "    </tr>\n",
       "    <tr>\n",
       "      <th>22</th>\n",
       "      <td>2022-10-23</td>\n",
       "      <td>Tesco Breda</td>\n",
       "      <td>Expense</td>\n",
       "      <td>27.54</td>\n",
       "      <td>Grocery</td>\n",
       "      <td>Tesco Breda</td>\n",
       "    </tr>\n",
       "    <tr>\n",
       "      <th>23</th>\n",
       "      <td>2022-10-22</td>\n",
       "      <td>Apple Services</td>\n",
       "      <td>Expense</td>\n",
       "      <td>41.25</td>\n",
       "      <td>Technology</td>\n",
       "      <td>Apple Services</td>\n",
       "    </tr>\n",
       "    <tr>\n",
       "      <th>24</th>\n",
       "      <td>2022-10-21</td>\n",
       "      <td>Tesco Breda</td>\n",
       "      <td>Expense</td>\n",
       "      <td>22.80</td>\n",
       "      <td>Grocery</td>\n",
       "      <td>Tesco Breda</td>\n",
       "    </tr>\n",
       "    <tr>\n",
       "      <th>25</th>\n",
       "      <td>2022-01-16</td>\n",
       "      <td>Amazon Lux</td>\n",
       "      <td>Expense</td>\n",
       "      <td>24.11</td>\n",
       "      <td>Retail/E-commerce</td>\n",
       "      <td>Amazon Lux</td>\n",
       "    </tr>\n",
       "    <tr>\n",
       "      <th>26</th>\n",
       "      <td>2022-01-15</td>\n",
       "      <td>Classpass* Monthly</td>\n",
       "      <td>Expense</td>\n",
       "      <td>30.08</td>\n",
       "      <td>NaN</td>\n",
       "      <td>NaN</td>\n",
       "    </tr>\n",
       "    <tr>\n",
       "      <th>27</th>\n",
       "      <td>2022-01-14</td>\n",
       "      <td>Audible Uk AdblCo/Pymt Gbr</td>\n",
       "      <td>Expense</td>\n",
       "      <td>11.00</td>\n",
       "      <td>Entertainment (assuming audiobooks)</td>\n",
       "      <td>Audible Uk AdblCo/Pymt Gbr</td>\n",
       "    </tr>\n",
       "  </tbody>\n",
       "</table>\n",
       "</div>"
      ],
      "text/plain": [
       "          Date           Name / Description Expense/Income  Amount (EUR)  \\\n",
       "0   2023-12-30              Belastingdienst        Expense          9.96   \n",
       "1   2023-12-30                  Tesco Breda        Expense         17.53   \n",
       "2   2023-12-30      Monthly Appartment Rent        Expense        451.00   \n",
       "3   2023-12-30     Vishandel Sier Amsterdam        Expense         12.46   \n",
       "4   2023-12-29            Selling Paintings         Income         13.63   \n",
       "5   2023-12-29          Spotify Ab By Adyen        Expense         12.19   \n",
       "6   2023-12-23         Tk Maxx Amsterdam Da        Expense         27.08   \n",
       "7   2023-12-22                   Consulting         Income        541.57   \n",
       "8   2023-12-22                    Aidsfonds        Expense         10.70   \n",
       "9   2023-12-20                   Consulting         Income       2641.93   \n",
       "10  2023-12-19      Tls Bv Inz Ov-Chipkaart        Expense         18.90   \n",
       "11  2023-12-18               Etos Amsterdam        Expense         17.67   \n",
       "12  2023-12-18                  Tesco Breda        Expense          8.81   \n",
       "13  2023-12-18  Beta Boulders Ams Amsterdam        Expense          6.94   \n",
       "14  2022-11-26                       Salary         Income         14.36   \n",
       "15  2022-11-26     Bouldermuur Bv Amsterdam        Expense         19.27   \n",
       "16  2022-11-26  Birtat Restaurant Amsterdam        Expense         24.71   \n",
       "17  2022-11-25                  Tesco Breda        Expense         17.35   \n",
       "18  2022-11-24                  Freelancing         Income       2409.55   \n",
       "19  2022-11-19                       Tikkie        Expense         20.76   \n",
       "20  2022-10-25                     Blogging         Income       4044.27   \n",
       "21  2022-10-24                 Taxi Utrecht        Expense         18.90   \n",
       "22  2022-10-23                  Tesco Breda        Expense         27.54   \n",
       "23  2022-10-22               Apple Services        Expense         41.25   \n",
       "24  2022-10-21                  Tesco Breda        Expense         22.80   \n",
       "25  2022-01-16                   Amazon Lux        Expense         24.11   \n",
       "26  2022-01-15           Classpass* Monthly        Expense         30.08   \n",
       "27  2022-01-14   Audible Uk AdblCo/Pymt Gbr        Expense         11.00   \n",
       "\n",
       "                                             Category  \\\n",
       "0                                               Taxes   \n",
       "1                                             Grocery   \n",
       "2                                                 NaN   \n",
       "3                  Fish/Meat (assuming a fish market)   \n",
       "4                                     Business/Income   \n",
       "5                                       Entertainment   \n",
       "6                                              Retail   \n",
       "7                                                Work   \n",
       "8                                             Charity   \n",
       "9                                                Work   \n",
       "10    Transportation (assuming public transportation)   \n",
       "11                                Health and Wellness   \n",
       "12                                            Grocery   \n",
       "13                                  Sport and Fitness   \n",
       "14                                             Income   \n",
       "15                                Business/Investment   \n",
       "16                                                NaN   \n",
       "17                                            Grocery   \n",
       "18                                               Work   \n",
       "19  Personal/Bills (assuming a personal bill manag...   \n",
       "20                                    Business/Income   \n",
       "21                                     Transportation   \n",
       "22                                            Grocery   \n",
       "23                                         Technology   \n",
       "24                                            Grocery   \n",
       "25                                  Retail/E-commerce   \n",
       "26                                                NaN   \n",
       "27                Entertainment (assuming audiobooks)   \n",
       "\n",
       "                    Transaction  \n",
       "0               Belastingdienst  \n",
       "1                   Tesco Breda  \n",
       "2                           NaN  \n",
       "3      Vishandel Sier Amsterdam  \n",
       "4             Selling Paintings  \n",
       "5           Spotify Ab By Adyen  \n",
       "6          Tk Maxx Amsterdam Da  \n",
       "7                    Consulting  \n",
       "8                     Aidsfonds  \n",
       "9                    Consulting  \n",
       "10      Tls Bv Inz Ov-Chipkaart  \n",
       "11               Etos Amsterdam  \n",
       "12                  Tesco Breda  \n",
       "13  Beta Boulders Ams Amsterdam  \n",
       "14                       Salary  \n",
       "15     Bouldermuur Bv Amsterdam  \n",
       "16                          NaN  \n",
       "17                  Tesco Breda  \n",
       "18                  Freelancing  \n",
       "19                       Tikkie  \n",
       "20                     Blogging  \n",
       "21                 Taxi Utrecht  \n",
       "22                  Tesco Breda  \n",
       "23               Apple Services  \n",
       "24                  Tesco Breda  \n",
       "25                   Amazon Lux  \n",
       "26                          NaN  \n",
       "27   Audible Uk AdblCo/Pymt Gbr  "
      ]
     },
     "execution_count": 18,
     "metadata": {},
     "output_type": "execute_result"
    }
   ],
   "source": [
    "# Merge the categories_df_all with the transactions_2022_2023.csv dataframe (df)\n",
    "df = pd.read_csv(\"transactions_2022_2023.csv\")\n",
    "df.loc[df['Name / Description'].str.contains(\"Spotify\"), 'Name / Description'] = \"Spotify Ab By Adyen\"\n",
    "df = df.merge(c, left_on='Name / Description', right_on='Transaction', how='left')\n",
    "df"
   ]
  },
  {
   "cell_type": "code",
   "execution_count": 19,
   "metadata": {},
   "outputs": [],
   "source": [
    "df.to_csv(\"transactions_2022_2023_categorized.csv\", index=False)"
   ]
  },
  {
   "cell_type": "code",
   "execution_count": 20,
   "metadata": {},
   "outputs": [],
   "source": [
    "import pandas as pd\n",
    "import numpy as np\n",
    "import plotly.express as px\n",
    "import panel as pn"
   ]
  },
  {
   "cell_type": "code",
   "execution_count": 21,
   "metadata": {},
   "outputs": [
    {
     "data": {
      "text/html": [
       "<div>\n",
       "<style scoped>\n",
       "    .dataframe tbody tr th:only-of-type {\n",
       "        vertical-align: middle;\n",
       "    }\n",
       "\n",
       "    .dataframe tbody tr th {\n",
       "        vertical-align: top;\n",
       "    }\n",
       "\n",
       "    .dataframe thead th {\n",
       "        text-align: right;\n",
       "    }\n",
       "</style>\n",
       "<table border=\"1\" class=\"dataframe\">\n",
       "  <thead>\n",
       "    <tr style=\"text-align: right;\">\n",
       "      <th></th>\n",
       "      <th>Date</th>\n",
       "      <th>Name / Description</th>\n",
       "      <th>Expense/Income</th>\n",
       "      <th>Amount (EUR)</th>\n",
       "      <th>Category</th>\n",
       "      <th>Year</th>\n",
       "      <th>Month</th>\n",
       "      <th>Month Name</th>\n",
       "    </tr>\n",
       "  </thead>\n",
       "  <tbody>\n",
       "    <tr>\n",
       "      <th>0</th>\n",
       "      <td>2023-12-30</td>\n",
       "      <td>Belastingdienst</td>\n",
       "      <td>Expense</td>\n",
       "      <td>9.96</td>\n",
       "      <td>Taxes</td>\n",
       "      <td>2023</td>\n",
       "      <td>12</td>\n",
       "      <td>Dec</td>\n",
       "    </tr>\n",
       "    <tr>\n",
       "      <th>1</th>\n",
       "      <td>2023-12-30</td>\n",
       "      <td>Tesco Breda</td>\n",
       "      <td>Expense</td>\n",
       "      <td>17.53</td>\n",
       "      <td>Grocery</td>\n",
       "      <td>2023</td>\n",
       "      <td>12</td>\n",
       "      <td>Dec</td>\n",
       "    </tr>\n",
       "    <tr>\n",
       "      <th>2</th>\n",
       "      <td>2023-12-30</td>\n",
       "      <td>Monthly Appartment Rent</td>\n",
       "      <td>Expense</td>\n",
       "      <td>451.00</td>\n",
       "      <td>NaN</td>\n",
       "      <td>2023</td>\n",
       "      <td>12</td>\n",
       "      <td>Dec</td>\n",
       "    </tr>\n",
       "    <tr>\n",
       "      <th>3</th>\n",
       "      <td>2023-12-30</td>\n",
       "      <td>Vishandel Sier Amsterdam</td>\n",
       "      <td>Expense</td>\n",
       "      <td>12.46</td>\n",
       "      <td>Fish/Meat (assuming a fish market)</td>\n",
       "      <td>2023</td>\n",
       "      <td>12</td>\n",
       "      <td>Dec</td>\n",
       "    </tr>\n",
       "    <tr>\n",
       "      <th>4</th>\n",
       "      <td>2023-12-29</td>\n",
       "      <td>Selling Paintings</td>\n",
       "      <td>Income</td>\n",
       "      <td>13.63</td>\n",
       "      <td>Business/Income</td>\n",
       "      <td>2023</td>\n",
       "      <td>12</td>\n",
       "      <td>Dec</td>\n",
       "    </tr>\n",
       "    <tr>\n",
       "      <th>5</th>\n",
       "      <td>2023-12-29</td>\n",
       "      <td>Spotify Ab By Adyen</td>\n",
       "      <td>Expense</td>\n",
       "      <td>12.19</td>\n",
       "      <td>Entertainment</td>\n",
       "      <td>2023</td>\n",
       "      <td>12</td>\n",
       "      <td>Dec</td>\n",
       "    </tr>\n",
       "    <tr>\n",
       "      <th>6</th>\n",
       "      <td>2023-12-23</td>\n",
       "      <td>Tk Maxx Amsterdam Da</td>\n",
       "      <td>Expense</td>\n",
       "      <td>27.08</td>\n",
       "      <td>Retail</td>\n",
       "      <td>2023</td>\n",
       "      <td>12</td>\n",
       "      <td>Dec</td>\n",
       "    </tr>\n",
       "    <tr>\n",
       "      <th>7</th>\n",
       "      <td>2023-12-22</td>\n",
       "      <td>Consulting</td>\n",
       "      <td>Income</td>\n",
       "      <td>541.57</td>\n",
       "      <td>Work</td>\n",
       "      <td>2023</td>\n",
       "      <td>12</td>\n",
       "      <td>Dec</td>\n",
       "    </tr>\n",
       "    <tr>\n",
       "      <th>8</th>\n",
       "      <td>2023-12-22</td>\n",
       "      <td>Aidsfonds</td>\n",
       "      <td>Expense</td>\n",
       "      <td>10.70</td>\n",
       "      <td>Charity</td>\n",
       "      <td>2023</td>\n",
       "      <td>12</td>\n",
       "      <td>Dec</td>\n",
       "    </tr>\n",
       "    <tr>\n",
       "      <th>9</th>\n",
       "      <td>2023-12-20</td>\n",
       "      <td>Consulting</td>\n",
       "      <td>Income</td>\n",
       "      <td>2641.93</td>\n",
       "      <td>Work</td>\n",
       "      <td>2023</td>\n",
       "      <td>12</td>\n",
       "      <td>Dec</td>\n",
       "    </tr>\n",
       "    <tr>\n",
       "      <th>10</th>\n",
       "      <td>2023-12-19</td>\n",
       "      <td>Tls Bv Inz Ov-Chipkaart</td>\n",
       "      <td>Expense</td>\n",
       "      <td>18.90</td>\n",
       "      <td>Transportation (assuming public transportation)</td>\n",
       "      <td>2023</td>\n",
       "      <td>12</td>\n",
       "      <td>Dec</td>\n",
       "    </tr>\n",
       "    <tr>\n",
       "      <th>11</th>\n",
       "      <td>2023-12-18</td>\n",
       "      <td>Etos Amsterdam</td>\n",
       "      <td>Expense</td>\n",
       "      <td>17.67</td>\n",
       "      <td>Health and Wellness</td>\n",
       "      <td>2023</td>\n",
       "      <td>12</td>\n",
       "      <td>Dec</td>\n",
       "    </tr>\n",
       "    <tr>\n",
       "      <th>12</th>\n",
       "      <td>2023-12-18</td>\n",
       "      <td>Tesco Breda</td>\n",
       "      <td>Expense</td>\n",
       "      <td>8.81</td>\n",
       "      <td>Grocery</td>\n",
       "      <td>2023</td>\n",
       "      <td>12</td>\n",
       "      <td>Dec</td>\n",
       "    </tr>\n",
       "    <tr>\n",
       "      <th>13</th>\n",
       "      <td>2023-12-18</td>\n",
       "      <td>Beta Boulders Ams Amsterdam</td>\n",
       "      <td>Expense</td>\n",
       "      <td>6.94</td>\n",
       "      <td>Sport and Fitness</td>\n",
       "      <td>2023</td>\n",
       "      <td>12</td>\n",
       "      <td>Dec</td>\n",
       "    </tr>\n",
       "    <tr>\n",
       "      <th>14</th>\n",
       "      <td>2022-11-26</td>\n",
       "      <td>Salary</td>\n",
       "      <td>Income</td>\n",
       "      <td>14.36</td>\n",
       "      <td>Income</td>\n",
       "      <td>2022</td>\n",
       "      <td>11</td>\n",
       "      <td>Nov</td>\n",
       "    </tr>\n",
       "    <tr>\n",
       "      <th>15</th>\n",
       "      <td>2022-11-26</td>\n",
       "      <td>Bouldermuur Bv Amsterdam</td>\n",
       "      <td>Expense</td>\n",
       "      <td>19.27</td>\n",
       "      <td>Business/Investment</td>\n",
       "      <td>2022</td>\n",
       "      <td>11</td>\n",
       "      <td>Nov</td>\n",
       "    </tr>\n",
       "    <tr>\n",
       "      <th>16</th>\n",
       "      <td>2022-11-26</td>\n",
       "      <td>Birtat Restaurant Amsterdam</td>\n",
       "      <td>Expense</td>\n",
       "      <td>24.71</td>\n",
       "      <td>NaN</td>\n",
       "      <td>2022</td>\n",
       "      <td>11</td>\n",
       "      <td>Nov</td>\n",
       "    </tr>\n",
       "    <tr>\n",
       "      <th>17</th>\n",
       "      <td>2022-11-25</td>\n",
       "      <td>Tesco Breda</td>\n",
       "      <td>Expense</td>\n",
       "      <td>17.35</td>\n",
       "      <td>Grocery</td>\n",
       "      <td>2022</td>\n",
       "      <td>11</td>\n",
       "      <td>Nov</td>\n",
       "    </tr>\n",
       "    <tr>\n",
       "      <th>18</th>\n",
       "      <td>2022-11-24</td>\n",
       "      <td>Freelancing</td>\n",
       "      <td>Income</td>\n",
       "      <td>2409.55</td>\n",
       "      <td>Work</td>\n",
       "      <td>2022</td>\n",
       "      <td>11</td>\n",
       "      <td>Nov</td>\n",
       "    </tr>\n",
       "    <tr>\n",
       "      <th>19</th>\n",
       "      <td>2022-11-19</td>\n",
       "      <td>Tikkie</td>\n",
       "      <td>Expense</td>\n",
       "      <td>20.76</td>\n",
       "      <td>Personal/Bills (assuming a personal bill manag...</td>\n",
       "      <td>2022</td>\n",
       "      <td>11</td>\n",
       "      <td>Nov</td>\n",
       "    </tr>\n",
       "    <tr>\n",
       "      <th>20</th>\n",
       "      <td>2022-10-25</td>\n",
       "      <td>Blogging</td>\n",
       "      <td>Income</td>\n",
       "      <td>4044.27</td>\n",
       "      <td>Business/Income</td>\n",
       "      <td>2022</td>\n",
       "      <td>10</td>\n",
       "      <td>Oct</td>\n",
       "    </tr>\n",
       "    <tr>\n",
       "      <th>21</th>\n",
       "      <td>2022-10-24</td>\n",
       "      <td>Taxi Utrecht</td>\n",
       "      <td>Expense</td>\n",
       "      <td>18.90</td>\n",
       "      <td>Transportation</td>\n",
       "      <td>2022</td>\n",
       "      <td>10</td>\n",
       "      <td>Oct</td>\n",
       "    </tr>\n",
       "    <tr>\n",
       "      <th>22</th>\n",
       "      <td>2022-10-23</td>\n",
       "      <td>Tesco Breda</td>\n",
       "      <td>Expense</td>\n",
       "      <td>27.54</td>\n",
       "      <td>Grocery</td>\n",
       "      <td>2022</td>\n",
       "      <td>10</td>\n",
       "      <td>Oct</td>\n",
       "    </tr>\n",
       "    <tr>\n",
       "      <th>23</th>\n",
       "      <td>2022-10-22</td>\n",
       "      <td>Apple Services</td>\n",
       "      <td>Expense</td>\n",
       "      <td>41.25</td>\n",
       "      <td>Technology</td>\n",
       "      <td>2022</td>\n",
       "      <td>10</td>\n",
       "      <td>Oct</td>\n",
       "    </tr>\n",
       "    <tr>\n",
       "      <th>24</th>\n",
       "      <td>2022-10-21</td>\n",
       "      <td>Tesco Breda</td>\n",
       "      <td>Expense</td>\n",
       "      <td>22.80</td>\n",
       "      <td>Grocery</td>\n",
       "      <td>2022</td>\n",
       "      <td>10</td>\n",
       "      <td>Oct</td>\n",
       "    </tr>\n",
       "    <tr>\n",
       "      <th>25</th>\n",
       "      <td>2022-01-16</td>\n",
       "      <td>Amazon Lux</td>\n",
       "      <td>Expense</td>\n",
       "      <td>24.11</td>\n",
       "      <td>Retail/E-commerce</td>\n",
       "      <td>2022</td>\n",
       "      <td>1</td>\n",
       "      <td>Jan</td>\n",
       "    </tr>\n",
       "    <tr>\n",
       "      <th>26</th>\n",
       "      <td>2022-01-15</td>\n",
       "      <td>Classpass* Monthly</td>\n",
       "      <td>Expense</td>\n",
       "      <td>30.08</td>\n",
       "      <td>NaN</td>\n",
       "      <td>2022</td>\n",
       "      <td>1</td>\n",
       "      <td>Jan</td>\n",
       "    </tr>\n",
       "    <tr>\n",
       "      <th>27</th>\n",
       "      <td>2022-01-14</td>\n",
       "      <td>Audible Uk AdblCo/Pymt Gbr</td>\n",
       "      <td>Expense</td>\n",
       "      <td>11.00</td>\n",
       "      <td>Entertainment (assuming audiobooks)</td>\n",
       "      <td>2022</td>\n",
       "      <td>1</td>\n",
       "      <td>Jan</td>\n",
       "    </tr>\n",
       "  </tbody>\n",
       "</table>\n",
       "</div>"
      ],
      "text/plain": [
       "          Date           Name / Description Expense/Income  Amount (EUR)  \\\n",
       "0   2023-12-30              Belastingdienst        Expense          9.96   \n",
       "1   2023-12-30                  Tesco Breda        Expense         17.53   \n",
       "2   2023-12-30      Monthly Appartment Rent        Expense        451.00   \n",
       "3   2023-12-30     Vishandel Sier Amsterdam        Expense         12.46   \n",
       "4   2023-12-29            Selling Paintings         Income         13.63   \n",
       "5   2023-12-29          Spotify Ab By Adyen        Expense         12.19   \n",
       "6   2023-12-23         Tk Maxx Amsterdam Da        Expense         27.08   \n",
       "7   2023-12-22                   Consulting         Income        541.57   \n",
       "8   2023-12-22                    Aidsfonds        Expense         10.70   \n",
       "9   2023-12-20                   Consulting         Income       2641.93   \n",
       "10  2023-12-19      Tls Bv Inz Ov-Chipkaart        Expense         18.90   \n",
       "11  2023-12-18               Etos Amsterdam        Expense         17.67   \n",
       "12  2023-12-18                  Tesco Breda        Expense          8.81   \n",
       "13  2023-12-18  Beta Boulders Ams Amsterdam        Expense          6.94   \n",
       "14  2022-11-26                       Salary         Income         14.36   \n",
       "15  2022-11-26     Bouldermuur Bv Amsterdam        Expense         19.27   \n",
       "16  2022-11-26  Birtat Restaurant Amsterdam        Expense         24.71   \n",
       "17  2022-11-25                  Tesco Breda        Expense         17.35   \n",
       "18  2022-11-24                  Freelancing         Income       2409.55   \n",
       "19  2022-11-19                       Tikkie        Expense         20.76   \n",
       "20  2022-10-25                     Blogging         Income       4044.27   \n",
       "21  2022-10-24                 Taxi Utrecht        Expense         18.90   \n",
       "22  2022-10-23                  Tesco Breda        Expense         27.54   \n",
       "23  2022-10-22               Apple Services        Expense         41.25   \n",
       "24  2022-10-21                  Tesco Breda        Expense         22.80   \n",
       "25  2022-01-16                   Amazon Lux        Expense         24.11   \n",
       "26  2022-01-15           Classpass* Monthly        Expense         30.08   \n",
       "27  2022-01-14   Audible Uk AdblCo/Pymt Gbr        Expense         11.00   \n",
       "\n",
       "                                             Category  Year  Month Month Name  \n",
       "0                                               Taxes  2023     12        Dec  \n",
       "1                                             Grocery  2023     12        Dec  \n",
       "2                                                 NaN  2023     12        Dec  \n",
       "3                  Fish/Meat (assuming a fish market)  2023     12        Dec  \n",
       "4                                     Business/Income  2023     12        Dec  \n",
       "5                                       Entertainment  2023     12        Dec  \n",
       "6                                              Retail  2023     12        Dec  \n",
       "7                                                Work  2023     12        Dec  \n",
       "8                                             Charity  2023     12        Dec  \n",
       "9                                                Work  2023     12        Dec  \n",
       "10    Transportation (assuming public transportation)  2023     12        Dec  \n",
       "11                                Health and Wellness  2023     12        Dec  \n",
       "12                                            Grocery  2023     12        Dec  \n",
       "13                                  Sport and Fitness  2023     12        Dec  \n",
       "14                                             Income  2022     11        Nov  \n",
       "15                                Business/Investment  2022     11        Nov  \n",
       "16                                                NaN  2022     11        Nov  \n",
       "17                                            Grocery  2022     11        Nov  \n",
       "18                                               Work  2022     11        Nov  \n",
       "19  Personal/Bills (assuming a personal bill manag...  2022     11        Nov  \n",
       "20                                    Business/Income  2022     10        Oct  \n",
       "21                                     Transportation  2022     10        Oct  \n",
       "22                                            Grocery  2022     10        Oct  \n",
       "23                                         Technology  2022     10        Oct  \n",
       "24                                            Grocery  2022     10        Oct  \n",
       "25                                  Retail/E-commerce  2022      1        Jan  \n",
       "26                                                NaN  2022      1        Jan  \n",
       "27                Entertainment (assuming audiobooks)  2022      1        Jan  "
      ]
     },
     "execution_count": 21,
     "metadata": {},
     "output_type": "execute_result"
    }
   ],
   "source": [
    "# Read transactions_2022_2023_categorized.csv\n",
    "df = pd.read_csv('transactions_2022_2023_categorized.csv')\n",
    "# Add year and month columns\n",
    "df['Year'] = pd.to_datetime(df['Date']).dt.year\n",
    "df['Month'] = pd.to_datetime(df['Date']).dt.month\n",
    "df['Month Name'] = pd.to_datetime(df['Date']).dt.strftime(\"%b\")\n",
    "# Remove \"Transaction\" and \"Transaction vs category\" columns\n",
    "df = df.drop(columns=['Transaction'])\n",
    "df"
   ]
  },
  {
   "cell_type": "code",
   "execution_count": 22,
   "metadata": {},
   "outputs": [],
   "source": [
    "\n",
    "# For Income rows, assign Name / Description to Category\n",
    "df['Category'] = np.where(df['Expense/Income'] == 'Income', df['Name / Description'], df['Category'])"
   ]
  },
  {
   "cell_type": "code",
   "execution_count": 23,
   "metadata": {},
   "outputs": [],
   "source": [
    "def make_pie_chart(df, year, label):\n",
    "    # Filter the dataset for expense transactions\n",
    "    sub_df = df[(df['Expense/Income'] == label) & (df['Year'] == year)]\n",
    "\n",
    "    color_scale = px.colors.qualitative.Set2\n",
    "    \n",
    "    pie_fig = px.pie(sub_df, values='Amount (EUR)', names='Category', color_discrete_sequence = color_scale)\n",
    "    pie_fig.update_traces(textposition='inside', direction ='clockwise', hole=0.3, textinfo=\"label+percent\")\n",
    "\n",
    "    total_expense = df[(df['Expense/Income'] == 'Expense') & (df['Year'] == year)]['Amount (EUR)'].sum() \n",
    "    total_income = df[(df['Expense/Income'] == 'Income') & (df['Year'] == year)]['Amount (EUR)'].sum()\n",
    "    \n",
    "    if label == 'Expense':\n",
    "        total_text = \"€ \" + str(round(total_expense))\n",
    "\n",
    "        # Saving rate:\n",
    "        saving_rate = round((total_income - total_expense)/total_income*100)\n",
    "        saving_rate_text = \": Saving rate \" + str(saving_rate) + \"%\"\n",
    "    else:\n",
    "        saving_rate_text = \"\"\n",
    "        total_text = \"€ \" + str(round(total_income))\n",
    "\n",
    "    pie_fig.update_layout(uniformtext_minsize=10, \n",
    "                        uniformtext_mode='hide',\n",
    "                        title=dict(text=label+\" Breakdown \" + str(year) + saving_rate_text),\n",
    "                        # Add annotations in the center of the donut.\n",
    "                        annotations=[\n",
    "                            dict(\n",
    "                                text=total_text, \n",
    "                                # Square unit grid starting at bottom left of page\n",
    "                                x=0.5, y=0.5, font_size=12,\n",
    "                                # Hide the arrow that points to the [x,y] coordinate\n",
    "                                showarrow=False\n",
    "                            )\n",
    "                        ]\n",
    "                    )\n",
    "    return pie_fig"
   ]
  },
  {
   "cell_type": "code",
   "execution_count": 24,
   "metadata": {},
   "outputs": [
    {
     "data": {
      "application/vnd.plotly.v1+json": {
       "config": {
        "plotlyServerURL": "https://plot.ly"
       },
       "data": [
        {
         "direction": "clockwise",
         "domain": {
          "x": [
           0,
           1
          ],
          "y": [
           0,
           1
          ]
         },
         "hole": 0.3,
         "hovertemplate": "Category=%{label}<br>Amount (EUR)=%{value}<extra></extra>",
         "labels": [
          "Salary",
          "Freelancing",
          "Blogging"
         ],
         "legendgroup": "",
         "name": "",
         "showlegend": true,
         "textinfo": "label+percent",
         "textposition": "inside",
         "type": "pie",
         "values": [
          14.36,
          2409.55,
          4044.27
         ]
        }
       ],
       "layout": {
        "annotations": [
         {
          "font": {
           "size": 12
          },
          "showarrow": false,
          "text": "€ 6468",
          "x": 0.5,
          "y": 0.5
         }
        ],
        "legend": {
         "tracegroupgap": 0
        },
        "margin": {
         "t": 60
        },
        "piecolorway": [
         "rgb(102,194,165)",
         "rgb(252,141,98)",
         "rgb(141,160,203)",
         "rgb(231,138,195)",
         "rgb(166,216,84)",
         "rgb(255,217,47)",
         "rgb(229,196,148)",
         "rgb(179,179,179)"
        ],
        "template": {
         "data": {
          "bar": [
           {
            "error_x": {
             "color": "#2a3f5f"
            },
            "error_y": {
             "color": "#2a3f5f"
            },
            "marker": {
             "line": {
              "color": "#E5ECF6",
              "width": 0.5
             },
             "pattern": {
              "fillmode": "overlay",
              "size": 10,
              "solidity": 0.2
             }
            },
            "type": "bar"
           }
          ],
          "barpolar": [
           {
            "marker": {
             "line": {
              "color": "#E5ECF6",
              "width": 0.5
             },
             "pattern": {
              "fillmode": "overlay",
              "size": 10,
              "solidity": 0.2
             }
            },
            "type": "barpolar"
           }
          ],
          "carpet": [
           {
            "aaxis": {
             "endlinecolor": "#2a3f5f",
             "gridcolor": "white",
             "linecolor": "white",
             "minorgridcolor": "white",
             "startlinecolor": "#2a3f5f"
            },
            "baxis": {
             "endlinecolor": "#2a3f5f",
             "gridcolor": "white",
             "linecolor": "white",
             "minorgridcolor": "white",
             "startlinecolor": "#2a3f5f"
            },
            "type": "carpet"
           }
          ],
          "choropleth": [
           {
            "colorbar": {
             "outlinewidth": 0,
             "ticks": ""
            },
            "type": "choropleth"
           }
          ],
          "contour": [
           {
            "colorbar": {
             "outlinewidth": 0,
             "ticks": ""
            },
            "colorscale": [
             [
              0,
              "#0d0887"
             ],
             [
              0.1111111111111111,
              "#46039f"
             ],
             [
              0.2222222222222222,
              "#7201a8"
             ],
             [
              0.3333333333333333,
              "#9c179e"
             ],
             [
              0.4444444444444444,
              "#bd3786"
             ],
             [
              0.5555555555555556,
              "#d8576b"
             ],
             [
              0.6666666666666666,
              "#ed7953"
             ],
             [
              0.7777777777777778,
              "#fb9f3a"
             ],
             [
              0.8888888888888888,
              "#fdca26"
             ],
             [
              1,
              "#f0f921"
             ]
            ],
            "type": "contour"
           }
          ],
          "contourcarpet": [
           {
            "colorbar": {
             "outlinewidth": 0,
             "ticks": ""
            },
            "type": "contourcarpet"
           }
          ],
          "heatmap": [
           {
            "colorbar": {
             "outlinewidth": 0,
             "ticks": ""
            },
            "colorscale": [
             [
              0,
              "#0d0887"
             ],
             [
              0.1111111111111111,
              "#46039f"
             ],
             [
              0.2222222222222222,
              "#7201a8"
             ],
             [
              0.3333333333333333,
              "#9c179e"
             ],
             [
              0.4444444444444444,
              "#bd3786"
             ],
             [
              0.5555555555555556,
              "#d8576b"
             ],
             [
              0.6666666666666666,
              "#ed7953"
             ],
             [
              0.7777777777777778,
              "#fb9f3a"
             ],
             [
              0.8888888888888888,
              "#fdca26"
             ],
             [
              1,
              "#f0f921"
             ]
            ],
            "type": "heatmap"
           }
          ],
          "heatmapgl": [
           {
            "colorbar": {
             "outlinewidth": 0,
             "ticks": ""
            },
            "colorscale": [
             [
              0,
              "#0d0887"
             ],
             [
              0.1111111111111111,
              "#46039f"
             ],
             [
              0.2222222222222222,
              "#7201a8"
             ],
             [
              0.3333333333333333,
              "#9c179e"
             ],
             [
              0.4444444444444444,
              "#bd3786"
             ],
             [
              0.5555555555555556,
              "#d8576b"
             ],
             [
              0.6666666666666666,
              "#ed7953"
             ],
             [
              0.7777777777777778,
              "#fb9f3a"
             ],
             [
              0.8888888888888888,
              "#fdca26"
             ],
             [
              1,
              "#f0f921"
             ]
            ],
            "type": "heatmapgl"
           }
          ],
          "histogram": [
           {
            "marker": {
             "pattern": {
              "fillmode": "overlay",
              "size": 10,
              "solidity": 0.2
             }
            },
            "type": "histogram"
           }
          ],
          "histogram2d": [
           {
            "colorbar": {
             "outlinewidth": 0,
             "ticks": ""
            },
            "colorscale": [
             [
              0,
              "#0d0887"
             ],
             [
              0.1111111111111111,
              "#46039f"
             ],
             [
              0.2222222222222222,
              "#7201a8"
             ],
             [
              0.3333333333333333,
              "#9c179e"
             ],
             [
              0.4444444444444444,
              "#bd3786"
             ],
             [
              0.5555555555555556,
              "#d8576b"
             ],
             [
              0.6666666666666666,
              "#ed7953"
             ],
             [
              0.7777777777777778,
              "#fb9f3a"
             ],
             [
              0.8888888888888888,
              "#fdca26"
             ],
             [
              1,
              "#f0f921"
             ]
            ],
            "type": "histogram2d"
           }
          ],
          "histogram2dcontour": [
           {
            "colorbar": {
             "outlinewidth": 0,
             "ticks": ""
            },
            "colorscale": [
             [
              0,
              "#0d0887"
             ],
             [
              0.1111111111111111,
              "#46039f"
             ],
             [
              0.2222222222222222,
              "#7201a8"
             ],
             [
              0.3333333333333333,
              "#9c179e"
             ],
             [
              0.4444444444444444,
              "#bd3786"
             ],
             [
              0.5555555555555556,
              "#d8576b"
             ],
             [
              0.6666666666666666,
              "#ed7953"
             ],
             [
              0.7777777777777778,
              "#fb9f3a"
             ],
             [
              0.8888888888888888,
              "#fdca26"
             ],
             [
              1,
              "#f0f921"
             ]
            ],
            "type": "histogram2dcontour"
           }
          ],
          "mesh3d": [
           {
            "colorbar": {
             "outlinewidth": 0,
             "ticks": ""
            },
            "type": "mesh3d"
           }
          ],
          "parcoords": [
           {
            "line": {
             "colorbar": {
              "outlinewidth": 0,
              "ticks": ""
             }
            },
            "type": "parcoords"
           }
          ],
          "pie": [
           {
            "automargin": true,
            "type": "pie"
           }
          ],
          "scatter": [
           {
            "fillpattern": {
             "fillmode": "overlay",
             "size": 10,
             "solidity": 0.2
            },
            "type": "scatter"
           }
          ],
          "scatter3d": [
           {
            "line": {
             "colorbar": {
              "outlinewidth": 0,
              "ticks": ""
             }
            },
            "marker": {
             "colorbar": {
              "outlinewidth": 0,
              "ticks": ""
             }
            },
            "type": "scatter3d"
           }
          ],
          "scattercarpet": [
           {
            "marker": {
             "colorbar": {
              "outlinewidth": 0,
              "ticks": ""
             }
            },
            "type": "scattercarpet"
           }
          ],
          "scattergeo": [
           {
            "marker": {
             "colorbar": {
              "outlinewidth": 0,
              "ticks": ""
             }
            },
            "type": "scattergeo"
           }
          ],
          "scattergl": [
           {
            "marker": {
             "colorbar": {
              "outlinewidth": 0,
              "ticks": ""
             }
            },
            "type": "scattergl"
           }
          ],
          "scattermapbox": [
           {
            "marker": {
             "colorbar": {
              "outlinewidth": 0,
              "ticks": ""
             }
            },
            "type": "scattermapbox"
           }
          ],
          "scatterpolar": [
           {
            "marker": {
             "colorbar": {
              "outlinewidth": 0,
              "ticks": ""
             }
            },
            "type": "scatterpolar"
           }
          ],
          "scatterpolargl": [
           {
            "marker": {
             "colorbar": {
              "outlinewidth": 0,
              "ticks": ""
             }
            },
            "type": "scatterpolargl"
           }
          ],
          "scatterternary": [
           {
            "marker": {
             "colorbar": {
              "outlinewidth": 0,
              "ticks": ""
             }
            },
            "type": "scatterternary"
           }
          ],
          "surface": [
           {
            "colorbar": {
             "outlinewidth": 0,
             "ticks": ""
            },
            "colorscale": [
             [
              0,
              "#0d0887"
             ],
             [
              0.1111111111111111,
              "#46039f"
             ],
             [
              0.2222222222222222,
              "#7201a8"
             ],
             [
              0.3333333333333333,
              "#9c179e"
             ],
             [
              0.4444444444444444,
              "#bd3786"
             ],
             [
              0.5555555555555556,
              "#d8576b"
             ],
             [
              0.6666666666666666,
              "#ed7953"
             ],
             [
              0.7777777777777778,
              "#fb9f3a"
             ],
             [
              0.8888888888888888,
              "#fdca26"
             ],
             [
              1,
              "#f0f921"
             ]
            ],
            "type": "surface"
           }
          ],
          "table": [
           {
            "cells": {
             "fill": {
              "color": "#EBF0F8"
             },
             "line": {
              "color": "white"
             }
            },
            "header": {
             "fill": {
              "color": "#C8D4E3"
             },
             "line": {
              "color": "white"
             }
            },
            "type": "table"
           }
          ]
         },
         "layout": {
          "annotationdefaults": {
           "arrowcolor": "#2a3f5f",
           "arrowhead": 0,
           "arrowwidth": 1
          },
          "autotypenumbers": "strict",
          "coloraxis": {
           "colorbar": {
            "outlinewidth": 0,
            "ticks": ""
           }
          },
          "colorscale": {
           "diverging": [
            [
             0,
             "#8e0152"
            ],
            [
             0.1,
             "#c51b7d"
            ],
            [
             0.2,
             "#de77ae"
            ],
            [
             0.3,
             "#f1b6da"
            ],
            [
             0.4,
             "#fde0ef"
            ],
            [
             0.5,
             "#f7f7f7"
            ],
            [
             0.6,
             "#e6f5d0"
            ],
            [
             0.7,
             "#b8e186"
            ],
            [
             0.8,
             "#7fbc41"
            ],
            [
             0.9,
             "#4d9221"
            ],
            [
             1,
             "#276419"
            ]
           ],
           "sequential": [
            [
             0,
             "#0d0887"
            ],
            [
             0.1111111111111111,
             "#46039f"
            ],
            [
             0.2222222222222222,
             "#7201a8"
            ],
            [
             0.3333333333333333,
             "#9c179e"
            ],
            [
             0.4444444444444444,
             "#bd3786"
            ],
            [
             0.5555555555555556,
             "#d8576b"
            ],
            [
             0.6666666666666666,
             "#ed7953"
            ],
            [
             0.7777777777777778,
             "#fb9f3a"
            ],
            [
             0.8888888888888888,
             "#fdca26"
            ],
            [
             1,
             "#f0f921"
            ]
           ],
           "sequentialminus": [
            [
             0,
             "#0d0887"
            ],
            [
             0.1111111111111111,
             "#46039f"
            ],
            [
             0.2222222222222222,
             "#7201a8"
            ],
            [
             0.3333333333333333,
             "#9c179e"
            ],
            [
             0.4444444444444444,
             "#bd3786"
            ],
            [
             0.5555555555555556,
             "#d8576b"
            ],
            [
             0.6666666666666666,
             "#ed7953"
            ],
            [
             0.7777777777777778,
             "#fb9f3a"
            ],
            [
             0.8888888888888888,
             "#fdca26"
            ],
            [
             1,
             "#f0f921"
            ]
           ]
          },
          "colorway": [
           "#636efa",
           "#EF553B",
           "#00cc96",
           "#ab63fa",
           "#FFA15A",
           "#19d3f3",
           "#FF6692",
           "#B6E880",
           "#FF97FF",
           "#FECB52"
          ],
          "font": {
           "color": "#2a3f5f"
          },
          "geo": {
           "bgcolor": "white",
           "lakecolor": "white",
           "landcolor": "#E5ECF6",
           "showlakes": true,
           "showland": true,
           "subunitcolor": "white"
          },
          "hoverlabel": {
           "align": "left"
          },
          "hovermode": "closest",
          "mapbox": {
           "style": "light"
          },
          "paper_bgcolor": "white",
          "plot_bgcolor": "#E5ECF6",
          "polar": {
           "angularaxis": {
            "gridcolor": "white",
            "linecolor": "white",
            "ticks": ""
           },
           "bgcolor": "#E5ECF6",
           "radialaxis": {
            "gridcolor": "white",
            "linecolor": "white",
            "ticks": ""
           }
          },
          "scene": {
           "xaxis": {
            "backgroundcolor": "#E5ECF6",
            "gridcolor": "white",
            "gridwidth": 2,
            "linecolor": "white",
            "showbackground": true,
            "ticks": "",
            "zerolinecolor": "white"
           },
           "yaxis": {
            "backgroundcolor": "#E5ECF6",
            "gridcolor": "white",
            "gridwidth": 2,
            "linecolor": "white",
            "showbackground": true,
            "ticks": "",
            "zerolinecolor": "white"
           },
           "zaxis": {
            "backgroundcolor": "#E5ECF6",
            "gridcolor": "white",
            "gridwidth": 2,
            "linecolor": "white",
            "showbackground": true,
            "ticks": "",
            "zerolinecolor": "white"
           }
          },
          "shapedefaults": {
           "line": {
            "color": "#2a3f5f"
           }
          },
          "ternary": {
           "aaxis": {
            "gridcolor": "white",
            "linecolor": "white",
            "ticks": ""
           },
           "baxis": {
            "gridcolor": "white",
            "linecolor": "white",
            "ticks": ""
           },
           "bgcolor": "#E5ECF6",
           "caxis": {
            "gridcolor": "white",
            "linecolor": "white",
            "ticks": ""
           }
          },
          "title": {
           "x": 0.05
          },
          "xaxis": {
           "automargin": true,
           "gridcolor": "white",
           "linecolor": "white",
           "ticks": "",
           "title": {
            "standoff": 15
           },
           "zerolinecolor": "white",
           "zerolinewidth": 2
          },
          "yaxis": {
           "automargin": true,
           "gridcolor": "white",
           "linecolor": "white",
           "ticks": "",
           "title": {
            "standoff": 15
           },
           "zerolinecolor": "white",
           "zerolinewidth": 2
          }
         }
        },
        "title": {
         "text": "Income Breakdown 2022"
        },
        "uniformtext": {
         "minsize": 10,
         "mode": "hide"
        }
       }
      }
     },
     "metadata": {},
     "output_type": "display_data"
    }
   ],
   "source": [
    "income_pie_fig_2022 = make_pie_chart(df, 2022, 'Income')\n",
    "income_pie_fig_2022"
   ]
  },
  {
   "cell_type": "code",
   "execution_count": 25,
   "metadata": {},
   "outputs": [],
   "source": [
    "def make_monthly_bar_chart(df, year, label):\n",
    "    df = df[(df['Expense/Income'] == label) & (df['Year'] == year)]\n",
    "    total_by_month = (df.groupby(['Month', 'Month Name'])['Amount (EUR)'].sum()\n",
    "                        .to_frame()\n",
    "                        .reset_index()\n",
    "                        .sort_values(by='Month')  \n",
    "                        .reset_index(drop=True))\n",
    "    if label == \"Income\":\n",
    "        color_scale = px.colors.sequential.YlGn\n",
    "    if label == \"Expense\":\n",
    "        color_scale = px.colors.sequential.OrRd\n",
    "    \n",
    "    bar_fig = px.bar(total_by_month, x='Month Name', y='Amount (EUR)', text_auto='.2s', title=label+\" per month\", color='Amount (EUR)', color_continuous_scale=color_scale)\n",
    "    # bar_fig.update_traces(marker_color='lightslategrey')\n",
    "    \n",
    "    return bar_fig"
   ]
  },
  {
   "cell_type": "code",
   "execution_count": 26,
   "metadata": {},
   "outputs": [
    {
     "data": {
      "application/vnd.plotly.v1+json": {
       "config": {
        "plotlyServerURL": "https://plot.ly"
       },
       "data": [
        {
         "alignmentgroup": "True",
         "hovertemplate": "Month Name=%{x}<br>Amount (EUR)=%{marker.color}<extra></extra>",
         "legendgroup": "",
         "marker": {
          "color": [
           4044.27,
           2423.9100000000003
          ],
          "coloraxis": "coloraxis",
          "pattern": {
           "shape": ""
          }
         },
         "name": "",
         "offsetgroup": "",
         "orientation": "v",
         "showlegend": false,
         "textposition": "auto",
         "texttemplate": "%{y:.2s}",
         "type": "bar",
         "x": [
          "Oct",
          "Nov"
         ],
         "xaxis": "x",
         "y": [
          4044.27,
          2423.9100000000003
         ],
         "yaxis": "y"
        }
       ],
       "layout": {
        "barmode": "relative",
        "coloraxis": {
         "colorbar": {
          "title": {
           "text": "Amount (EUR)"
          }
         },
         "colorscale": [
          [
           0,
           "rgb(255,255,229)"
          ],
          [
           0.125,
           "rgb(247,252,185)"
          ],
          [
           0.25,
           "rgb(217,240,163)"
          ],
          [
           0.375,
           "rgb(173,221,142)"
          ],
          [
           0.5,
           "rgb(120,198,121)"
          ],
          [
           0.625,
           "rgb(65,171,93)"
          ],
          [
           0.75,
           "rgb(35,132,67)"
          ],
          [
           0.875,
           "rgb(0,104,55)"
          ],
          [
           1,
           "rgb(0,69,41)"
          ]
         ]
        },
        "legend": {
         "tracegroupgap": 0
        },
        "template": {
         "data": {
          "bar": [
           {
            "error_x": {
             "color": "#2a3f5f"
            },
            "error_y": {
             "color": "#2a3f5f"
            },
            "marker": {
             "line": {
              "color": "#E5ECF6",
              "width": 0.5
             },
             "pattern": {
              "fillmode": "overlay",
              "size": 10,
              "solidity": 0.2
             }
            },
            "type": "bar"
           }
          ],
          "barpolar": [
           {
            "marker": {
             "line": {
              "color": "#E5ECF6",
              "width": 0.5
             },
             "pattern": {
              "fillmode": "overlay",
              "size": 10,
              "solidity": 0.2
             }
            },
            "type": "barpolar"
           }
          ],
          "carpet": [
           {
            "aaxis": {
             "endlinecolor": "#2a3f5f",
             "gridcolor": "white",
             "linecolor": "white",
             "minorgridcolor": "white",
             "startlinecolor": "#2a3f5f"
            },
            "baxis": {
             "endlinecolor": "#2a3f5f",
             "gridcolor": "white",
             "linecolor": "white",
             "minorgridcolor": "white",
             "startlinecolor": "#2a3f5f"
            },
            "type": "carpet"
           }
          ],
          "choropleth": [
           {
            "colorbar": {
             "outlinewidth": 0,
             "ticks": ""
            },
            "type": "choropleth"
           }
          ],
          "contour": [
           {
            "colorbar": {
             "outlinewidth": 0,
             "ticks": ""
            },
            "colorscale": [
             [
              0,
              "#0d0887"
             ],
             [
              0.1111111111111111,
              "#46039f"
             ],
             [
              0.2222222222222222,
              "#7201a8"
             ],
             [
              0.3333333333333333,
              "#9c179e"
             ],
             [
              0.4444444444444444,
              "#bd3786"
             ],
             [
              0.5555555555555556,
              "#d8576b"
             ],
             [
              0.6666666666666666,
              "#ed7953"
             ],
             [
              0.7777777777777778,
              "#fb9f3a"
             ],
             [
              0.8888888888888888,
              "#fdca26"
             ],
             [
              1,
              "#f0f921"
             ]
            ],
            "type": "contour"
           }
          ],
          "contourcarpet": [
           {
            "colorbar": {
             "outlinewidth": 0,
             "ticks": ""
            },
            "type": "contourcarpet"
           }
          ],
          "heatmap": [
           {
            "colorbar": {
             "outlinewidth": 0,
             "ticks": ""
            },
            "colorscale": [
             [
              0,
              "#0d0887"
             ],
             [
              0.1111111111111111,
              "#46039f"
             ],
             [
              0.2222222222222222,
              "#7201a8"
             ],
             [
              0.3333333333333333,
              "#9c179e"
             ],
             [
              0.4444444444444444,
              "#bd3786"
             ],
             [
              0.5555555555555556,
              "#d8576b"
             ],
             [
              0.6666666666666666,
              "#ed7953"
             ],
             [
              0.7777777777777778,
              "#fb9f3a"
             ],
             [
              0.8888888888888888,
              "#fdca26"
             ],
             [
              1,
              "#f0f921"
             ]
            ],
            "type": "heatmap"
           }
          ],
          "heatmapgl": [
           {
            "colorbar": {
             "outlinewidth": 0,
             "ticks": ""
            },
            "colorscale": [
             [
              0,
              "#0d0887"
             ],
             [
              0.1111111111111111,
              "#46039f"
             ],
             [
              0.2222222222222222,
              "#7201a8"
             ],
             [
              0.3333333333333333,
              "#9c179e"
             ],
             [
              0.4444444444444444,
              "#bd3786"
             ],
             [
              0.5555555555555556,
              "#d8576b"
             ],
             [
              0.6666666666666666,
              "#ed7953"
             ],
             [
              0.7777777777777778,
              "#fb9f3a"
             ],
             [
              0.8888888888888888,
              "#fdca26"
             ],
             [
              1,
              "#f0f921"
             ]
            ],
            "type": "heatmapgl"
           }
          ],
          "histogram": [
           {
            "marker": {
             "pattern": {
              "fillmode": "overlay",
              "size": 10,
              "solidity": 0.2
             }
            },
            "type": "histogram"
           }
          ],
          "histogram2d": [
           {
            "colorbar": {
             "outlinewidth": 0,
             "ticks": ""
            },
            "colorscale": [
             [
              0,
              "#0d0887"
             ],
             [
              0.1111111111111111,
              "#46039f"
             ],
             [
              0.2222222222222222,
              "#7201a8"
             ],
             [
              0.3333333333333333,
              "#9c179e"
             ],
             [
              0.4444444444444444,
              "#bd3786"
             ],
             [
              0.5555555555555556,
              "#d8576b"
             ],
             [
              0.6666666666666666,
              "#ed7953"
             ],
             [
              0.7777777777777778,
              "#fb9f3a"
             ],
             [
              0.8888888888888888,
              "#fdca26"
             ],
             [
              1,
              "#f0f921"
             ]
            ],
            "type": "histogram2d"
           }
          ],
          "histogram2dcontour": [
           {
            "colorbar": {
             "outlinewidth": 0,
             "ticks": ""
            },
            "colorscale": [
             [
              0,
              "#0d0887"
             ],
             [
              0.1111111111111111,
              "#46039f"
             ],
             [
              0.2222222222222222,
              "#7201a8"
             ],
             [
              0.3333333333333333,
              "#9c179e"
             ],
             [
              0.4444444444444444,
              "#bd3786"
             ],
             [
              0.5555555555555556,
              "#d8576b"
             ],
             [
              0.6666666666666666,
              "#ed7953"
             ],
             [
              0.7777777777777778,
              "#fb9f3a"
             ],
             [
              0.8888888888888888,
              "#fdca26"
             ],
             [
              1,
              "#f0f921"
             ]
            ],
            "type": "histogram2dcontour"
           }
          ],
          "mesh3d": [
           {
            "colorbar": {
             "outlinewidth": 0,
             "ticks": ""
            },
            "type": "mesh3d"
           }
          ],
          "parcoords": [
           {
            "line": {
             "colorbar": {
              "outlinewidth": 0,
              "ticks": ""
             }
            },
            "type": "parcoords"
           }
          ],
          "pie": [
           {
            "automargin": true,
            "type": "pie"
           }
          ],
          "scatter": [
           {
            "fillpattern": {
             "fillmode": "overlay",
             "size": 10,
             "solidity": 0.2
            },
            "type": "scatter"
           }
          ],
          "scatter3d": [
           {
            "line": {
             "colorbar": {
              "outlinewidth": 0,
              "ticks": ""
             }
            },
            "marker": {
             "colorbar": {
              "outlinewidth": 0,
              "ticks": ""
             }
            },
            "type": "scatter3d"
           }
          ],
          "scattercarpet": [
           {
            "marker": {
             "colorbar": {
              "outlinewidth": 0,
              "ticks": ""
             }
            },
            "type": "scattercarpet"
           }
          ],
          "scattergeo": [
           {
            "marker": {
             "colorbar": {
              "outlinewidth": 0,
              "ticks": ""
             }
            },
            "type": "scattergeo"
           }
          ],
          "scattergl": [
           {
            "marker": {
             "colorbar": {
              "outlinewidth": 0,
              "ticks": ""
             }
            },
            "type": "scattergl"
           }
          ],
          "scattermapbox": [
           {
            "marker": {
             "colorbar": {
              "outlinewidth": 0,
              "ticks": ""
             }
            },
            "type": "scattermapbox"
           }
          ],
          "scatterpolar": [
           {
            "marker": {
             "colorbar": {
              "outlinewidth": 0,
              "ticks": ""
             }
            },
            "type": "scatterpolar"
           }
          ],
          "scatterpolargl": [
           {
            "marker": {
             "colorbar": {
              "outlinewidth": 0,
              "ticks": ""
             }
            },
            "type": "scatterpolargl"
           }
          ],
          "scatterternary": [
           {
            "marker": {
             "colorbar": {
              "outlinewidth": 0,
              "ticks": ""
             }
            },
            "type": "scatterternary"
           }
          ],
          "surface": [
           {
            "colorbar": {
             "outlinewidth": 0,
             "ticks": ""
            },
            "colorscale": [
             [
              0,
              "#0d0887"
             ],
             [
              0.1111111111111111,
              "#46039f"
             ],
             [
              0.2222222222222222,
              "#7201a8"
             ],
             [
              0.3333333333333333,
              "#9c179e"
             ],
             [
              0.4444444444444444,
              "#bd3786"
             ],
             [
              0.5555555555555556,
              "#d8576b"
             ],
             [
              0.6666666666666666,
              "#ed7953"
             ],
             [
              0.7777777777777778,
              "#fb9f3a"
             ],
             [
              0.8888888888888888,
              "#fdca26"
             ],
             [
              1,
              "#f0f921"
             ]
            ],
            "type": "surface"
           }
          ],
          "table": [
           {
            "cells": {
             "fill": {
              "color": "#EBF0F8"
             },
             "line": {
              "color": "white"
             }
            },
            "header": {
             "fill": {
              "color": "#C8D4E3"
             },
             "line": {
              "color": "white"
             }
            },
            "type": "table"
           }
          ]
         },
         "layout": {
          "annotationdefaults": {
           "arrowcolor": "#2a3f5f",
           "arrowhead": 0,
           "arrowwidth": 1
          },
          "autotypenumbers": "strict",
          "coloraxis": {
           "colorbar": {
            "outlinewidth": 0,
            "ticks": ""
           }
          },
          "colorscale": {
           "diverging": [
            [
             0,
             "#8e0152"
            ],
            [
             0.1,
             "#c51b7d"
            ],
            [
             0.2,
             "#de77ae"
            ],
            [
             0.3,
             "#f1b6da"
            ],
            [
             0.4,
             "#fde0ef"
            ],
            [
             0.5,
             "#f7f7f7"
            ],
            [
             0.6,
             "#e6f5d0"
            ],
            [
             0.7,
             "#b8e186"
            ],
            [
             0.8,
             "#7fbc41"
            ],
            [
             0.9,
             "#4d9221"
            ],
            [
             1,
             "#276419"
            ]
           ],
           "sequential": [
            [
             0,
             "#0d0887"
            ],
            [
             0.1111111111111111,
             "#46039f"
            ],
            [
             0.2222222222222222,
             "#7201a8"
            ],
            [
             0.3333333333333333,
             "#9c179e"
            ],
            [
             0.4444444444444444,
             "#bd3786"
            ],
            [
             0.5555555555555556,
             "#d8576b"
            ],
            [
             0.6666666666666666,
             "#ed7953"
            ],
            [
             0.7777777777777778,
             "#fb9f3a"
            ],
            [
             0.8888888888888888,
             "#fdca26"
            ],
            [
             1,
             "#f0f921"
            ]
           ],
           "sequentialminus": [
            [
             0,
             "#0d0887"
            ],
            [
             0.1111111111111111,
             "#46039f"
            ],
            [
             0.2222222222222222,
             "#7201a8"
            ],
            [
             0.3333333333333333,
             "#9c179e"
            ],
            [
             0.4444444444444444,
             "#bd3786"
            ],
            [
             0.5555555555555556,
             "#d8576b"
            ],
            [
             0.6666666666666666,
             "#ed7953"
            ],
            [
             0.7777777777777778,
             "#fb9f3a"
            ],
            [
             0.8888888888888888,
             "#fdca26"
            ],
            [
             1,
             "#f0f921"
            ]
           ]
          },
          "colorway": [
           "#636efa",
           "#EF553B",
           "#00cc96",
           "#ab63fa",
           "#FFA15A",
           "#19d3f3",
           "#FF6692",
           "#B6E880",
           "#FF97FF",
           "#FECB52"
          ],
          "font": {
           "color": "#2a3f5f"
          },
          "geo": {
           "bgcolor": "white",
           "lakecolor": "white",
           "landcolor": "#E5ECF6",
           "showlakes": true,
           "showland": true,
           "subunitcolor": "white"
          },
          "hoverlabel": {
           "align": "left"
          },
          "hovermode": "closest",
          "mapbox": {
           "style": "light"
          },
          "paper_bgcolor": "white",
          "plot_bgcolor": "#E5ECF6",
          "polar": {
           "angularaxis": {
            "gridcolor": "white",
            "linecolor": "white",
            "ticks": ""
           },
           "bgcolor": "#E5ECF6",
           "radialaxis": {
            "gridcolor": "white",
            "linecolor": "white",
            "ticks": ""
           }
          },
          "scene": {
           "xaxis": {
            "backgroundcolor": "#E5ECF6",
            "gridcolor": "white",
            "gridwidth": 2,
            "linecolor": "white",
            "showbackground": true,
            "ticks": "",
            "zerolinecolor": "white"
           },
           "yaxis": {
            "backgroundcolor": "#E5ECF6",
            "gridcolor": "white",
            "gridwidth": 2,
            "linecolor": "white",
            "showbackground": true,
            "ticks": "",
            "zerolinecolor": "white"
           },
           "zaxis": {
            "backgroundcolor": "#E5ECF6",
            "gridcolor": "white",
            "gridwidth": 2,
            "linecolor": "white",
            "showbackground": true,
            "ticks": "",
            "zerolinecolor": "white"
           }
          },
          "shapedefaults": {
           "line": {
            "color": "#2a3f5f"
           }
          },
          "ternary": {
           "aaxis": {
            "gridcolor": "white",
            "linecolor": "white",
            "ticks": ""
           },
           "baxis": {
            "gridcolor": "white",
            "linecolor": "white",
            "ticks": ""
           },
           "bgcolor": "#E5ECF6",
           "caxis": {
            "gridcolor": "white",
            "linecolor": "white",
            "ticks": ""
           }
          },
          "title": {
           "x": 0.05
          },
          "xaxis": {
           "automargin": true,
           "gridcolor": "white",
           "linecolor": "white",
           "ticks": "",
           "title": {
            "standoff": 15
           },
           "zerolinecolor": "white",
           "zerolinewidth": 2
          },
          "yaxis": {
           "automargin": true,
           "gridcolor": "white",
           "linecolor": "white",
           "ticks": "",
           "title": {
            "standoff": 15
           },
           "zerolinecolor": "white",
           "zerolinewidth": 2
          }
         }
        },
        "title": {
         "text": "Income per month"
        },
        "xaxis": {
         "anchor": "y",
         "domain": [
          0,
          1
         ],
         "title": {
          "text": "Month Name"
         }
        },
        "yaxis": {
         "anchor": "x",
         "domain": [
          0,
          1
         ],
         "title": {
          "text": "Amount (EUR)"
         }
        }
       }
      }
     },
     "metadata": {},
     "output_type": "display_data"
    }
   ],
   "source": [
    "income_monthly_2022 = make_monthly_bar_chart(df, 2022, 'Income')\n",
    "income_monthly_2022"
   ]
  },
  {
   "cell_type": "code",
   "execution_count": 27,
   "metadata": {},
   "outputs": [
    {
     "name": "stdout",
     "output_type": "stream",
     "text": [
      "Launching server at http://localhost:51578\n"
     ]
    },
    {
     "data": {
      "text/plain": [
       "<panel.io.server.Server at 0x12ddafa70>"
      ]
     },
     "execution_count": 27,
     "metadata": {},
     "output_type": "execute_result"
    }
   ],
   "source": [
    "# Pie charts\n",
    "income_pie_fig_2022 = make_pie_chart(df, 2022, 'Income')\n",
    "expense_pie_fig_2022 = make_pie_chart(df, 2022, 'Expense')  \n",
    "income_pie_fig_2023 = make_pie_chart(df, 2023, 'Income')\n",
    "expense_pie_fig_2023 = make_pie_chart(df, 2023, 'Expense')\n",
    "\n",
    "# Bar charts\n",
    "income_monthly_2022 = make_monthly_bar_chart(df, 2022, 'Income')\n",
    "expense_monthly_2022 = make_monthly_bar_chart(df, 2022, 'Expense')\n",
    "income_monthly_2023 = make_monthly_bar_chart(df, 2023, 'Income')\n",
    "expense_monthly_2023 = make_monthly_bar_chart(df, 2023, 'Expense')\n",
    "\n",
    "# Create tabs\n",
    "tabs = pn.Tabs(\n",
    "                        ('2022', pn.Column(pn.Row(income_pie_fig_2022, expense_pie_fig_2022),\n",
    "                                                pn.Row(income_monthly_2022, expense_monthly_2022))),\n",
    "                        ('2023', pn.Column(pn.Row(income_pie_fig_2023, expense_pie_fig_2023),\n",
    "                                                pn.Row(income_monthly_2023, expense_monthly_2023))\n",
    "                        )\n",
    "                )\n",
    "tabs.show()"
   ]
  },
  {
   "cell_type": "code",
   "execution_count": 28,
   "metadata": {},
   "outputs": [
    {
     "name": "stdout",
     "output_type": "stream",
     "text": [
      "Launching server at http://localhost:51581\n"
     ]
    },
    {
     "data": {
      "text/plain": [
       "<panel.io.server.Server at 0x12df733b0>"
      ]
     },
     "execution_count": 28,
     "metadata": {},
     "output_type": "execute_result"
    }
   ],
   "source": [
    "# Dashboard template\n",
    "template = pn.template.FastListTemplate(\n",
    "    title='Personal Finance Dashboard',\n",
    "    sidebar=[pn.pane.Markdown(\"# Income Expense analysis\"), \n",
    "             pn.pane.Markdown(\"Overview of income and expense based on my bank transactions. Categories are obtained using local LLMs.\"),\n",
    "             pn.pane.PNG(\"picture.png\", sizing_mode=\"scale_both\")\n",
    "             ],\n",
    "    main=[pn.Row(pn.Column(pn.Row(tabs)\n",
    "                           )\n",
    "                ),\n",
    "                ],\n",
    "    # accent_base_color=\"#88d8b0\",\n",
    "    header_background=\"#c0b9dd\",\n",
    ")\n",
    "\n",
    "template.show()"
   ]
  },
  {
   "cell_type": "code",
   "execution_count": 29,
   "metadata": {},
   "outputs": [
    {
     "name": "stderr",
     "output_type": "stream",
     "text": [
      "WARNING:tornado.access:404 GET /picture.png (::1) 0.83ms\n"
     ]
    }
   ],
   "source": [
    "# EXAMPLE 2: \n",
    "# https://www.youtube.com/watch?v=-ROS6gfYIts\n",
    "# https://github.com/langchain-ai/langgraph/blob/main/examples/rag/langgraph_rag_agent_llama3_local.ipynb"
   ]
  }
 ],
 "metadata": {
  "kernelspec": {
   "display_name": "morgage",
   "language": "python",
   "name": "python3"
  },
  "language_info": {
   "codemirror_mode": {
    "name": "ipython",
    "version": 3
   },
   "file_extension": ".py",
   "mimetype": "text/x-python",
   "name": "python",
   "nbconvert_exporter": "python",
   "pygments_lexer": "ipython3",
   "version": "3.12.2"
  }
 },
 "nbformat": 4,
 "nbformat_minor": 2
}
