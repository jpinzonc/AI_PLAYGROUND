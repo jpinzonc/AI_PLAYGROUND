{
 "cells": [
  {
   "cell_type": "code",
   "execution_count": null,
   "metadata": {},
   "outputs": [],
   "source": [
    "# EXAMPLE 1 \n",
    "#https://www.youtube.com/watch?v=h_GTxRFYETY\n",
    "#https://ollama.com/\n",
    "#https://github.com/thu-vu92/local-llms-analyse-finance"
   ]
  },
  {
   "cell_type": "code",
   "execution_count": null,
   "metadata": {},
   "outputs": [],
   "source": [
    "# EXAMPLE 2: \n",
    "# https://www.youtube.com/watch?v=-ROS6gfYIts\n",
    "# https://github.com/langchain-ai/langgraph/blob/main/examples/rag/langgraph_rag_agent_llama3_local.ipynb"
   ]
  }
 ],
 "metadata": {
  "language_info": {
   "name": "python"
  }
 },
 "nbformat": 4,
 "nbformat_minor": 2
}
