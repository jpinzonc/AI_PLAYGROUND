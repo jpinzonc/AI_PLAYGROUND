{
 "cells": [
  {
   "cell_type": "code",
   "execution_count": 1,
   "metadata": {},
   "outputs": [],
   "source": [
    "import os \n",
    "import re\n",
    "from langchain_community.llms import Ollama\n",
    "from langchain_openai.chat_models import ChatOpenAI\n",
    "from langchain.prompts import PromptTemplate\n",
    "from langchain_core.output_parsers import StrOutputParser\n",
    "from langchain.text_splitter import RecursiveCharacterTextSplitter\n",
    "from langchain_community.document_loaders import TextLoader\n",
    "from langchain_openai.embeddings import OpenAIEmbeddings\n",
    "from langchain_community.vectorstores import FAISS\n",
    "from langchain_core.runnables import RunnablePassthrough, RunnableParallel"
   ]
  },
  {
   "cell_type": "code",
   "execution_count": 2,
   "metadata": {},
   "outputs": [
    {
     "data": {
      "text/plain": [
       "AIMessage(content=\"A bot (short for robot) is a computer program that is designed to perform a specific task or set of tasks automatically. Bots can interact with users, other computers, or systems in various ways, such as:\\n\\n1. **Text-based interfaces**: Bots can communicate with humans through text messages, instant messaging platforms, online chat windows, or social media.\\n2. **Audio or voice assistants**: Bots can process voice commands and respond accordingly, like Amazon's Alexa or Google Assistant.\\n3. **Web scraping or crawling**: Bots can extract data from websites, search engines, or databases for analysis, research, or marketing purposes.\\n\\nBots often perform tasks such as:\\n\\n1. **Automating repetitive processes**: Like updating spreadsheets or sending reminders.\\n2. **Providing customer support**: Answering frequent questions, helping with order tracking, or offering product recommendations.\\n3. **Analyzing data**: Collecting and processing large amounts of data to provide insights, trends, or forecasts.\\n4. **Entertainment**: Playing games, generating creative content, or simulating conversations.\\n\\nBots can be classified into various types based on their functionality, such as:\\n\\n1. **Rule-based bots**: Follow pre-defined rules and respond accordingly.\\n2. **Machine learning bots**: Use AI algorithms to learn from user interactions and improve their performance over time.\\n3. **Hybrid bots**: Combine rule-based and machine learning approaches to achieve better results.\\n4. **Conversational bots**: Engage in natural language conversations, often using AI-powered dialogue management.\\n\\nBots can be used in various domains, including:\\n\\n1. **Customer service**\\n2. **E-commerce**\\n3. **Healthcare**\\n4. **Finance**\\n5. **Education**\\n\\nIn recent years, the development of chatbots and other types of bots has become increasingly popular, as they offer a convenient and efficient way to interact with computers and automate many tasks.\", response_metadata={'token_usage': {'completion_tokens': 388, 'prompt_tokens': 14, 'total_tokens': 402}, 'model_name': 'llama3', 'system_fingerprint': 'fp_ollama', 'finish_reason': 'stop', 'logprobs': None}, id='run-4da4f654-17f0-4f6c-b175-bf540b2bc0bd-0')"
      ]
     },
     "execution_count": 2,
     "metadata": {},
     "output_type": "execute_result"
    }
   ],
   "source": [
    "# Modified following https://www.youtube.com/watch?v=02cdCd43Ccc \n",
    "API_KEY = \"NA\" #Causes ChatOpenAI to look for local models. base-url is needed to use ollama\n",
    "Model = 'llama3'\n",
    "gpt_llm = ChatOpenAI(api_key = API_KEY,model= Model, base_url=\"http://localhost:11434/v1\")\n",
    "gpt_llm.invoke('what is a bot')"
   ]
  },
  {
   "cell_type": "code",
   "execution_count": 3,
   "metadata": {},
   "outputs": [
    {
     "data": {
      "text/plain": [
       "'Sharks are a type of fish that belong to the class Chondrichthyes. They are characterized by their cartilaginous skeleton, which is made up of flexible yet strong connective tissue.\\n\\nHere are some key features that define sharks:\\n\\n1. **Cartilaginous skeleton**: Sharks have a skeleton made of cartilage, unlike most other fish which have bony skeletons.\\n2. **Streamlined body**: Sharks have a torpedo-shaped body designed for swimming and maneuverability in the water.\\n3. **Fins instead of legs**: Sharks use their powerful fins to move through the water, rather than their legs (like humans or other terrestrial animals).\\n4. **Sharp teeth**: Most sharks have sharp, replaceable teeth that are used to capture and eat prey.\\n5. **Cold-blooded**: Like all fish, sharks are ectothermic, meaning they regulate their body temperature using external sources, such as the surrounding water.\\n\\nThere are over 500 species of sharks, ranging in size from the tiny dwarf lanternshark (which is only about 20 centimeters or 8 inches long) to the massive whale shark (which can grow up to 20 meters or 66 feet long).\\n\\nSome popular types of sharks include:\\n\\n1. Great white shark\\n2. Tiger shark\\n3. Hammerhead shark\\n4. Bull shark\\n5. Oceanic whitetip shark\\n6. Lemon shark\\n7. Blacktip shark\\n\\nSharks play a vital role in the ocean ecosystem, serving as apex predators and helping to maintain the balance of marine ecosystems.\\n\\nI hope this gives you a good introduction to what sharks are!'"
      ]
     },
     "execution_count": 3,
     "metadata": {},
     "output_type": "execute_result"
    }
   ],
   "source": [
    "parser = StrOutputParser()\n",
    "gpt_chain = gpt_llm|parser\n",
    "gpt_chain.invoke('what is a shark')"
   ]
  },
  {
   "cell_type": "code",
   "execution_count": 4,
   "metadata": {},
   "outputs": [],
   "source": [
    "loader = TextLoader('data.txt',encoding = 'utf-8')\n",
    "document = loader.load()"
   ]
  },
  {
   "cell_type": "code",
   "execution_count": 5,
   "metadata": {},
   "outputs": [
    {
     "data": {
      "text/plain": [
       "Document(page_content='The roughly 10-centimetre-long cube is made of magnolia-wood panels and has an aluminium frame, solar panels, circuit boards and sensors. The panels incorporate Japanese wood-joinery methods that do', metadata={'source': 'data.txt'})"
      ]
     },
     "execution_count": 5,
     "metadata": {},
     "output_type": "execute_result"
    }
   ],
   "source": [
    "spliter = RecursiveCharacterTextSplitter(chunk_size = 200,chunk_overlap = 50)\n",
    "chunks = spliter.split_documents(document)\n",
    "chunks[3]\n"
   ]
  },
  {
   "cell_type": "code",
   "execution_count": 6,
   "metadata": {},
   "outputs": [],
   "source": [
    "# vector_storage = FAISS.from_documents(chunks,OpenAIEmbeddings())\n",
    "# retriever = vector_storage.as_retriever()\n",
    "\n",
    "from langchain_community.embeddings import OllamaEmbeddings\n",
    "\n",
    "ollama_emb = OllamaEmbeddings(base_url = 'http://localhost:11434', model=\"llama3\")\n",
    "# May need: \n",
    "# !pip install faiss-cpu\n",
    "# or \n",
    "# !pip install faiss-gpu\n",
    "\n",
    "vector_storage = FAISS.from_documents(chunks, ollama_emb)\n",
    "retriever = vector_storage.as_retriever()"
   ]
  },
  {
   "cell_type": "code",
   "execution_count": 7,
   "metadata": {},
   "outputs": [
    {
     "data": {
      "text/plain": [
       "[Document(page_content='LignoSat will cost about US$191,000 to design, manufacture, launch and operate. Sensors onboard will evaluate strain on the wood, temperature, geomagnetic forces and cosmic radiation, as well as', metadata={'source': 'data.txt'}),\n",
       " Document(page_content='And there is a precedent for spacecraft with wooden parts. Launched in 1962, NASA’s Ranger 3 lunar probe had a balsa-wood casing intended to protect its capsule as it landed on the lunar surface (the', metadata={'source': 'data.txt'}),\n",
       " Document(page_content='forces and cosmic radiation, as well as receive and transmit radio signals. The satellite has been handed over to the Japan Aerospace Exploration Agency (JAXA) and will be transferred to the', metadata={'source': 'data.txt'}),\n",
       " Document(page_content='When LignoSat plunges back to Earth, after six months to a year of service, the magnolia will incinerate completely and release only water vapour and carbon dioxide, says Takao Doi, an astronaut and', metadata={'source': 'data.txt'})]"
      ]
     },
     "execution_count": 7,
     "metadata": {},
     "output_type": "execute_result"
    }
   ],
   "source": [
    "retriever.invoke('what is the main characteristic of the satellite')"
   ]
  },
  {
   "cell_type": "code",
   "execution_count": 8,
   "metadata": {},
   "outputs": [],
   "source": [
    "template = (\"\"\"\n",
    "You are AI-powered chatbot designed to provide \n",
    "information and assistance for customers\n",
    "based on the context provided to you only. \n",
    "            \n",
    "Context:{context}\n",
    "Question:{question}\n",
    "\"\"\")"
   ]
  },
  {
   "cell_type": "code",
   "execution_count": 9,
   "metadata": {},
   "outputs": [
    {
     "data": {
      "text/plain": [
       "'\\nYou are AI-powered chatbot designed to provide \\ninformation and assistance for customers\\nbased on the context provided to you only. \\n            \\nContext: Here is a context to use\\nQuestion: This is a question to answer\\n'"
      ]
     },
     "execution_count": 9,
     "metadata": {},
     "output_type": "execute_result"
    }
   ],
   "source": [
    "prompt = PromptTemplate.from_template(template=template)\n",
    "prompt.format(\n",
    "    context = ' Here is a context to use',\n",
    "    question = ' This is a question to answer'\n",
    ")"
   ]
  },
  {
   "cell_type": "code",
   "execution_count": 10,
   "metadata": {},
   "outputs": [],
   "source": [
    "result = RunnableParallel(context = retriever,question = RunnablePassthrough())\n",
    "chain = 27 |prompt | gpt_llm | parser"
   ]
  },
  {
   "cell_type": "code",
   "execution_count": 11,
   "metadata": {},
   "outputs": [
    {
     "data": {
      "text/plain": [
       "\"Based on the provided context, there is no direct recommendation for a specific material for satellites. However, it is mentioned that wood could be explored as a potential material due to its resilience in space and ability to enclose an antenna without blocking radio waves.\\n\\nIt's also noted by Salim that the structural integrity, safety, and longevity of wood need to be confirmed in space before considering its use. This implies that some assessment or testing needs to be done to determine if wood is a viable option for satellite construction.\\n\\nTherefore, based on the context, it can be inferred that wood might be a potential material being considered for satellites, but no specific recommendation is given at this time.\""
      ]
     },
     "execution_count": 11,
     "metadata": {},
     "output_type": "execute_result"
    }
   ],
   "source": [
    "chain.invoke('What is the recommended material for satelites? ')"
   ]
  },
  {
   "cell_type": "code",
   "execution_count": null,
   "metadata": {},
   "outputs": [],
   "source": [
    "chain.invoke('are there any precedents to wood satellites? Do they work?')"
   ]
  },
  {
   "cell_type": "code",
   "execution_count": null,
   "metadata": {},
   "outputs": [],
   "source": [
    "# https://python.langchain.com/v0.2/docs/integrations/document_loaders/url/\n",
    "# !pip install unstructured\n",
    "from langchain_community.document_loaders import UnstructuredURLLoader\n",
    "\n",
    "loaderhmlt = UnstructuredURLLoader(urls = [\"https://www.nature.com/articles/d41586-024-01456-z\"])\n",
    "data = loaderhmlt.load()\n",
    "spliterhtml = RecursiveCharacterTextSplitter(chunk_size = 200,chunk_overlap = 50)\n",
    "chunkhtml = spliterhtml.split_documents(data)\n",
    "chunkhtml[3]"
   ]
  },
  {
   "cell_type": "code",
   "execution_count": null,
   "metadata": {},
   "outputs": [],
   "source": [
    "# The article of interest is inclluded in the first 44 chunks \n",
    "vector_storagehtml = FAISS.from_documents(chunkhtml[:44], ollama_emb)\n",
    "retrieverhtml = vector_storagehtml.as_retriever()"
   ]
  },
  {
   "cell_type": "code",
   "execution_count": null,
   "metadata": {},
   "outputs": [],
   "source": [
    "resulthtml = RunnableParallel(context = retrieverhtml,question = RunnablePassthrough())\n",
    "chainhtml = resulthtml |prompt | gpt_llm | parser\n",
    "chain_htmlr = chainhtml.invoke('are there any precedents to wood satellites? Do they work?')\n",
    "chain_htmlr"
   ]
  },
  {
   "cell_type": "code",
   "execution_count": null,
   "metadata": {},
   "outputs": [],
   "source": [
    "chain_htmlr2 = chainhtml.invoke('What is the recommended material for satelites? ')\n",
    "chain_htmlr2"
   ]
  },
  {
   "cell_type": "code",
   "execution_count": null,
   "metadata": {},
   "outputs": [],
   "source": [
    "chain_htmlr2 = chainhtml.invoke('What is the recommended material for satelites? ')\n",
    "chain_htmlr2"
   ]
  },
  {
   "cell_type": "code",
   "execution_count": null,
   "metadata": {},
   "outputs": [],
   "source": [
    "chain_htmlr2 = re.sub(r'\\. ',r'.\\n', chain_htmlr2)\n",
    "print(chain_htmlr2)"
   ]
  },
  {
   "cell_type": "code",
   "execution_count": null,
   "metadata": {},
   "outputs": [],
   "source": [
    "chain_htmlr3 = chainhtml.invoke('What is the main idea of the context provided? ')\n",
    "chain_htmlr3\n",
    "chain_htmlr3 = re.sub(r'\\. ',r'.\\n', chain_htmlr3)\n",
    "print(chain_htmlr3)"
   ]
  }
 ],
 "metadata": {
  "kernelspec": {
   "display_name": "morgage",
   "language": "python",
   "name": "python3"
  },
  "language_info": {
   "codemirror_mode": {
    "name": "ipython",
    "version": 3
   },
   "file_extension": ".py",
   "mimetype": "text/x-python",
   "name": "python",
   "nbconvert_exporter": "python",
   "pygments_lexer": "ipython3",
   "version": "3.12.2"
  }
 },
 "nbformat": 4,
 "nbformat_minor": 2
}
