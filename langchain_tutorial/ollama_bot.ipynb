{
 "cells": [
  {
   "cell_type": "code",
   "execution_count": 1,
   "metadata": {},
   "outputs": [],
   "source": [
    "import os \n",
    "import re\n",
    "from langchain_community.llms import Ollama\n",
    "from langchain_openai.chat_models import ChatOpenAI\n",
    "from langchain.prompts import PromptTemplate\n",
    "from langchain_core.output_parsers import StrOutputParser\n",
    "from langchain.text_splitter import RecursiveCharacterTextSplitter\n",
    "from langchain_community.document_loaders import TextLoader\n",
    "from langchain_openai.embeddings import OpenAIEmbeddings\n",
    "from langchain_community.vectorstores import FAISS\n",
    "from langchain_core.runnables import RunnablePassthrough, RunnableParallel"
   ]
  },
  {
   "cell_type": "code",
   "execution_count": 6,
   "metadata": {},
   "outputs": [
    {
     "data": {
      "text/plain": [
       "AIMessage(content='A bot (short for \"robot\") is a software program that runs automatically and interacts with humans or other programs through text-based interfaces, such as:\\n\\n1. **Chatbots**: Bots that chat with people on platforms like messaging apps, social media, or websites. They respond to inputs and provide information, perform tasks, or even entertain.\\n2. **Bots for customer service**: Bots designed to help companies manage customer inquiries and support requests, freeing up human representatives for more complex issues.\\n3. **Social bots**: Bots that automate social media tasks, such as posting updates, responding to comments, or analyzing audience engagement.\\n4. **Messaging bots**: Bots that interact with users through messaging apps like WhatsApp, Facebook Messenger, or Slack, helping them perform various tasks.\\n\\nBots typically use natural language processing (NLP) and machine learning algorithms to understand human input, respond accordingly, and learn from the interactions.\\n\\nSome common features of bots include:\\n\\n* **Text-based interfaces**: Bots communicate with users through text-based interfaces like messaging apps, websites, or voice assistants.\\n* **Automated tasks**: Bots can perform repetitive tasks, such as scheduling appointments, sending reminders, or updating databases.\\n* **Conversational capabilities**: Bots engage in conversations, answering questions, providing information, or offering solutions to problems.\\n* **Learning and adaptation**: Many bots use machine learning to improve their responses over time, based on user feedback, usage patterns, or other data.\\n\\nBots can be used in various industries, such as:\\n\\n1. **E-commerce**: Bots help with customer service, product recommendations, or order tracking.\\n2. **Healthcare**: Bots assist patients with medical information, appointment scheduling, or insurance claims.\\n3. **Financial services**: Bots provide financial advice, investment guidance, or account management.\\n\\nThe possibilities for bots are endless, and their applications continue to grow as technology advances!', response_metadata={'token_usage': {'completion_tokens': 389, 'prompt_tokens': 0, 'total_tokens': 389}, 'model_name': 'llama3', 'system_fingerprint': 'fp_ollama', 'finish_reason': 'stop', 'logprobs': None}, id='run-061ad7cd-3aaf-4310-9b44-7bcf201686d6-0')"
      ]
     },
     "execution_count": 6,
     "metadata": {},
     "output_type": "execute_result"
    }
   ],
   "source": [
    "# Modified following https://www.youtube.com/watch?v=02cdCd43Ccc \n",
    "API_KEY = \"NA\" #Causes ChatOpenAI to look for local models. base-url is needed to use ollama\n",
    "Model = 'llama3'\n",
    "gpt_llm = ChatOpenAI(api_key = API_KEY,model= Model, base_url=\"http://localhost:11434/v1\")\n",
    "gpt_llm.invoke('what is a bot')"
   ]
  },
  {
   "cell_type": "code",
   "execution_count": 8,
   "metadata": {},
   "outputs": [
    {
     "data": {
      "text/plain": [
       "'A question that sparks excitement and curiosity in many!\\n\\nSharks are a type of fish that belong to the class Chondrichthyes. They are characterized by a cartilaginous skeleton (meaning their skeleton is made up of cartilage, not bone), a streamlined body shape, and a unique set of adaptations that make them formidable predators in the ocean.\\n\\nHere are some fascinating facts about sharks:\\n\\n1. **Diversity**: There are over 500 species of sharks, ranging from tiny dwarf lanternsharks to massive whale sharks.\\n2. **Evolutionary history**: Sharks have been on Earth for around 400 million years, long before humans or even dinosaurs existed!\\n3. **Body shape**: Most sharks have a torpedo-shaped body that allows them to swim quickly and efficiently. Some species, like the hammerhead shark, have a unique head shape that provides greater maneuverability.\\n4. **Dentition**: Sharks have rows of sharp, tooth-like structures called denticles on their snouts or jaws. These are used for catching prey, defending themselves, and even detecting vibrations in the water (helping them detect prey).\\n5. **Senses**: Many shark species rely heavily on their sense of smell to locate prey, using specialized organs called ampullae (found near the snout) that can detect the chemical signals of other animals.\\n6. **Swimming abilities**: Sharks are capable of impressive speeds, with some species like the shortfin mako shark reaching up to 46 miles per hour (74 kilometers per hour).\\n7. **Reproduction**: Some sharks give birth to live young, while others lay eggs. The way they reproduce can be quite fascinating and complex.\\n\\nSharks play vital roles in maintaining the health of our oceans:\\n\\n1. **Apex predators**: They regulate prey populations, keeping ecosystems balanced.\\n2. **Nutrient cycling**: Sharks help distribute nutrients throughout marine environments.\\n3. **Ecosystem engineers**: Some species, like the tiger shark, influence the structure of their habitats through feeding and habitat creation.\\n\\nNow, are you ready to dive deeper into the fascinating world of sharks?'"
      ]
     },
     "execution_count": 8,
     "metadata": {},
     "output_type": "execute_result"
    }
   ],
   "source": [
    "parser = StrOutputParser()\n",
    "gpt_chain = gpt_llm|parser\n",
    "gpt_chain.invoke('what is a shark')"
   ]
  },
  {
   "cell_type": "code",
   "execution_count": 9,
   "metadata": {},
   "outputs": [],
   "source": [
    "loader = TextLoader('data.txt',encoding = 'utf-8')\n",
    "document = loader.load()"
   ]
  },
  {
   "cell_type": "code",
   "execution_count": 10,
   "metadata": {},
   "outputs": [
    {
     "data": {
      "text/plain": [
       "Document(page_content='The roughly 10-centimetre-long cube is made of magnolia-wood panels and has an aluminium frame, solar panels, circuit boards and sensors. The panels incorporate Japanese wood-joinery methods that do', metadata={'source': 'data.txt'})"
      ]
     },
     "execution_count": 10,
     "metadata": {},
     "output_type": "execute_result"
    }
   ],
   "source": [
    "spliter = RecursiveCharacterTextSplitter(chunk_size = 200,chunk_overlap = 50)\n",
    "chunks = spliter.split_documents(document)\n",
    "chunks[3]\n"
   ]
  },
  {
   "cell_type": "code",
   "execution_count": 21,
   "metadata": {},
   "outputs": [],
   "source": [
    "# vector_storage = FAISS.from_documents(chunks,OpenAIEmbeddings())\n",
    "# retriever = vector_storage.as_retriever()\n",
    "\n",
    "from langchain_community.embeddings import OllamaEmbeddings\n",
    "\n",
    "ollama_emb = OllamaEmbeddings(base_url = 'http://localhost:11434', model=\"llama3\")\n",
    "# May need: \n",
    "# !pip install faiss-cpu\n",
    "# or \n",
    "# !pip install faiss-gpu\n",
    "\n",
    "vector_storage = FAISS.from_documents(chunks, ollama_emb)\n",
    "retriever = vector_storage.as_retriever()"
   ]
  },
  {
   "cell_type": "code",
   "execution_count": 22,
   "metadata": {},
   "outputs": [
    {
     "data": {
      "text/plain": [
       "[Document(page_content='LignoSat will cost about US$191,000 to design, manufacture, launch and operate. Sensors onboard will evaluate strain on the wood, temperature, geomagnetic forces and cosmic radiation, as well as', metadata={'source': 'data.txt'}),\n",
       " Document(page_content='Timber pioneers', metadata={'source': 'data.txt'}),\n",
       " Document(page_content='And there is a precedent for spacecraft with wooden parts. Launched in 1962, NASA’s Ranger 3 lunar probe had a balsa-wood casing intended to protect its capsule as it landed on the lunar surface (the', metadata={'source': 'data.txt'}),\n",
       " Document(page_content='But Murata says that the team has studied measurements of GCR and solar energetic particles — high-energy particles that are released from the Sun — taken by NASA’s Curiosity rover on Mars, as well', metadata={'source': 'data.txt'})]"
      ]
     },
     "execution_count": 22,
     "metadata": {},
     "output_type": "execute_result"
    }
   ],
   "source": [
    "retriever.invoke('what is the main characteristic of the satellite')"
   ]
  },
  {
   "cell_type": "code",
   "execution_count": 23,
   "metadata": {},
   "outputs": [],
   "source": [
    "template = (\"\"\"\n",
    "You are AI-powered chatbot designed to provide \n",
    "information and assistance for customers\n",
    "based on the context provided to you only. \n",
    "            \n",
    "Context:{context}\n",
    "Question:{question}\n",
    "\"\"\")"
   ]
  },
  {
   "cell_type": "code",
   "execution_count": 24,
   "metadata": {},
   "outputs": [
    {
     "data": {
      "text/plain": [
       "'\\nYou are AI-powered chatbot designed to provide \\ninformation and assistance for customers\\nbased on the context provided to you only. \\n            \\nContext: Here is a context to use\\nQuestion: This is a question to answer\\n'"
      ]
     },
     "execution_count": 24,
     "metadata": {},
     "output_type": "execute_result"
    }
   ],
   "source": [
    "prompt = PromptTemplate.from_template(template=template)\n",
    "prompt.format(\n",
    "    context = ' Here is a context to use',\n",
    "    question = ' This is a question to answer'\n",
    ")"
   ]
  },
  {
   "cell_type": "code",
   "execution_count": 25,
   "metadata": {},
   "outputs": [],
   "source": [
    "result = RunnableParallel(context = retriever,question = RunnablePassthrough())\n",
    "chain = result |prompt | gpt_llm | parser"
   ]
  },
  {
   "cell_type": "code",
   "execution_count": 26,
   "metadata": {},
   "outputs": [
    {
     "data": {
      "text/plain": [
       "\"According to the context provided, the recommended material for satellites appears to be wood. The conversation mentions that Salim notes the need to confirm the structural integrity, safety, and longevity of wood in space. Additionally, it's mentioned that using wood will make the satellite more sustainable and less polluting compared to conventional materials used in satellites. Furthermore, it's stated that wood does not block radio waves, making it suitable for enclosing an antenna. Therefore, based on this context, it appears that wood is the recommended material for satellites.\""
      ]
     },
     "execution_count": 26,
     "metadata": {},
     "output_type": "execute_result"
    }
   ],
   "source": [
    "chain.invoke('What is the recommended material for satelites? ')"
   ]
  },
  {
   "cell_type": "code",
   "execution_count": 27,
   "metadata": {},
   "outputs": [
    {
     "data": {
      "text/plain": [
       "'Interesting question! Based on the context provided, I found some relevant information.\\n\\nThere is ongoing research and exploration into using wood in space. While there may not be specific \"wood satellites\" with precedents, there are experiments and projects that involve using wood or wooden materials in space. \\n\\nFor instance, according to an article from 2020, researchers are exploring the potential of using wood in space missions as a sustainable option. The project aims to develop structures and materials that can withstand the harsh conditions of space for long periods. \\n\\nSalim, the expert quoted earlier, notes that the structural integrity, safety, and longevity of wood need to be confirmed in space. He also mentions that Growth Rate (GCR) and its potential degradation of mechanical properties are important factors to consider.\\n\\nIt\\'s not straightforward to say whether these wooden structures or materials have been successfully tested or put into practice yet. The project is still ongoing, and the article from 2020 states that growth has been slow so far.\\n\\nHowever, this initiative suggests a willingness to explore novel and sustainable approaches to space exploration and infrastructure development. If successful, using wood in space could lead to more environmentally friendly and cost-effective solutions for future missions!'"
      ]
     },
     "execution_count": 27,
     "metadata": {},
     "output_type": "execute_result"
    }
   ],
   "source": [
    "chain.invoke('are there any precedents to wood satellites? Do they work?')"
   ]
  },
  {
   "cell_type": "code",
   "execution_count": 35,
   "metadata": {},
   "outputs": [
    {
     "name": "stderr",
     "output_type": "stream",
     "text": [
      "[nltk_data] Downloading package averaged_perceptron_tagger to\n",
      "[nltk_data]     /Users/jorgepinzon/nltk_data...\n",
      "[nltk_data]   Unzipping taggers/averaged_perceptron_tagger.zip.\n"
     ]
    },
    {
     "data": {
      "text/plain": [
       "Document(page_content='View author publications', metadata={'source': 'https://www.nature.com/articles/d41586-024-01456-z'})"
      ]
     },
     "execution_count": 35,
     "metadata": {},
     "output_type": "execute_result"
    }
   ],
   "source": [
    "# https://python.langchain.com/v0.2/docs/integrations/document_loaders/url/\n",
    "# !pip install unstructured\n",
    "from langchain_community.document_loaders import UnstructuredURLLoader\n",
    "\n",
    "loaderhmlt = UnstructuredURLLoader(urls = [\"https://www.nature.com/articles/d41586-024-01456-z\"])\n",
    "data = loaderhmlt.load()\n",
    "spliterhtml = RecursiveCharacterTextSplitter(chunk_size = 200,chunk_overlap = 50)\n",
    "chunkhtml = spliterhtml.split_documents(data)\n",
    "chunkhtml[3]"
   ]
  },
  {
   "cell_type": "code",
   "execution_count": 93,
   "metadata": {},
   "outputs": [],
   "source": [
    "# The article of interest is inclluded in the first 44 chunks \n",
    "vector_storagehtml = FAISS.from_documents(chunkhtml[:44], ollama_emb)\n",
    "retrieverhtml = vector_storagehtml.as_retriever()"
   ]
  },
  {
   "cell_type": "code",
   "execution_count": 94,
   "metadata": {},
   "outputs": [
    {
     "data": {
      "text/plain": [
       "'According to the provided context, it seems that the idea of using wood in space is not a new one. The article mentions that the project began in 2020, which implies that there might be some precedents or existing research on this topic.\\n\\nHowever, the specific question of whether wood satellites actually work is left unanswered. It\\'s possible that the answer may depend on factors such as the type of wood used, its durability and resistance to radiation in space, and any necessary modifications for use in a space environment.\\n\\nWhat we do know is that Salim notes that \"radiation on Mars is a big problem\" and that wood might not be affected by this issue. Additionally, there is mention of confirming the structural integrity, safety, and longevity of wood in space, which implies that some challenges or uncertainties may still exist.\\n\\nOverall, while there might be some precedents for using wood in space, it appears that more research and testing would be necessary to confirm its effectiveness as a material for building satellites.'"
      ]
     },
     "execution_count": 94,
     "metadata": {},
     "output_type": "execute_result"
    }
   ],
   "source": [
    "resulthtml = RunnableParallel(context = retrieverhtml,question = RunnablePassthrough())\n",
    "chainhtml = resulthtml |prompt | gpt_llm | parser\n",
    "chain_htmlr = chainhtml.invoke('are there any precedents to wood satellites? Do they work?')\n",
    "chain_htmlr"
   ]
  },
  {
   "cell_type": "code",
   "execution_count": 95,
   "metadata": {},
   "outputs": [
    {
     "data": {
      "text/plain": [
       "\"Based on the context you provided, it appears that wood is being considered as a potential material for satellites. According to the document, Salim noted that wood's structural integrity, safety and longevity need to be confirmed in space. Additionally, the documents suggest that wood could be a sustainable and less polluting option compared to conventional metals used in satellite construction.\\n\\nIt seems that wood's properties, such as being resilient in harsh environments like space, not blocking radio waves, make it a suitable material for encasing an antenna. The documents also mention that using wood in satellites might be explored, likely due to its potential benefits in the aerospace industry.\\n\\nTherefore, based on this context, I would recommend considering wood as a material for satellite construction, pending further confirmation of its structural integrity and safety in space.\""
      ]
     },
     "execution_count": 95,
     "metadata": {},
     "output_type": "execute_result"
    }
   ],
   "source": [
    "chain_htmlr2 = chainhtml.invoke('What is the recommended material for satelites? ')\n",
    "chain_htmlr2"
   ]
  },
  {
   "cell_type": "code",
   "execution_count": 96,
   "metadata": {},
   "outputs": [
    {
     "data": {
      "text/plain": [
       "'Based on the provided context, it seems that the recommended material for satellites is wood. According to the documents, wood is seen as a potential option due to its structural integrity, safety, and longevity in space, making it suitable for enclosing an antenna without blocking radio waves. Additionally, using wood can lead to more sustainable and less polluting satellites compared to conventional satellites made of metals.'"
      ]
     },
     "execution_count": 96,
     "metadata": {},
     "output_type": "execute_result"
    }
   ],
   "source": [
    "chain_htmlr2 = chainhtml.invoke('What is the recommended material for satelites? ')\n",
    "chain_htmlr2"
   ]
  },
  {
   "cell_type": "code",
   "execution_count": 97,
   "metadata": {},
   "outputs": [
    {
     "name": "stdout",
     "output_type": "stream",
     "text": [
      "Based on the provided context, it seems that the recommended material for satellites is wood.\n",
      "According to the documents, wood is seen as a potential option due to its structural integrity, safety, and longevity in space, making it suitable for enclosing an antenna without blocking radio waves.\n",
      "Additionally, using wood can lead to more sustainable and less polluting satellites compared to conventional satellites made of metals.\n"
     ]
    }
   ],
   "source": [
    "chain_htmlr2 = re.sub(r'\\. ',r'.\\n', chain_htmlr2)\n",
    "print(chain_htmlr2)"
   ]
  },
  {
   "cell_type": "code",
   "execution_count": 98,
   "metadata": {},
   "outputs": [
    {
     "name": "stdout",
     "output_type": "stream",
     "text": [
      "Based on the context provided, the main idea seems to be about exploring the use of Japanese wood-joinery methods in space-based applications.\n",
      "The text mentions Salim's comment about the structural integrity and longevity of wood, as well as the need to confirm these factors in space.\n",
      "There is also a reference to the environmental effects of pollution being unknown.\n",
      "Overall, the main idea appears to be discussing innovative uses for Japanese wood-joinery techniques in aerospace-related applications.\n"
     ]
    }
   ],
   "source": [
    "chain_htmlr3 = chainhtml.invoke('What is the main idea of the context provided? ')\n",
    "chain_htmlr3\n",
    "chain_htmlr3 = re.sub(r'\\. ',r'.\\n', chain_htmlr3)\n",
    "print(chain_htmlr3)"
   ]
  }
 ],
 "metadata": {
  "kernelspec": {
   "display_name": "morgage",
   "language": "python",
   "name": "python3"
  },
  "language_info": {
   "codemirror_mode": {
    "name": "ipython",
    "version": 3
   },
   "file_extension": ".py",
   "mimetype": "text/x-python",
   "name": "python",
   "nbconvert_exporter": "python",
   "pygments_lexer": "ipython3",
   "version": "3.12.2"
  }
 },
 "nbformat": 4,
 "nbformat_minor": 2
}
