{
 "cells": [
  {
   "cell_type": "code",
   "execution_count": 2,
   "metadata": {},
   "outputs": [
    {
     "name": "stderr",
     "output_type": "stream",
     "text": [
      "Created a chunk of size 1758, which is longer than the specified 500\n",
      "Created a chunk of size 6117, which is longer than the specified 500\n"
     ]
    },
    {
     "name": "stderr",
     "output_type": "stream",
     "text": [
      "python(45203) MallocStackLogging: can't turn off malloc stack logging because it was not enabled.\n",
      "python(45204) MallocStackLogging: can't turn off malloc stack logging because it was not enabled.\n",
      "python(45205) MallocStackLogging: can't turn off malloc stack logging because it was not enabled.\n",
      "python(45579) MallocStackLogging: can't turn off malloc stack logging because it was not enabled.\n"
     ]
    }
   ],
   "source": [
    "# https://developer.ibm.com/articles/awb-retrieval-augmented-generation-with-langchain-and-elastic-db/\n",
    "# https://www.govinfo.gov/content/pkg/CREC-2024-03-07/html/CREC-2024-03-07-pt1-PgS2249-9.htm\n",
    "# TO INSTALL ELASTIC: https://www.elastic.co/guide/en/elasticsearch/reference/7.17/brew.html\n",
    "\n",
    "from langchain.vectorstores import ElasticsearchStore\n",
    "from langchain.document_loaders import TextLoader\n",
    "from langchain.text_splitter import CharacterTextSplitter\n",
    "from langchain.embeddings import HuggingFaceEmbeddings\n",
    "\n",
    "####### Load the document into  elastic store using hugging face embeddings as the embedding function. Which could be one time activity depending on the use-case.\n",
    "\n",
    "loader = TextLoader(\"../../data/state_of_the_union.txt\")\n",
    "documents = loader.load()\n",
    "text_splitter = CharacterTextSplitter(chunk_size=500, chunk_overlap=0)\n",
    "docs = text_splitter.split_documents(documents)\n",
    "\n",
    "embeddings = HuggingFaceEmbeddings(model_name=\"all-MiniLM-L6-v2\", model_kwargs={\"device\": \"cpu\"})"
   ]
  },
  {
   "cell_type": "code",
   "execution_count": null,
   "metadata": {},
   "outputs": [],
   "source": [
    "db = ElasticsearchStore.from_documents(\n",
    "    docs, embeddings, es_url=\"http://localhost:9200\", index_name=\"test-basic\",\n",
    ")\n",
    "\n",
    "db.client.indices.refresh(index=\"test-basic\")"
   ]
  },
  {
   "cell_type": "code",
   "execution_count": null,
   "metadata": {},
   "outputs": [],
   "source": [
    "!pip install elasticsearch"
   ]
  },
  {
   "cell_type": "code",
   "execution_count": null,
   "metadata": {},
   "outputs": [],
   "source": []
  }
 ],
 "metadata": {
  "kernelspec": {
   "display_name": "morgage",
   "language": "python",
   "name": "python3"
  },
  "language_info": {
   "codemirror_mode": {
    "name": "ipython",
    "version": 3
   },
   "file_extension": ".py",
   "mimetype": "text/x-python",
   "name": "python",
   "nbconvert_exporter": "python",
   "pygments_lexer": "ipython3",
   "version": "3.12.2"
  }
 },
 "nbformat": 4,
 "nbformat_minor": 2
}
