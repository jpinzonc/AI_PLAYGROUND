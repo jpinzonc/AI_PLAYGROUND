{
 "cells": [
  {
   "cell_type": "markdown",
   "metadata": {},
   "source": [
    "https://github.com/InsightEdge01/ScrapegraphAIOllamallama3/blob/main/app.py\n",
    "\n",
    "\n",
    "https://www.youtube.com/watch?v=2BTI3KIiGHU\n",
    "\n",
    "!pip install scrapegraphai\n",
    "!  playwright install  "
   ]
  },
  {
   "cell_type": "code",
   "execution_count": 1,
   "metadata": {},
   "outputs": [],
   "source": [
    "from scrapegraphai.graphs import SmartScraperGraph\n",
    "import nest_asyncio  # Import nest_asyncio module for asynchronous operations\n",
    "nest_asyncio.apply()  # Apply nest_asyncio to resolve any issues with asyncio event loop\n",
    "\n",
    "# Configuration dictionary for the graph\n",
    "graph_config = {\n",
    "    \"llm\": {\n",
    "        \"model\": \"ollama/llama3\",  # Specify the model for the llm\n",
    "        \"temperature\": 0,  # Set temperature parameter for llm\n",
    "        \"format\": \"json\",  # Specify the output format as JSON for Ollama\n",
    "        \"base_url\": \"http://localhost:11434\",  # Set the base URL for Ollama\n",
    "    },\n",
    "    \"embeddings\": {\n",
    "        \"model\": \"ollama/nomic-embed-text\",  # Specify the model for embeddings\n",
    "        \"base_url\": \"http://localhost:11434\",  # Set the base URL for Ollama\n",
    "    },\n",
    "    \"verbose\": True,  # Enable verbose mode for debugging purposes\n",
    "}\n",
    "\n",
    "# Initialize SmartScraperGraph with prompt, source, and configuration\n",
    "smart_scraper_graph = SmartScraperGraph(\n",
    "    #prompt=\"List all the content\",  # Set prompt for scraping\n",
    "    prompt=\"List me all the projects with their descriptions\",\n",
    "    # Source URL or HTML content to scrape\n",
    "    #source=\"https://github.com/InsightEdge01\",\n",
    "    source=\"https://perinim.github.io/projects\",\n",
    "    config=graph_config  # Pass the graph configuration\n",
    ")\n",
    "\n"
   ]
  },
  {
   "cell_type": "code",
   "execution_count": 2,
   "metadata": {},
   "outputs": [
    {
     "name": "stderr",
     "output_type": "stream",
     "text": [
      "--- Executing Fetch Node ---\n",
      "--- (Fetching HTML from: https://perinim.github.io/projects) ---\n",
      "--- Executing Parse Node ---\n",
      "--- Executing RAG Node ---\n",
      "--- (updated chunks metadata) ---\n",
      "--- (tokens compressed and vector stored) ---\n",
      "--- Executing GenerateAnswer Node ---\n",
      "Processing chunks: 100%|██████████| 1/1 [01:54<00:00, 114.42s/it]\n"
     ]
    }
   ],
   "source": [
    "result = smart_scraper_graph.run()\n"
   ]
  },
  {
   "cell_type": "code",
   "execution_count": 3,
   "metadata": {},
   "outputs": [
    {
     "data": {
      "text/plain": [
       "{'projects': [{'name': 'Rotary Pendulum RL',\n",
       "   'description': 'Open Source project aimed at controlling a real life rotary pendulum using RL algorithms'},\n",
       "  {'name': 'DQN Implementation from scratch',\n",
       "   'description': 'Developed a Deep Q-Network algorithm to train a simple and double pendulum'},\n",
       "  {'name': 'Multi Agents HAED',\n",
       "   'description': 'University project which focuses on simulating a multi-agent system to perform environment mapping. Agents, equipped with sensors, explore and record their surroundings, considering uncertainties in their readings.'},\n",
       "  {'name': 'Wireless ESC for Modular Drones',\n",
       "   'description': 'Modular drone architecture proposal and proof of concept. The project received maximum grade.'}]}"
      ]
     },
     "execution_count": 3,
     "metadata": {},
     "output_type": "execute_result"
    }
   ],
   "source": [
    "result"
   ]
  },
  {
   "cell_type": "code",
   "execution_count": 23,
   "metadata": {},
   "outputs": [],
   "source": [
    "smart_scraper_graph = SmartScraperGraph(\n",
    "    #prompt=\"List all the content\",  # Set prompt for scraping\n",
    "    prompt=\"what country has hosted the Copa America More times\",\n",
    "    # Source URL or HTML content to scrape\n",
    "    #source=\"https://github.com/InsightEdge01\",\n",
    "    source=\"https://en.wikipedia.org/wiki/Copa_Am%C3%A9rica\",\n",
    "    config=graph_config  # Pass the graph configuration\n",
    ")"
   ]
  },
  {
   "cell_type": "code",
   "execution_count": 24,
   "metadata": {},
   "outputs": [
    {
     "name": "stderr",
     "output_type": "stream",
     "text": [
      "--- Executing Fetch Node ---\n",
      "--- (Fetching HTML from: https://en.wikipedia.org/wiki/Copa_Am%C3%A9rica) ---\n",
      "--- Executing Parse Node ---\n",
      "--- Executing RAG Node ---\n",
      "--- (updated chunks metadata) ---\n",
      "--- (tokens compressed and vector stored) ---\n",
      "--- Executing GenerateAnswer Node ---\n",
      "Processing chunks: 100%|██████████| 2/2 [00:00<00:00, 5309.25it/s]\n"
     ]
    },
    {
     "data": {
      "text/plain": [
       "{'answer': {'country': 'Uruguay', 'count': 9}}"
      ]
     },
     "execution_count": 24,
     "metadata": {},
     "output_type": "execute_result"
    }
   ],
   "source": [
    "result = smart_scraper_graph.run()\n",
    "result"
   ]
  },
  {
   "cell_type": "code",
   "execution_count": null,
   "metadata": {},
   "outputs": [],
   "source": []
  }
 ],
 "metadata": {
  "kernelspec": {
   "display_name": "morgage",
   "language": "python",
   "name": "python3"
  },
  "language_info": {
   "codemirror_mode": {
    "name": "ipython",
    "version": 3
   },
   "file_extension": ".py",
   "mimetype": "text/x-python",
   "name": "python",
   "nbconvert_exporter": "python",
   "pygments_lexer": "ipython3",
   "version": "3.12.2"
  }
 },
 "nbformat": 4,
 "nbformat_minor": 2
}
