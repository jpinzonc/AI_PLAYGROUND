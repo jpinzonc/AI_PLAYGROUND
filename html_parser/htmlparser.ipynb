{
 "cells": [
  {
   "cell_type": "markdown",
   "metadata": {},
   "source": [
    "https://github.com/InsightEdge01/ScrapegraphAIOllamallama3/blob/main/app.py\n",
    "\n",
    "\n",
    "https://www.youtube.com/watch?v=2BTI3KIiGHU\n",
    "\n",
    "!pip install scrapegraphai\n",
    "!  playwright install  "
   ]
  },
  {
   "cell_type": "code",
   "execution_count": 1,
   "metadata": {},
   "outputs": [],
   "source": [
    "from scrapegraphai.graphs import SmartScraperGraph\n",
    "import nest_asyncio  # Import nest_asyncio module for asynchronous operations\n",
    "nest_asyncio.apply()  # Apply nest_asyncio to resolve any issues with asyncio event loop\n",
    "\n",
    "# Configuration dictionary for the graph\n",
    "graph_config = {\n",
    "    \"llm\": {\n",
    "        \"model\": \"ollama/llama3\",  # Specify the model for the llm\n",
    "        \"temperature\": 0,  # Set temperature parameter for llm\n",
    "        \"format\": \"json\",  # Specify the output format as JSON for Ollama\n",
    "        \"base_url\": \"http://localhost:11434\",  # Set the base URL for Ollama\n",
    "    },\n",
    "    \"embeddings\": {\n",
    "        \"model\": \"ollama/nomic-embed-text\",  # Specify the model for embeddings\n",
    "        \"base_url\": \"http://localhost:11434\",  # Set the base URL for Ollama\n",
    "    },\n",
    "    \"verbose\": True,  # Enable verbose mode for debugging purposes\n",
    "}\n",
    "\n",
    "# Initialize SmartScraperGraph with prompt, source, and configuration\n",
    "smart_scraper_graph = SmartScraperGraph(\n",
    "    #prompt=\"List all the content\",  # Set prompt for scraping\n",
    "    prompt=\"DESCRIBE THE PAGE\",\n",
    "    # Source URL or HTML content to scrape\n",
    "    #source=\"https://github.com/InsightEdge01\",\n",
    "    source=\"https://jpinzon.pyscriptapps.com/loan-calculator/latest/\",  #\"https://perinim.github.io/projects\",\n",
    "    config=graph_config  # Pass the graph configuration\n",
    ")\n",
    "\n"
   ]
  },
  {
   "cell_type": "code",
   "execution_count": 2,
   "metadata": {},
   "outputs": [
    {
     "name": "stderr",
     "output_type": "stream",
     "text": [
      "--- Executing Fetch Node ---\n",
      "--- (Fetching HTML from: https://jpinzon.pyscriptapps.com/loan-calculator/latest/) ---\n",
      "--- Executing Parse Node ---\n",
      "--- Executing RAG Node ---\n",
      "--- (updated chunks metadata) ---\n",
      "--- (tokens compressed and vector stored) ---\n",
      "--- Executing GenerateAnswer Node ---\n",
      "Processing chunks: 100%|██████████| 1/1 [00:24<00:00, 24.71s/it]\n"
     ]
    }
   ],
   "source": [
    "result = smart_scraper_graph.run()\n"
   ]
  },
  {
   "cell_type": "code",
   "execution_count": 3,
   "metadata": {},
   "outputs": [
    {
     "name": "stdout",
     "output_type": "stream",
     "text": [
      "A loan calculator page with a menu to calculate loan amortization. The page allows users to enter information such as interest rate, loan amount, and monthly payment. It also displays results including the number of payments, years, months, total paid (principal and interest), and an amortization schedule.\n"
     ]
    }
   ],
   "source": [
    "print(result['page_description'])"
   ]
  },
  {
   "cell_type": "code",
   "execution_count": 4,
   "metadata": {},
   "outputs": [],
   "source": [
    "smart_scraper_graph = SmartScraperGraph(\n",
    "    #prompt=\"List all the content\",  # Set prompt for scraping\n",
    "    prompt=\"what country has hosted the Copa America More times\",\n",
    "    # Source URL or HTML content to scrape\n",
    "    #source=\"https://github.com/InsightEdge01\",\n",
    "    source=\"https://en.wikipedia.org/wiki/Copa_Am%C3%A9rica\",\n",
    "    config=graph_config  # Pass the graph configuration\n",
    ")"
   ]
  },
  {
   "cell_type": "code",
   "execution_count": 9,
   "metadata": {},
   "outputs": [
    {
     "name": "stderr",
     "output_type": "stream",
     "text": [
      "--- Executing Fetch Node ---\n",
      "--- (Fetching HTML from: https://en.wikipedia.org/wiki/Copa_Am%C3%A9rica) ---\n",
      "--- Executing Parse Node ---\n",
      "--- Executing RAG Node ---\n",
      "--- (updated chunks metadata) ---\n",
      "--- (tokens compressed and vector stored) ---\n",
      "--- Executing GenerateAnswer Node ---\n",
      "Processing chunks: 100%|██████████| 2/2 [00:00<00:00, 1514.19it/s]\n"
     ]
    }
   ],
   "source": [
    "result = smart_scraper_graph.run()\n",
    "result"
   ]
  },
  {
   "cell_type": "code",
   "execution_count": 8,
   "metadata": {},
   "outputs": [
    {
     "name": "stderr",
     "output_type": "stream",
     "text": [
      "--- Executing Fetch Node ---\n",
      "--- (Fetching HTML from: https://www.bestbuy.com/site/logitech-g305-lightspeed-wireless-optical-6-programmable-button-gaming-mouse-with-12000-dpi-hero-sensor-black/6214343.p?skuId=6214343) ---\n",
      "/Users/jorgepinzon/opt/anaconda3/envs/morgage/lib/python3.12/site-packages/scrapegraphai/utils/cleanup_html.py:26: MarkupResemblesLocatorWarning: The input looks more like a filename than markup. You may want to open this file and pass the filehandle into Beautiful Soup.\n",
      "  soup = BeautifulSoup(html_content, 'html.parser')\n"
     ]
    },
    {
     "ename": "ValueError",
     "evalue": "No HTML body content found, please try setting the 'headless' flag to False in the graph configuration. HTML content: Error: Page.goto: Timeout 30000ms exceeded.\nCall log:\nnavigating to \"https://www.bestbuy.com/site/logitech-g305-lightspeed-wireless-optical-6-programmable-button-gaming-mouse-with-12000-dpi-hero-sensor-black/6214343.p?skuId=6214343\", waiting until \"load\"\n",
     "output_type": "error",
     "traceback": [
      "\u001b[0;31m---------------------------------------------------------------------------\u001b[0m",
      "\u001b[0;31mValueError\u001b[0m                                Traceback (most recent call last)",
      "Cell \u001b[0;32mIn[8], line 10\u001b[0m\n\u001b[1;32m      1\u001b[0m url \u001b[38;5;241m=\u001b[39m \u001b[38;5;124m\"\u001b[39m\u001b[38;5;124mhttps://www.bestbuy.com/site/logitech-g305-lightspeed-wireless-optical-6-programmable-button-gaming-mouse-with-12000-dpi-hero-sensor-black/6214343.p?skuId=6214343\u001b[39m\u001b[38;5;124m\"\u001b[39m\n\u001b[1;32m      2\u001b[0m smart_scraper_graph_price \u001b[38;5;241m=\u001b[39m SmartScraperGraph(\n\u001b[1;32m      3\u001b[0m     \u001b[38;5;66;03m#prompt=\"List all the content\",  # Set prompt for scraping\u001b[39;00m\n\u001b[1;32m      4\u001b[0m     prompt\u001b[38;5;241m=\u001b[39m\u001b[38;5;124m\"\u001b[39m\u001b[38;5;124mCan you tell me the name, specs and price of this product\u001b[39m\u001b[38;5;124m\"\u001b[39m,\n\u001b[0;32m   (...)\u001b[0m\n\u001b[1;32m      8\u001b[0m     config\u001b[38;5;241m=\u001b[39mgraph_config  \u001b[38;5;66;03m# Pass the graph configuration\u001b[39;00m\n\u001b[1;32m      9\u001b[0m )\n\u001b[0;32m---> 10\u001b[0m resultp \u001b[38;5;241m=\u001b[39m \u001b[43msmart_scraper_graph_price\u001b[49m\u001b[38;5;241;43m.\u001b[39;49m\u001b[43mrun\u001b[49m\u001b[43m(\u001b[49m\u001b[43m)\u001b[49m\n\u001b[1;32m     11\u001b[0m resultp\n",
      "File \u001b[0;32m~/opt/anaconda3/envs/morgage/lib/python3.12/site-packages/scrapegraphai/graphs/smart_scraper_graph.py:120\u001b[0m, in \u001b[0;36mSmartScraperGraph.run\u001b[0;34m(self)\u001b[0m\n\u001b[1;32m    112\u001b[0m \u001b[38;5;250m\u001b[39m\u001b[38;5;124;03m\"\"\"\u001b[39;00m\n\u001b[1;32m    113\u001b[0m \u001b[38;5;124;03mExecutes the scraping process and returns the answer to the prompt.\u001b[39;00m\n\u001b[1;32m    114\u001b[0m \n\u001b[1;32m    115\u001b[0m \u001b[38;5;124;03mReturns:\u001b[39;00m\n\u001b[1;32m    116\u001b[0m \u001b[38;5;124;03m    str: The answer to the prompt.\u001b[39;00m\n\u001b[1;32m    117\u001b[0m \u001b[38;5;124;03m\"\"\"\u001b[39;00m\n\u001b[1;32m    119\u001b[0m inputs \u001b[38;5;241m=\u001b[39m {\u001b[38;5;124m\"\u001b[39m\u001b[38;5;124muser_prompt\u001b[39m\u001b[38;5;124m\"\u001b[39m: \u001b[38;5;28mself\u001b[39m\u001b[38;5;241m.\u001b[39mprompt, \u001b[38;5;28mself\u001b[39m\u001b[38;5;241m.\u001b[39minput_key: \u001b[38;5;28mself\u001b[39m\u001b[38;5;241m.\u001b[39msource}\n\u001b[0;32m--> 120\u001b[0m \u001b[38;5;28mself\u001b[39m\u001b[38;5;241m.\u001b[39mfinal_state, \u001b[38;5;28mself\u001b[39m\u001b[38;5;241m.\u001b[39mexecution_info \u001b[38;5;241m=\u001b[39m \u001b[38;5;28;43mself\u001b[39;49m\u001b[38;5;241;43m.\u001b[39;49m\u001b[43mgraph\u001b[49m\u001b[38;5;241;43m.\u001b[39;49m\u001b[43mexecute\u001b[49m\u001b[43m(\u001b[49m\u001b[43minputs\u001b[49m\u001b[43m)\u001b[49m\n\u001b[1;32m    122\u001b[0m \u001b[38;5;28;01mreturn\u001b[39;00m \u001b[38;5;28mself\u001b[39m\u001b[38;5;241m.\u001b[39mfinal_state\u001b[38;5;241m.\u001b[39mget(\u001b[38;5;124m\"\u001b[39m\u001b[38;5;124manswer\u001b[39m\u001b[38;5;124m\"\u001b[39m, \u001b[38;5;124m\"\u001b[39m\u001b[38;5;124mNo answer found.\u001b[39m\u001b[38;5;124m\"\u001b[39m)\n",
      "File \u001b[0;32m~/opt/anaconda3/envs/morgage/lib/python3.12/site-packages/scrapegraphai/graphs/base_graph.py:224\u001b[0m, in \u001b[0;36mBaseGraph.execute\u001b[0;34m(self, initial_state)\u001b[0m\n\u001b[1;32m    222\u001b[0m     \u001b[38;5;28;01mreturn\u001b[39;00m (result[\u001b[38;5;124m\"\u001b[39m\u001b[38;5;124m_state\u001b[39m\u001b[38;5;124m\"\u001b[39m], [])\n\u001b[1;32m    223\u001b[0m \u001b[38;5;28;01melse\u001b[39;00m:\n\u001b[0;32m--> 224\u001b[0m     \u001b[38;5;28;01mreturn\u001b[39;00m \u001b[38;5;28;43mself\u001b[39;49m\u001b[38;5;241;43m.\u001b[39;49m\u001b[43m_execute_standard\u001b[49m\u001b[43m(\u001b[49m\u001b[43minitial_state\u001b[49m\u001b[43m)\u001b[49m\n",
      "File \u001b[0;32m~/opt/anaconda3/envs/morgage/lib/python3.12/site-packages/scrapegraphai/graphs/base_graph.py:153\u001b[0m, in \u001b[0;36mBaseGraph._execute_standard\u001b[0;34m(self, initial_state)\u001b[0m\n\u001b[1;32m    144\u001b[0m     graph_execution_time \u001b[38;5;241m=\u001b[39m time\u001b[38;5;241m.\u001b[39mtime() \u001b[38;5;241m-\u001b[39m start_time\n\u001b[1;32m    145\u001b[0m     log_graph_execution(\n\u001b[1;32m    146\u001b[0m         graph_name\u001b[38;5;241m=\u001b[39m\u001b[38;5;28mself\u001b[39m\u001b[38;5;241m.\u001b[39mgraph_name,\n\u001b[1;32m    147\u001b[0m         llm_model\u001b[38;5;241m=\u001b[39mllm_model,\n\u001b[0;32m   (...)\u001b[0m\n\u001b[1;32m    151\u001b[0m         error_node\u001b[38;5;241m=\u001b[39merror_node\n\u001b[1;32m    152\u001b[0m     )\n\u001b[0;32m--> 153\u001b[0m     \u001b[38;5;28;01mraise\u001b[39;00m e\n\u001b[1;32m    154\u001b[0m node_exec_time \u001b[38;5;241m=\u001b[39m time\u001b[38;5;241m.\u001b[39mtime() \u001b[38;5;241m-\u001b[39m curr_time\n\u001b[1;32m    155\u001b[0m total_exec_time \u001b[38;5;241m+\u001b[39m\u001b[38;5;241m=\u001b[39m node_exec_time\n",
      "File \u001b[0;32m~/opt/anaconda3/envs/morgage/lib/python3.12/site-packages/scrapegraphai/graphs/base_graph.py:140\u001b[0m, in \u001b[0;36mBaseGraph._execute_standard\u001b[0;34m(self, initial_state)\u001b[0m\n\u001b[1;32m    138\u001b[0m \u001b[38;5;28;01mwith\u001b[39;00m get_openai_callback() \u001b[38;5;28;01mas\u001b[39;00m cb:\n\u001b[1;32m    139\u001b[0m     \u001b[38;5;28;01mtry\u001b[39;00m:\n\u001b[0;32m--> 140\u001b[0m         result \u001b[38;5;241m=\u001b[39m \u001b[43mcurrent_node\u001b[49m\u001b[38;5;241;43m.\u001b[39;49m\u001b[43mexecute\u001b[49m\u001b[43m(\u001b[49m\u001b[43mstate\u001b[49m\u001b[43m)\u001b[49m\n\u001b[1;32m    141\u001b[0m     \u001b[38;5;28;01mexcept\u001b[39;00m \u001b[38;5;167;01mException\u001b[39;00m \u001b[38;5;28;01mas\u001b[39;00m e:\n\u001b[1;32m    142\u001b[0m         error_node \u001b[38;5;241m=\u001b[39m current_node\u001b[38;5;241m.\u001b[39mnode_name\n",
      "File \u001b[0;32m~/opt/anaconda3/envs/morgage/lib/python3.12/site-packages/scrapegraphai/nodes/fetch_node.py:174\u001b[0m, in \u001b[0;36mFetchNode.execute\u001b[0;34m(self, state)\u001b[0m\n\u001b[1;32m    171\u001b[0m \u001b[38;5;28;01mif\u001b[39;00m \u001b[38;5;129;01mnot\u001b[39;00m document \u001b[38;5;129;01mor\u001b[39;00m \u001b[38;5;129;01mnot\u001b[39;00m document[\u001b[38;5;241m0\u001b[39m]\u001b[38;5;241m.\u001b[39mpage_content\u001b[38;5;241m.\u001b[39mstrip():\n\u001b[1;32m    172\u001b[0m     \u001b[38;5;28;01mraise\u001b[39;00m \u001b[38;5;167;01mValueError\u001b[39;00m(\u001b[38;5;124m\"\u001b[39m\u001b[38;5;124mNo HTML body content found in the document fetched by ChromiumLoader.\u001b[39m\u001b[38;5;124m\"\u001b[39m)\n\u001b[0;32m--> 174\u001b[0m title, minimized_body, link_urls, image_urls \u001b[38;5;241m=\u001b[39m \u001b[43mcleanup_html\u001b[49m\u001b[43m(\u001b[49m\n\u001b[1;32m    175\u001b[0m \u001b[43m    \u001b[49m\u001b[38;5;28;43mstr\u001b[39;49m\u001b[43m(\u001b[49m\u001b[43mdocument\u001b[49m\u001b[43m[\u001b[49m\u001b[38;5;241;43m0\u001b[39;49m\u001b[43m]\u001b[49m\u001b[38;5;241;43m.\u001b[39;49m\u001b[43mpage_content\u001b[49m\u001b[43m)\u001b[49m\u001b[43m,\u001b[49m\u001b[43m \u001b[49m\u001b[43msource\u001b[49m\n\u001b[1;32m    176\u001b[0m \u001b[43m\u001b[49m\u001b[43m)\u001b[49m\n\u001b[1;32m    177\u001b[0m parsed_content \u001b[38;5;241m=\u001b[39m \u001b[38;5;124mf\u001b[39m\u001b[38;5;124m\"\u001b[39m\u001b[38;5;124mTitle: \u001b[39m\u001b[38;5;132;01m{\u001b[39;00mtitle\u001b[38;5;132;01m}\u001b[39;00m\u001b[38;5;124m, Body: \u001b[39m\u001b[38;5;132;01m{\u001b[39;00mminimized_body\u001b[38;5;132;01m}\u001b[39;00m\u001b[38;5;124m, Links: \u001b[39m\u001b[38;5;132;01m{\u001b[39;00mlink_urls\u001b[38;5;132;01m}\u001b[39;00m\u001b[38;5;124m, Images: \u001b[39m\u001b[38;5;132;01m{\u001b[39;00mimage_urls\u001b[38;5;132;01m}\u001b[39;00m\u001b[38;5;124m\"\u001b[39m\n\u001b[1;32m    179\u001b[0m compressed_document \u001b[38;5;241m=\u001b[39m [\n\u001b[1;32m    180\u001b[0m     Document(page_content\u001b[38;5;241m=\u001b[39mparsed_content, metadata\u001b[38;5;241m=\u001b[39m{\u001b[38;5;124m\"\u001b[39m\u001b[38;5;124msource\u001b[39m\u001b[38;5;124m\"\u001b[39m: source})\n\u001b[1;32m    181\u001b[0m ]\n",
      "File \u001b[0;32m~/opt/anaconda3/envs/morgage/lib/python3.12/site-packages/scrapegraphai/utils/cleanup_html.py:58\u001b[0m, in \u001b[0;36mcleanup_html\u001b[0;34m(html_content, base_url)\u001b[0m\n\u001b[1;32m     55\u001b[0m     \u001b[38;5;28;01mreturn\u001b[39;00m title, minimized_body, link_urls, image_urls\n\u001b[1;32m     57\u001b[0m \u001b[38;5;28;01melse\u001b[39;00m:\n\u001b[0;32m---> 58\u001b[0m     \u001b[38;5;28;01mraise\u001b[39;00m \u001b[38;5;167;01mValueError\u001b[39;00m(\u001b[38;5;124mf\u001b[39m\u001b[38;5;124m\"\u001b[39m\u001b[38;5;124mNo HTML body content found, please try setting the \u001b[39m\u001b[38;5;124m'\u001b[39m\u001b[38;5;124mheadless\u001b[39m\u001b[38;5;124m'\u001b[39m\u001b[38;5;124m flag to False in the graph configuration. HTML content: \u001b[39m\u001b[38;5;132;01m{\u001b[39;00mhtml_content\u001b[38;5;132;01m}\u001b[39;00m\u001b[38;5;124m\"\u001b[39m)\n",
      "\u001b[0;31mValueError\u001b[0m: No HTML body content found, please try setting the 'headless' flag to False in the graph configuration. HTML content: Error: Page.goto: Timeout 30000ms exceeded.\nCall log:\nnavigating to \"https://www.bestbuy.com/site/logitech-g305-lightspeed-wireless-optical-6-programmable-button-gaming-mouse-with-12000-dpi-hero-sensor-black/6214343.p?skuId=6214343\", waiting until \"load\"\n"
     ]
    }
   ],
   "source": [
    "url = \"https://www.bestbuy.com/site/logitech-g305-lightspeed-wireless-optical-6-programmable-button-gaming-mouse-with-12000-dpi-hero-sensor-black/6214343.p?skuId=6214343\"\n",
    "smart_scraper_graph_price = SmartScraperGraph(\n",
    "    #prompt=\"List all the content\",  # Set prompt for scraping\n",
    "    prompt=\"Can you tell me the name, specs and price of this product\",\n",
    "    # Source URL or HTML content to scrape\n",
    "    #source=\"https://github.com/InsightEdge01\",\n",
    "    source=url,\n",
    "    config=graph_config  # Pass the graph configuration\n",
    ")\n",
    "resultp = smart_scraper_graph_price.run()\n",
    "resultp"
   ]
  },
  {
   "cell_type": "code",
   "execution_count": null,
   "metadata": {},
   "outputs": [],
   "source": []
  }
 ],
 "metadata": {
  "kernelspec": {
   "display_name": "morgage",
   "language": "python",
   "name": "python3"
  },
  "language_info": {
   "codemirror_mode": {
    "name": "ipython",
    "version": 3
   },
   "file_extension": ".py",
   "mimetype": "text/x-python",
   "name": "python",
   "nbconvert_exporter": "python",
   "pygments_lexer": "ipython3",
   "version": "3.12.2"
  }
 },
 "nbformat": 4,
 "nbformat_minor": 2
}
