{
 "cells": [
  {
   "cell_type": "markdown",
   "metadata": {},
   "source": [
    "https://github.com/InsightEdge01/ScrapegraphAIOllamallama3/blob/main/app.py\n",
    "\n",
    "\n",
    "https://www.youtube.com/watch?v=2BTI3KIiGHU\n",
    "\n",
    "!pip install scrapegraphai\n",
    "!  playwright install  "
   ]
  },
  {
   "cell_type": "code",
   "execution_count": 2,
   "metadata": {},
   "outputs": [],
   "source": [
    "from scrapegraphai.graphs import SmartScraperGraph\n",
    "import nest_asyncio  # Import nest_asyncio module for asynchronous operations\n",
    "nest_asyncio.apply()  # Apply nest_asyncio to resolve any issues with asyncio event loop\n",
    "\n",
    "# Configuration dictionary for the graph\n",
    "graph_config = {\n",
    "    \"llm\": {\n",
    "        \"model\": \"ollama/llama3\",  # Specify the model for the llm\n",
    "        \"temperature\": 0,  # Set temperature parameter for llm\n",
    "        \"format\": \"json\",  # Specify the output format as JSON for Ollama\n",
    "        \"base_url\": \"http://localhost:11434\",  # Set the base URL for Ollama\n",
    "    },\n",
    "    \"embeddings\": {\n",
    "        \"model\": \"ollama/nomic-embed-text\",  # Specify the model for embeddings\n",
    "        \"base_url\": \"http://localhost:11434\",  # Set the base URL for Ollama\n",
    "    },\n",
    "    \"verbose\": True,  # Enable verbose mode for debugging purposes\n",
    "}\n",
    "\n",
    "# Initialize SmartScraperGraph with prompt, source, and configuration\n",
    "smart_scraper_graph = SmartScraperGraph(\n",
    "    #prompt=\"List all the content\",  # Set prompt for scraping\n",
    "    prompt=\"DESCRIBE THE PAGE\",\n",
    "    # Source URL or HTML content to scrape\n",
    "    #source=\"https://github.com/InsightEdge01\",\n",
    "    source=\"https://jpinzon.pyscriptapps.com/loan-calculator/latest/\",  #\"https://perinim.github.io/projects\",\n",
    "    config=graph_config  # Pass the graph configuration\n",
    ")\n",
    "\n"
   ]
  },
  {
   "cell_type": "code",
   "execution_count": 3,
   "metadata": {},
   "outputs": [
    {
     "name": "stderr",
     "output_type": "stream",
     "text": [
      "--- Executing Fetch Node ---\n",
      "--- (Fetching HTML from: https://jpinzon.pyscriptapps.com/loan-calculator/latest/) ---\n",
      "--- Executing Parse Node ---\n",
      "--- Executing RAG Node ---\n",
      "--- (updated chunks metadata) ---\n",
      "--- (tokens compressed and vector stored) ---\n",
      "--- Executing GenerateAnswer Node ---\n",
      "Processing chunks: 100%|██████████| 1/1 [00:53<00:00, 53.98s/it]"
     ]
    },
    {
     "name": "stdout",
     "output_type": "stream",
     "text": [
      "{\n",
      "  \"page_description\": \"A loan calculator page with a menu to calculate loan amortization. The page allows users to enter information such as interest rate, loan amount, and monthly payment. It also displays results including the number of payments, years, months, total paid (principal and interest), and an amortization schedule.\"\n",
      "}\n"
     ]
    },
    {
     "name": "stderr",
     "output_type": "stream",
     "text": [
      "\n"
     ]
    }
   ],
   "source": [
    "\n",
    "result = smart_scraper_graph.run()\n",
    "\n",
    "# Prettify the result and display the JSON\n",
    "import json\n",
    "\n",
    "output = json.dumps(result, indent=2)  # Convert result to JSON format with indentation\n",
    "\n",
    "line_list = output.split(\"\\n\")  # Split the JSON string into lines\n",
    "\n",
    "# Print each line of the JSON separately\n",
    "for line in line_list:\n",
    "    print(line)"
   ]
  },
  {
   "cell_type": "code",
   "execution_count": 4,
   "metadata": {},
   "outputs": [
    {
     "name": "stderr",
     "output_type": "stream",
     "text": [
      "--- Executing Fetch Node ---\n",
      "--- (Fetching HTML from: https://en.wikipedia.org/wiki/Copa_Am%C3%A9rica) ---\n",
      "--- Executing Parse Node ---\n",
      "--- Executing RAG Node ---\n",
      "--- (updated chunks metadata) ---\n",
      "--- (tokens compressed and vector stored) ---\n",
      "--- Executing GenerateAnswer Node ---\n",
      "Processing chunks: 100%|██████████| 2/2 [00:00<00:00, 4405.78it/s]\n"
     ]
    },
    {
     "data": {
      "text/plain": [
       "{'answer': {'country': 'Uruguay', 'count': 9}}"
      ]
     },
     "execution_count": 4,
     "metadata": {},
     "output_type": "execute_result"
    }
   ],
   "source": [
    "# this one takes about 6 mins \n",
    "smart_scraper_graph = SmartScraperGraph(\n",
    "                                        #prompt=\"List all the content\",  # Set prompt for scraping\n",
    "                                        prompt=\"what country has hosted the Copa America More times\",\n",
    "                                        # Source URL or HTML content to scrape\n",
    "                                        source=\"https://en.wikipedia.org/wiki/Copa_Am%C3%A9rica\",\n",
    "                                        config=graph_config  # Pass the graph configuration  \n",
    "                                        )\n",
    "result = smart_scraper_graph.run()\n",
    "result"
   ]
  },
  {
   "cell_type": "code",
   "execution_count": 8,
   "metadata": {},
   "outputs": [
    {
     "name": "stderr",
     "output_type": "stream",
     "text": [
      "--- Executing Fetch Node ---\n",
      "--- (Fetching HTML from: https://www.arlingtontx.gov/city_hall/departments/garbage_recycling/household_hazardous_waste/environmental_collection_center) ---\n",
      "--- Executing Parse Node ---\n",
      "--- Executing RAG Node ---\n",
      "--- (updated chunks metadata) ---\n",
      "--- (tokens compressed and vector stored) ---\n",
      "--- Executing GenerateAnswer Node ---\n",
      "Processing chunks: 100%|██████████| 1/1 [00:14<00:00, 14.31s/it]\n"
     ]
    },
    {
     "data": {
      "text/plain": [
       "{'collection_center': 'ECC, Environmental Collection Center, HHW, Hazardous Waste, Crud Cruiser'}"
      ]
     },
     "execution_count": 8,
     "metadata": {},
     "output_type": "execute_result"
    }
   ],
   "source": [
    "url = \"https://www.arlingtontx.gov/city_hall/departments/garbage_recycling/household_hazardous_waste/environmental_collection_center\"\n",
    "\n",
    "graph_config = {\n",
    "    \"llm\": {\n",
    "        \"model\": \"ollama/llama3\",  # Specify the model for the llm\n",
    "        \"temperature\": 0,  # Set temperature parameter for llm\n",
    "        \"format\": \"json\",  # Specify the output format as JSON for Ollama\n",
    "        \"base_url\": \"http://localhost:11434\",  # Set the base URL for Ollama\n",
    "    },\n",
    "    \"embeddings\": {\n",
    "        \"model\": \"ollama/nomic-embed-text\",  # Specify the model for embeddings\n",
    "        \"base_url\": \"http://localhost:11434\",  # Set the base URL for Ollama\n",
    "    },\n",
    "    \"verbose\": True,  # Enable verbose mode for debugging purposes\n",
    "    \"headless\" : True\n",
    "}\n",
    "\n",
    "smart_scraper_graph_price = SmartScraperGraph(\n",
    "                                                prompt=\"What is the name, address and schedule of the recycling location\",\n",
    "                                                source=url,\n",
    "                                                config=graph_config  # Pass the graph configuration\n",
    "                                                )\n",
    "resultp = smart_scraper_graph_price.run()\n",
    "resultp"
   ]
  },
  {
   "cell_type": "code",
   "execution_count": null,
   "metadata": {},
   "outputs": [],
   "source": []
  }
 ],
 "metadata": {
  "kernelspec": {
   "display_name": "morgage",
   "language": "python",
   "name": "python3"
  },
  "language_info": {
   "codemirror_mode": {
    "name": "ipython",
    "version": 3
   },
   "file_extension": ".py",
   "mimetype": "text/x-python",
   "name": "python",
   "nbconvert_exporter": "python",
   "pygments_lexer": "ipython3",
   "version": "3.12.2"
  }
 },
 "nbformat": 4,
 "nbformat_minor": 2
}
