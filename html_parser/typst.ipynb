{
 "cells": [
  {
   "cell_type": "code",
   "execution_count": 2,
   "metadata": {},
   "outputs": [],
   "source": [
    "import typst\n",
    "\n",
    "# def html_to_pdf(html_file, pdf_file):\n",
    "#     # Initialize the Typst client\n",
    "#     typst = typst()\n",
    "\n",
    "#     # Read the HTML file\n",
    "#     with open(html_file, 'r') as f:\n",
    "#         html = f.read()\n",
    "\n",
    "#     # Convert HTML to PDF\n",
    "#     typst.html_to_pdf(html, pdf_file)\n",
    "\n",
    "# Usage\n",
    "# html_file = 'input.html'\n",
    "# pdf_file = 'output.pdf'\n",
    "# # html_to_pdf(html_file, pdf_file)\n",
    "# typst.html_to_pdf(html, pdf_file)"
   ]
  },
  {
   "cell_type": "code",
   "execution_count": 12,
   "metadata": {},
   "outputs": [
    {
     "ename": "RuntimeError",
     "evalue": "error: unclosed label\n  ┌─ STREAMLIT_APP.html:5:1\n  │\n5 │   <link rel=\"stylesheet\" href=\"style.css\">\n  │   ^^^^^\n\nerror: unclosed label\n  ┌─ STREAMLIT_APP.html:8:1\n  │\n8 │   <div class=\"container\">\n  │   ^^^^\n\nerror: unclosed label\n  ┌─ STREAMLIT_APP.html:9:2\n  │\n9 │     <div class=\"sidebar\" id=\"sidebar\">\n  │     ^^^^\n\nerror: unclosed label\n   ┌─ STREAMLIT_APP.html:10:3\n   │\n10 │       <button class=\"toggle-sidebar-btn\" id=\"toggle-sidebar-btn\"></button>\n   │       ^^^^^^^\n\nerror: unclosed label\n   ┌─ STREAMLIT_APP.html:11:3\n   │\n11 │       <div class=\"sidebar-content\">\n   │       ^^^^\n\nerror: unclosed label\n   ┌─ STREAMLIT_APP.html:13:4\n   │\n13 │         <ul id=\"sidebar-menu\">\n   │         ^^^\n\nerror: unclosed label\n   ┌─ STREAMLIT_APP.html:14:9\n   │\n14 │           <li><a href=\"#\">Menu Item 1</a></li>\n   │               ^^\n\nerror: unclosed label\n   ┌─ STREAMLIT_APP.html:21:2\n   │\n21 │     <div class=\"content\">\n   │     ^^^^\n\nerror: unclosed label\n   ┌─ STREAMLIT_APP.html:22:3\n   │\n22 │       <div class=\"header\">\n   │       ^^^^\n\nerror: unclosed label\n   ┌─ STREAMLIT_APP.html:27:3\n   │\n27 │       <input type=\"text\" placeholder=\"Enter something\">\n   │       ^^^^^^\n\nerror: unclosed label\n   ┌─ STREAMLIT_APP.html:29:3\n   │\n29 │       <div class=\"user-identification-container\">\n   │       ^^^^\n\nerror: unclosed label\n   ┌─ STREAMLIT_APP.html:32:5\n   │\n32 │           <input type=\"number\" id=\"user-identification-count\" min=\"1\" value=\"1\">\n   │           ^^^^^^\n\nerror: unclosed label\n   ┌─ STREAMLIT_APP.html:34:4\n   │\n34 │         <div id=\"additional-user-identifications\"></div>\n   │         ^^^^\n\nerror: unclosed label\n   ┌─ STREAMLIT_APP.html:35:4\n   │\n35 │         <div class=\"user-identification\">\n   │         ^^^^\n\n",
     "output_type": "error",
     "traceback": [
      "\u001b[0;31m---------------------------------------------------------------------------\u001b[0m",
      "\u001b[0;31mRuntimeError\u001b[0m                              Traceback (most recent call last)",
      "Cell \u001b[0;32mIn[12], line 1\u001b[0m\n\u001b[0;32m----> 1\u001b[0m \u001b[43mtypst\u001b[49m\u001b[38;5;241;43m.\u001b[39;49m\u001b[43mcompile\u001b[49m\u001b[43m(\u001b[49m\u001b[38;5;124;43m\"\u001b[39;49m\u001b[38;5;124;43mSTREAMLIT_APP.html\u001b[39;49m\u001b[38;5;124;43m\"\u001b[39;49m\u001b[43m,\u001b[49m\u001b[43m \u001b[49m\u001b[43moutput\u001b[49m\u001b[38;5;241;43m=\u001b[39;49m\u001b[38;5;124;43m\"\u001b[39;49m\u001b[38;5;124;43mhello.pdf\u001b[39;49m\u001b[38;5;124;43m\"\u001b[39;49m\u001b[43m)\u001b[49m\n",
      "\u001b[0;31mRuntimeError\u001b[0m: error: unclosed label\n  ┌─ STREAMLIT_APP.html:5:1\n  │\n5 │   <link rel=\"stylesheet\" href=\"style.css\">\n  │   ^^^^^\n\nerror: unclosed label\n  ┌─ STREAMLIT_APP.html:8:1\n  │\n8 │   <div class=\"container\">\n  │   ^^^^\n\nerror: unclosed label\n  ┌─ STREAMLIT_APP.html:9:2\n  │\n9 │     <div class=\"sidebar\" id=\"sidebar\">\n  │     ^^^^\n\nerror: unclosed label\n   ┌─ STREAMLIT_APP.html:10:3\n   │\n10 │       <button class=\"toggle-sidebar-btn\" id=\"toggle-sidebar-btn\"></button>\n   │       ^^^^^^^\n\nerror: unclosed label\n   ┌─ STREAMLIT_APP.html:11:3\n   │\n11 │       <div class=\"sidebar-content\">\n   │       ^^^^\n\nerror: unclosed label\n   ┌─ STREAMLIT_APP.html:13:4\n   │\n13 │         <ul id=\"sidebar-menu\">\n   │         ^^^\n\nerror: unclosed label\n   ┌─ STREAMLIT_APP.html:14:9\n   │\n14 │           <li><a href=\"#\">Menu Item 1</a></li>\n   │               ^^\n\nerror: unclosed label\n   ┌─ STREAMLIT_APP.html:21:2\n   │\n21 │     <div class=\"content\">\n   │     ^^^^\n\nerror: unclosed label\n   ┌─ STREAMLIT_APP.html:22:3\n   │\n22 │       <div class=\"header\">\n   │       ^^^^\n\nerror: unclosed label\n   ┌─ STREAMLIT_APP.html:27:3\n   │\n27 │       <input type=\"text\" placeholder=\"Enter something\">\n   │       ^^^^^^\n\nerror: unclosed label\n   ┌─ STREAMLIT_APP.html:29:3\n   │\n29 │       <div class=\"user-identification-container\">\n   │       ^^^^\n\nerror: unclosed label\n   ┌─ STREAMLIT_APP.html:32:5\n   │\n32 │           <input type=\"number\" id=\"user-identification-count\" min=\"1\" value=\"1\">\n   │           ^^^^^^\n\nerror: unclosed label\n   ┌─ STREAMLIT_APP.html:34:4\n   │\n34 │         <div id=\"additional-user-identifications\"></div>\n   │         ^^^^\n\nerror: unclosed label\n   ┌─ STREAMLIT_APP.html:35:4\n   │\n35 │         <div class=\"user-identification\">\n   │         ^^^^\n\n"
     ]
    }
   ],
   "source": [
    "typst.compile(\"STREAMLIT_APP.html\", output=\"hello.pdf\")\n"
   ]
  },
  {
   "cell_type": "code",
   "execution_count": 4,
   "metadata": {},
   "outputs": [],
   "source": [
    "with  open(\"STREAMLIT_APP.html\", \"r\") as f:\n",
    "    html = f.read()"
   ]
  },
  {
   "cell_type": "code",
   "execution_count": 13,
   "metadata": {},
   "outputs": [
    {
     "name": "stdout",
     "output_type": "stream",
     "text": [
      "\u001b[0;31mSignature:\u001b[0m\n",
      "\u001b[0mtypst\u001b[0m\u001b[0;34m.\u001b[0m\u001b[0mcompile\u001b[0m\u001b[0;34m(\u001b[0m\u001b[0;34m\u001b[0m\n",
      "\u001b[0;34m\u001b[0m    \u001b[0minput\u001b[0m\u001b[0;34m,\u001b[0m\u001b[0;34m\u001b[0m\n",
      "\u001b[0;34m\u001b[0m    \u001b[0moutput\u001b[0m\u001b[0;34m=\u001b[0m\u001b[0;32mNone\u001b[0m\u001b[0;34m,\u001b[0m\u001b[0;34m\u001b[0m\n",
      "\u001b[0;34m\u001b[0m    \u001b[0mroot\u001b[0m\u001b[0;34m=\u001b[0m\u001b[0;32mNone\u001b[0m\u001b[0;34m,\u001b[0m\u001b[0;34m\u001b[0m\n",
      "\u001b[0;34m\u001b[0m    \u001b[0mfont_paths\u001b[0m\u001b[0;34m=\u001b[0m\u001b[0mEllipsis\u001b[0m\u001b[0;34m,\u001b[0m\u001b[0;34m\u001b[0m\n",
      "\u001b[0;34m\u001b[0m    \u001b[0mformat\u001b[0m\u001b[0;34m=\u001b[0m\u001b[0;32mNone\u001b[0m\u001b[0;34m,\u001b[0m\u001b[0;34m\u001b[0m\n",
      "\u001b[0;34m\u001b[0m    \u001b[0mppi\u001b[0m\u001b[0;34m=\u001b[0m\u001b[0;32mNone\u001b[0m\u001b[0;34m,\u001b[0m\u001b[0;34m\u001b[0m\n",
      "\u001b[0;34m\u001b[0m    \u001b[0msys_inputs\u001b[0m\u001b[0;34m=\u001b[0m\u001b[0mEllipsis\u001b[0m\u001b[0;34m,\u001b[0m\u001b[0;34m\u001b[0m\n",
      "\u001b[0;34m\u001b[0m\u001b[0;34m)\u001b[0m\u001b[0;34m\u001b[0m\u001b[0;34m\u001b[0m\u001b[0m\n",
      "\u001b[0;31mDocstring:\u001b[0m Compile a typst document to PDF\n",
      "\u001b[0;31mType:\u001b[0m      builtin_function_or_method"
     ]
    }
   ],
   "source": [
    "typst.compile??"
   ]
  },
  {
   "cell_type": "code",
   "execution_count": null,
   "metadata": {},
   "outputs": [],
   "source": []
  }
 ],
 "metadata": {
  "kernelspec": {
   "display_name": "morgage",
   "language": "python",
   "name": "python3"
  },
  "language_info": {
   "codemirror_mode": {
    "name": "ipython",
    "version": 3
   },
   "file_extension": ".py",
   "mimetype": "text/x-python",
   "name": "python",
   "nbconvert_exporter": "python",
   "pygments_lexer": "ipython3",
   "version": "3.12.2"
  }
 },
 "nbformat": 4,
 "nbformat_minor": 2
}
