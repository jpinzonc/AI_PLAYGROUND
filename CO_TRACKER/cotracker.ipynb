{
 "cells": [
  {
   "cell_type": "code",
   "execution_count": 1,
   "metadata": {},
   "outputs": [],
   "source": [
    "#https://github.com/facebookresearch/co-tracker\n",
    "# Until 'aten::grid_sampler_3d' is supported, \n",
    "# NEED TO SET:\n",
    "#export PYTORCH_ENABLE_MPS_FALLBACK=1\n",
    "# In the terminal and restart the notebook. But this is slow as the program will default to CPU. "
   ]
  },
  {
   "cell_type": "code",
   "execution_count": 6,
   "metadata": {},
   "outputs": [],
   "source": [
    "import torch\n",
    "# import os\n",
    "# os.environ[\"IMAGEIO_FFMPEG_EXE\"] = \"/usr/bin/brew install ffmpeg\"\n",
    "\n",
    "# Download the video\n",
    "url = 'https://github.com/facebookresearch/co-tracker/raw/refs/heads/main/assets/apple.mp4'\n",
    "\n",
    "import imageio.v3 as iio\n",
    "frames = iio.imread(url, plugin=\"FFMPEG\")  # plugin=\"pyav\"\n",
    "\n",
    "device = 'mps'\n",
    "grid_size = 10\n",
    "video = torch.tensor(frames).permute(0, 3, 1, 2)[None].float().to(device)  # B T C H W\n",
    "\n",
    "# Run Offline CoTracker:\n",
    "cotracker = torch.hub.load(\"facebookresearch/co-tracker\", \"cotracker3_offline\").to(device)\n"
   ]
  },
  {
   "cell_type": "code",
   "execution_count": 9,
   "metadata": {},
   "outputs": [
    {
     "name": "stderr",
     "output_type": "stream",
     "text": [
      "/opt/anaconda3/envs/p312/lib/python3.12/site-packages/torch/nn/functional.py:4381: UserWarning: The operator 'aten::grid_sampler_3d' is not currently supported on the MPS backend and will fall back to run on the CPU. This may have performance implications. (Triggered internally at /Users/runner/work/pytorch/pytorch/pytorch/aten/src/ATen/mps/MPSFallback.mm:13.)\n",
      "  return torch.grid_sampler(input, grid, mode_enum, padding_mode_enum, align_corners)\n"
     ]
    }
   ],
   "source": [
    "pred_tracks, pred_visibility = cotracker(video, grid_size=grid_size) # B T N 2,  B T N 1\n"
   ]
  },
  {
   "cell_type": "code",
   "execution_count": 11,
   "metadata": {},
   "outputs": [
    {
     "data": {
      "text/plain": [
       "tensor([[[ True,  True,  True,  ...,  True,  True,  True],\n",
       "         [ True,  True,  True,  ...,  True,  True,  True],\n",
       "         [ True,  True,  True,  ...,  True,  True,  True],\n",
       "         ...,\n",
       "         [False, False, False,  ...,  True,  True,  True],\n",
       "         [False, False, False,  ...,  True,  True,  True],\n",
       "         [False, False, False,  ...,  True,  True,  True]]], device='mps:0')"
      ]
     },
     "execution_count": 11,
     "metadata": {},
     "output_type": "execute_result"
    }
   ],
   "source": [
    "pred_visibility"
   ]
  }
 ],
 "metadata": {
  "kernelspec": {
   "display_name": "Python 3",
   "language": "python",
   "name": "python3"
  },
  "language_info": {
   "codemirror_mode": {
    "name": "ipython",
    "version": 3
   },
   "file_extension": ".py",
   "mimetype": "text/x-python",
   "name": "python",
   "nbconvert_exporter": "python",
   "pygments_lexer": "ipython3",
   "version": "3.12.4"
  }
 },
 "nbformat": 4,
 "nbformat_minor": 2
}
