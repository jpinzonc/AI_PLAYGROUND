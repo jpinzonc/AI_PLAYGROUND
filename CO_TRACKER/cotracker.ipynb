{
 "cells": [
  {
   "cell_type": "code",
   "execution_count": 2,
   "metadata": {},
   "outputs": [],
   "source": [
    "#https://github.com/facebookresearch/co-tracker\n",
    "# Until 'aten::grid_sampler_3d' is supported, \n",
    "# NEED TO SET:\n",
    "#export PYTORCH_ENABLE_MPS_FALLBACK=1\n",
    "# In the terminal and restart the notebook. But this is slow as the program will default to CPU. "
   ]
  },
  {
   "cell_type": "code",
   "execution_count": 3,
   "metadata": {},
   "outputs": [
    {
     "name": "stderr",
     "output_type": "stream",
     "text": [
      "Using cache found in /Users/jorgepinzon/.cache/torch/hub/facebookresearch_co-tracker_main\n"
     ]
    }
   ],
   "source": [
    "import torch\n",
    "# Download the video\n",
    "url = 'https://github.com/facebookresearch/co-tracker/raw/refs/heads/main/assets/apple.mp4'\n",
    "url = '../data/TRIMMED.mov'\n",
    "import imageio.v3 as iio\n",
    "frames = iio.imread(url, plugin=\"FFMPEG\")  # plugin=\"pyav\"\n",
    "\n",
    "device = 'mps'\n",
    "grid_size = 10\n",
    "video = torch.tensor(frames).permute(0, 3, 1, 2)[None].float().to(device)  # B T C H W\n",
    "\n",
    "# Run Offline CoTracker:\n",
    "cotracker = torch.hub.load(\"facebookresearch/co-tracker\", \"cotracker3_offline\").to(device)\n"
   ]
  },
  {
   "cell_type": "code",
   "execution_count": 4,
   "metadata": {},
   "outputs": [
    {
     "name": "stderr",
     "output_type": "stream",
     "text": [
      "/opt/anaconda3/envs/p312/lib/python3.12/site-packages/torch/nn/functional.py:4381: UserWarning: The operator 'aten::grid_sampler_3d' is not currently supported on the MPS backend and will fall back to run on the CPU. This may have performance implications. (Triggered internally at /Users/runner/work/pytorch/pytorch/pytorch/aten/src/ATen/mps/MPSFallback.mm:13.)\n",
      "  return torch.grid_sampler(input, grid, mode_enum, padding_mode_enum, align_corners)\n"
     ]
    }
   ],
   "source": [
    "# import os \n",
    "# os.environ['PYTORCH_MPS_HIGH_WATERMARK_RATIO'] = '0.0'\n",
    "pred_tracks, pred_visibility = cotracker(video, grid_size=grid_size) # B T N 2,  B T N 1\n"
   ]
  },
  {
   "cell_type": "code",
   "execution_count": 5,
   "metadata": {},
   "outputs": [
    {
     "name": "stderr",
     "output_type": "stream",
     "text": [
      "IMAGEIO FFMPEG_WRITER WARNING: input image is not divisible by macro_block_size=16, resizing from (880, 600) to (880, 608) to ensure video compatibility with most codecs and players. To prevent resizing, make your input image divisible by the macro_block_size or set the macro_block_size to 1 (risking incompatibility).\n"
     ]
    },
    {
     "name": "stdout",
     "output_type": "stream",
     "text": [
      "Video saved to ./saved_videos/video.mp4\n"
     ]
    },
    {
     "data": {
      "text/plain": [
       "tensor([[[[[255, 255, 255,  ..., 255, 255, 255],\n",
       "           [255, 255, 255,  ..., 255, 255, 255],\n",
       "           [255, 255, 255,  ..., 255, 255, 255],\n",
       "           ...,\n",
       "           [255, 255, 255,  ..., 255, 255, 255],\n",
       "           [255, 255, 255,  ..., 255, 255, 255],\n",
       "           [255, 255, 255,  ..., 255, 255, 255]],\n",
       "\n",
       "          [[255, 255, 255,  ..., 255, 255, 255],\n",
       "           [255, 255, 255,  ..., 255, 255, 255],\n",
       "           [255, 255, 255,  ..., 255, 255, 255],\n",
       "           ...,\n",
       "           [255, 255, 255,  ..., 255, 255, 255],\n",
       "           [255, 255, 255,  ..., 255, 255, 255],\n",
       "           [255, 255, 255,  ..., 255, 255, 255]],\n",
       "\n",
       "          [[255, 255, 255,  ..., 255, 255, 255],\n",
       "           [255, 255, 255,  ..., 255, 255, 255],\n",
       "           [255, 255, 255,  ..., 255, 255, 255],\n",
       "           ...,\n",
       "           [255, 255, 255,  ..., 255, 255, 255],\n",
       "           [255, 255, 255,  ..., 255, 255, 255],\n",
       "           [255, 255, 255,  ..., 255, 255, 255]]],\n",
       "\n",
       "\n",
       "         [[[255, 255, 255,  ..., 255, 255, 255],\n",
       "           [255, 255, 255,  ..., 255, 255, 255],\n",
       "           [255, 255, 255,  ..., 255, 255, 255],\n",
       "           ...,\n",
       "           [255, 255, 255,  ..., 255, 255, 255],\n",
       "           [255, 255, 255,  ..., 255, 255, 255],\n",
       "           [255, 255, 255,  ..., 255, 255, 255]],\n",
       "\n",
       "          [[255, 255, 255,  ..., 255, 255, 255],\n",
       "           [255, 255, 255,  ..., 255, 255, 255],\n",
       "           [255, 255, 255,  ..., 255, 255, 255],\n",
       "           ...,\n",
       "           [255, 255, 255,  ..., 255, 255, 255],\n",
       "           [255, 255, 255,  ..., 255, 255, 255],\n",
       "           [255, 255, 255,  ..., 255, 255, 255]],\n",
       "\n",
       "          [[255, 255, 255,  ..., 255, 255, 255],\n",
       "           [255, 255, 255,  ..., 255, 255, 255],\n",
       "           [255, 255, 255,  ..., 255, 255, 255],\n",
       "           ...,\n",
       "           [255, 255, 255,  ..., 255, 255, 255],\n",
       "           [255, 255, 255,  ..., 255, 255, 255],\n",
       "           [255, 255, 255,  ..., 255, 255, 255]]],\n",
       "\n",
       "\n",
       "         [[[255, 255, 255,  ..., 255, 255, 255],\n",
       "           [255, 255, 255,  ..., 255, 255, 255],\n",
       "           [255, 255, 255,  ..., 255, 255, 255],\n",
       "           ...,\n",
       "           [255, 255, 255,  ..., 255, 255, 255],\n",
       "           [255, 255, 255,  ..., 255, 255, 255],\n",
       "           [255, 255, 255,  ..., 255, 255, 255]],\n",
       "\n",
       "          [[255, 255, 255,  ..., 255, 255, 255],\n",
       "           [255, 255, 255,  ..., 255, 255, 255],\n",
       "           [255, 255, 255,  ..., 255, 255, 255],\n",
       "           ...,\n",
       "           [255, 255, 255,  ..., 255, 255, 255],\n",
       "           [255, 255, 255,  ..., 255, 255, 255],\n",
       "           [255, 255, 255,  ..., 255, 255, 255]],\n",
       "\n",
       "          [[255, 255, 255,  ..., 255, 255, 255],\n",
       "           [255, 255, 255,  ..., 255, 255, 255],\n",
       "           [255, 255, 255,  ..., 255, 255, 255],\n",
       "           ...,\n",
       "           [255, 255, 255,  ..., 255, 255, 255],\n",
       "           [255, 255, 255,  ..., 255, 255, 255],\n",
       "           [255, 255, 255,  ..., 255, 255, 255]]],\n",
       "\n",
       "\n",
       "         ...,\n",
       "\n",
       "\n",
       "         [[[255, 255, 255,  ..., 255, 255, 255],\n",
       "           [255, 255, 255,  ..., 255, 255, 255],\n",
       "           [255, 255, 255,  ..., 255, 255, 255],\n",
       "           ...,\n",
       "           [255, 255, 255,  ..., 255, 255, 255],\n",
       "           [255, 255, 255,  ..., 255, 255, 255],\n",
       "           [255, 255, 255,  ..., 255, 255, 255]],\n",
       "\n",
       "          [[255, 255, 255,  ..., 255, 255, 255],\n",
       "           [255, 255, 255,  ..., 255, 255, 255],\n",
       "           [255, 255, 255,  ..., 255, 255, 255],\n",
       "           ...,\n",
       "           [255, 255, 255,  ..., 255, 255, 255],\n",
       "           [255, 255, 255,  ..., 255, 255, 255],\n",
       "           [255, 255, 255,  ..., 255, 255, 255]],\n",
       "\n",
       "          [[255, 255, 255,  ..., 255, 255, 255],\n",
       "           [255, 255, 255,  ..., 255, 255, 255],\n",
       "           [255, 255, 255,  ..., 255, 255, 255],\n",
       "           ...,\n",
       "           [255, 255, 255,  ..., 255, 255, 255],\n",
       "           [255, 255, 255,  ..., 255, 255, 255],\n",
       "           [255, 255, 255,  ..., 255, 255, 255]]],\n",
       "\n",
       "\n",
       "         [[[255, 255, 255,  ..., 255, 255, 255],\n",
       "           [255, 255, 255,  ..., 255, 255, 255],\n",
       "           [255, 255, 255,  ..., 255, 255, 255],\n",
       "           ...,\n",
       "           [255, 255, 255,  ..., 255, 255, 255],\n",
       "           [255, 255, 255,  ..., 255, 255, 255],\n",
       "           [255, 255, 255,  ..., 255, 255, 255]],\n",
       "\n",
       "          [[255, 255, 255,  ..., 255, 255, 255],\n",
       "           [255, 255, 255,  ..., 255, 255, 255],\n",
       "           [255, 255, 255,  ..., 255, 255, 255],\n",
       "           ...,\n",
       "           [255, 255, 255,  ..., 255, 255, 255],\n",
       "           [255, 255, 255,  ..., 255, 255, 255],\n",
       "           [255, 255, 255,  ..., 255, 255, 255]],\n",
       "\n",
       "          [[255, 255, 255,  ..., 255, 255, 255],\n",
       "           [255, 255, 255,  ..., 255, 255, 255],\n",
       "           [255, 255, 255,  ..., 255, 255, 255],\n",
       "           ...,\n",
       "           [255, 255, 255,  ..., 255, 255, 255],\n",
       "           [255, 255, 255,  ..., 255, 255, 255],\n",
       "           [255, 255, 255,  ..., 255, 255, 255]]],\n",
       "\n",
       "\n",
       "         [[[255, 255, 255,  ..., 255, 255, 255],\n",
       "           [255, 255, 255,  ..., 255, 255, 255],\n",
       "           [255, 255, 255,  ..., 255, 255, 255],\n",
       "           ...,\n",
       "           [255, 255, 255,  ..., 255, 255, 255],\n",
       "           [255, 255, 255,  ..., 255, 255, 255],\n",
       "           [255, 255, 255,  ..., 255, 255, 255]],\n",
       "\n",
       "          [[255, 255, 255,  ..., 255, 255, 255],\n",
       "           [255, 255, 255,  ..., 255, 255, 255],\n",
       "           [255, 255, 255,  ..., 255, 255, 255],\n",
       "           ...,\n",
       "           [255, 255, 255,  ..., 255, 255, 255],\n",
       "           [255, 255, 255,  ..., 255, 255, 255],\n",
       "           [255, 255, 255,  ..., 255, 255, 255]],\n",
       "\n",
       "          [[255, 255, 255,  ..., 255, 255, 255],\n",
       "           [255, 255, 255,  ..., 255, 255, 255],\n",
       "           [255, 255, 255,  ..., 255, 255, 255],\n",
       "           ...,\n",
       "           [255, 255, 255,  ..., 255, 255, 255],\n",
       "           [255, 255, 255,  ..., 255, 255, 255],\n",
       "           [255, 255, 255,  ..., 255, 255, 255]]]]], dtype=torch.uint8)"
      ]
     },
     "execution_count": 5,
     "metadata": {},
     "output_type": "execute_result"
    }
   ],
   "source": [
    "from cotracker.utils.visualizer import Visualizer\n",
    "\n",
    "vis = Visualizer(save_dir=\"./saved_videos\", pad_value=120, linewidth=3)\n",
    "vis.visualize(video, pred_tracks, pred_visibility)"
   ]
  }
 ],
 "metadata": {
  "kernelspec": {
   "display_name": "p312",
   "language": "python",
   "name": "python3"
  },
  "language_info": {
   "codemirror_mode": {
    "name": "ipython",
    "version": 3
   },
   "file_extension": ".py",
   "mimetype": "text/x-python",
   "name": "python",
   "nbconvert_exporter": "python",
   "pygments_lexer": "ipython3",
   "version": "3.12.4"
  }
 },
 "nbformat": 4,
 "nbformat_minor": 2
}
