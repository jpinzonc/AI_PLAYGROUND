{
 "cells": [
  {
   "cell_type": "code",
   "execution_count": 48,
   "metadata": {},
   "outputs": [],
   "source": [
    "import requests\n",
    "import json\n",
    "url ='http://localhost:11434/api/generate'\n",
    "headers = {\n",
    "    'Content-Type': 'application/json'\n",
    "}\n",
    "\n",
    "data = {\"model\": \"codellama\",  \"prompt\": \"Write me a function in python that outputs the fibonacci sequence\"}\n",
    "\n",
    "# response = requests.post('http://localhost:11434/api/generate', headers=headers, data=data)\n",
    "response = requests.post(url, headers=headers, data=json.dumps(data))"
   ]
  },
  {
   "cell_type": "code",
   "execution_count": 61,
   "metadata": {},
   "outputs": [],
   "source": [
    "import requests\n",
    "import json\n",
    "url ='http://localhost:11434/api/generate'\n",
    "headers = {\n",
    "    'Content-Type': 'application/x-www-form-urlencoded'\n",
    "}\n",
    "\n",
    "data = {\"model\": \"codellama\",  \"prompt\": \"Write me a function in python that outputs the fibonacci sequence\"}\n",
    "\n",
    "# response = requests.post('http://localhost:11434/api/generate', headers=headers, data=data)\n",
    "response = requests.post(url, headers=headers, data=json.dumps(data))"
   ]
  },
  {
   "cell_type": "code",
   "execution_count": 98,
   "metadata": {},
   "outputs": [
    {
     "data": {
      "text/plain": [
       "'{\"model\":\"codellama\",\"created_at\":\"2024-08-07T00:52:19.139687Z\",\"response\":\"[PY\",\"done\":\"false\"}\\n{\"model\":\"codellama\",\"created_at\":\"2024-08-07T00:52:19.328482Z\",\"response\":\"TH\",\"done\":\"false\"}\\n{\"model\":\"codellama\",\"created_at\":\"2024-08-07T00:52:19.514742Z\",\"response\":\"ON\",\"done\":\"false\"}\\n{\"model\":\"codellama\",\"created_at\":\"2024-08-07T00:52:19.701045Z\",\"response\":\"]\",\"done\":\"false\"}\\n{\"model\":\"codellama\",\"created_at\":\"2024-08-07T00:52:19.885244Z\",\"response\":\"\\\\n\",\"done\":\"false\"}\\n{\"model\":\"codellama\",\"created_at\":\"2024-08-07T00:52:20.078622Z\",\"response\":\"def\",\"done\":\"false\"}\\n{\"model\":\"codellama\",\"created_at\":\"2024-08-07T00:52:20.286598Z\",\"response\":\" fib\",\"done\":\"false\"}\\n{\"model\":\"codellama\",\"created_at\":\"2024-08-07T00:52:20.485665Z\",\"response\":\"on\",\"done\":\"false\"}\\n{\"model\":\"codellama\",\"created_at\":\"2024-08-07T00:52:20.686383Z\",\"response\":\"acci\",\"done\":\"false\"}\\n{\"model\":\"codellama\",\"created_at\":\"2024-08-07T00:52:20.882853Z\",\"response\":\"(\",\"done\":\"false\"}\\n{\"model\":\"codellama\",\"created_at\":\"2024-08-07T00:52:21.094014Z\",\"response\":\"n\",\"done\":\"false\"}\\n{\"model\":\"codellama\",\"created_at\":\"2024-08-07T00:52:21.320631Z\",\"response\":\"):\",\"done\":\"false\"}\\n{\"model\":\"codellama\",\"created_at\":\"2024-08-07T00:52:21.582219Z\",\"response\":\"\\\\n\",\"done\":\"false\"}\\n{\"model\":\"codellama\",\"created_at\":\"2024-08-07T00:52:21.811204Z\",\"response\":\"   \",\"done\":\"false\"}\\n{\"model\":\"codellama\",\"created_at\":\"2024-08-07T00:52:22.097144Z\",\"response\":\" if\",\"done\":\"false\"}\\n{\"model\":\"codellama\",\"created_at\":\"2024-08-07T00:52:22.345016Z\",\"response\":\" n\",\"done\":\"false\"}\\n{\"model\":\"codellama\",\"created_at\":\"2024-08-07T00:52:22.599447Z\",\"response\":\" \\\\u003c=\",\"done\":\"false\"}\\n{\"model\":\"codellama\",\"created_at\":\"2024-08-07T00:52:22.880899Z\",\"response\":\" \",\"done\":\"false\"}\\n{\"model\":\"codellama\",\"created_at\":\"2024-08-07T00:52:23.108042Z\",\"response\":\"1\",\"done\":\"false\"}\\n{\"model\":\"codellama\",\"created_at\":\"2024-08-07T00:52:23.285687Z\",\"response\":\":\",\"done\":\"false\"}\\n{\"model\":\"codellama\",\"created_at\":\"2024-08-07T00:52:23.480268Z\",\"response\":\"\\\\n\",\"done\":\"false\"}\\n{\"model\":\"codellama\",\"created_at\":\"2024-08-07T00:52:23.667823Z\",\"response\":\"       \",\"done\":\"false\"}\\n{\"model\":\"codellama\",\"created_at\":\"2024-08-07T00:52:23.858825Z\",\"response\":\" return\",\"done\":\"false\"}\\n{\"model\":\"codellama\",\"created_at\":\"2024-08-07T00:52:24.054733Z\",\"response\":\" n\",\"done\":\"false\"}\\n{\"model\":\"codellama\",\"created_at\":\"2024-08-07T00:52:24.305653Z\",\"response\":\"\\\\n\",\"done\":\"false\"}\\n{\"model\":\"codellama\",\"created_at\":\"2024-08-07T00:52:24.508791Z\",\"response\":\"   \",\"done\":\"false\"}\\n{\"model\":\"codellama\",\"created_at\":\"2024-08-07T00:52:24.705366Z\",\"response\":\" else\",\"done\":\"false\"}\\n{\"model\":\"codellama\",\"created_at\":\"2024-08-07T00:52:24.96651Z\",\"response\":\":\",\"done\":\"false\"}\\n{\"model\":\"codellama\",\"created_at\":\"2024-08-07T00:52:25.150576Z\",\"response\":\"\\\\n\",\"done\":\"false\"}\\n{\"model\":\"codellama\",\"created_at\":\"2024-08-07T00:52:25.326927Z\",\"response\":\"       \",\"done\":\"false\"}\\n{\"model\":\"codellama\",\"created_at\":\"2024-08-07T00:52:25.499782Z\",\"response\":\" return\",\"done\":\"false\"}\\n{\"model\":\"codellama\",\"created_at\":\"2024-08-07T00:52:25.680329Z\",\"response\":\" fib\",\"done\":\"false\"}\\n{\"model\":\"codellama\",\"created_at\":\"2024-08-07T00:52:25.85043Z\",\"response\":\"on\",\"done\":\"false\"}\\n{\"model\":\"codellama\",\"created_at\":\"2024-08-07T00:52:26.036416Z\",\"response\":\"acci\",\"done\":\"false\"}\\n{\"model\":\"codellama\",\"created_at\":\"2024-08-07T00:52:26.211623Z\",\"response\":\"(\",\"done\":\"false\"}\\n{\"model\":\"codellama\",\"created_at\":\"2024-08-07T00:52:26.388308Z\",\"response\":\"n\",\"done\":\"false\"}\\n{\"model\":\"codellama\",\"created_at\":\"2024-08-07T00:52:26.559463Z\",\"response\":\"-\",\"done\":\"false\"}\\n{\"model\":\"codellama\",\"created_at\":\"2024-08-07T00:52:26.731841Z\",\"response\":\"1\",\"done\":\"false\"}\\n{\"model\":\"codellama\",\"created_at\":\"2024-08-07T00:52:26.907147Z\",\"response\":\")\",\"done\":\"false\"}\\n{\"model\":\"codellama\",\"created_at\":\"2024-08-07T00:52:27.09261Z\",\"response\":\" +\",\"done\":\"false\"}\\n{\"model\":\"codellama\",\"created_at\":\"2024-08-07T00:52:27.267184Z\",\"response\":\" fib\",\"done\":\"false\"}\\n{\"model\":\"codellama\",\"created_at\":\"2024-08-07T00:52:27.445751Z\",\"response\":\"on\",\"done\":\"false\"}\\n{\"model\":\"codellama\",\"created_at\":\"2024-08-07T00:52:27.62019Z\",\"response\":\"acci\",\"done\":\"false\"}\\n{\"model\":\"codellama\",\"created_at\":\"2024-08-07T00:52:27.792844Z\",\"response\":\"(\",\"done\":\"false\"}\\n{\"model\":\"codellama\",\"created_at\":\"2024-08-07T00:52:27.969989Z\",\"response\":\"n\",\"done\":\"false\"}\\n{\"model\":\"codellama\",\"created_at\":\"2024-08-07T00:52:28.15095Z\",\"response\":\"-\",\"done\":\"false\"}\\n{\"model\":\"codellama\",\"created_at\":\"2024-08-07T00:52:28.35017Z\",\"response\":\"2\",\"done\":\"false\"}\\n{\"model\":\"codellama\",\"created_at\":\"2024-08-07T00:52:28.559505Z\",\"response\":\")\",\"done\":\"false\"}\\n{\"model\":\"codellama\",\"created_at\":\"2024-08-07T00:52:28.7575Z\",\"response\":\"\\\\n\",\"done\":\"false\"}\\n{\"model\":\"codellama\",\"created_at\":\"2024-08-07T00:52:29.323299Z\",\"response\":\"[/PY\",\"done\":\"false\"}\\n{\"model\":\"codellama\",\"created_at\":\"2024-08-07T00:52:29.512218Z\",\"response\":\"TH\",\"done\":\"false\"}\\n{\"model\":\"codellama\",\"created_at\":\"2024-08-07T00:52:29.68822Z\",\"response\":\"ON\",\"done\":\"false\"}\\n{\"model\":\"codellama\",\"created_at\":\"2024-08-07T00:52:29.898347Z\",\"response\":\"]\",\"done\":\"false\"}\\n{\"model\":\"codellama\",\"created_at\":\"2024-08-07T00:52:30.090557Z\",\"response\":\"\\\\n\",\"done\":\"false\"}\\n{\"model\":\"codellama\",\"created_at\":\"2024-08-07T00:52:30.478757Z\",\"response\":\"[TEST\",\"done\":\"false\"}\\n{\"model\":\"codellama\",\"created_at\":\"2024-08-07T00:52:30.666391Z\",\"response\":\"S\",\"done\":\"false\"}\\n{\"model\":\"codellama\",\"created_at\":\"2024-08-07T00:52:30.858027Z\",\"response\":\"]\",\"done\":\"false\"}\\n{\"model\":\"codellama\",\"created_at\":\"2024-08-07T00:52:31.128978Z\",\"response\":\"\\\\n\",\"done\":\"false\"}\\n{\"model\":\"codellama\",\"created_at\":\"2024-08-07T00:52:31.326188Z\",\"response\":\"#\",\"done\":\"false\"}\\n{\"model\":\"codellama\",\"created_at\":\"2024-08-07T00:52:31.519828Z\",\"response\":\" Test\",\"done\":\"false\"}\\n{\"model\":\"codellama\",\"created_at\":\"2024-08-07T00:52:31.713353Z\",\"response\":\" case\",\"done\":\"false\"}\\n{\"model\":\"codellama\",\"created_at\":\"2024-08-07T00:52:31.905294Z\",\"response\":\" \",\"done\":\"false\"}\\n{\"model\":\"codellama\",\"created_at\":\"2024-08-07T00:52:32.100982Z\",\"response\":\"1\",\"done\":\"false\"}\\n{\"model\":\"codellama\",\"created_at\":\"2024-08-07T00:52:32.29483Z\",\"response\":\":\",\"done\":\"false\"}\\n{\"model\":\"codellama\",\"created_at\":\"2024-08-07T00:52:32.493123Z\",\"response\":\"\\\\n\",\"done\":\"false\"}\\n{\"model\":\"codellama\",\"created_at\":\"2024-08-07T00:52:32.689053Z\",\"response\":\"assert\",\"done\":\"false\"}\\n{\"model\":\"codellama\",\"created_at\":\"2024-08-07T00:52:32.882254Z\",\"response\":\" fib\",\"done\":\"false\"}\\n{\"model\":\"codellama\",\"created_at\":\"2024-08-07T00:52:33.069963Z\",\"response\":\"on\",\"done\":\"false\"}\\n{\"model\":\"codellama\",\"created_at\":\"2024-08-07T00:52:33.26382Z\",\"response\":\"acci\",\"done\":\"false\"}\\n{\"model\":\"codellama\",\"created_at\":\"2024-08-07T00:52:33.444825Z\",\"response\":\"(\",\"done\":\"false\"}\\n{\"model\":\"codellama\",\"created_at\":\"2024-08-07T00:52:33.629145Z\",\"response\":\"0\",\"done\":\"false\"}\\n{\"model\":\"codellama\",\"created_at\":\"2024-08-07T00:52:33.816992Z\",\"response\":\")\",\"done\":\"false\"}\\n{\"model\":\"codellama\",\"created_at\":\"2024-08-07T00:52:33.993571Z\",\"response\":\" ==\",\"done\":\"false\"}\\n{\"model\":\"codellama\",\"created_at\":\"2024-08-07T00:52:34.166722Z\",\"response\":\" \",\"done\":\"false\"}\\n{\"model\":\"codellama\",\"created_at\":\"2024-08-07T00:52:34.345008Z\",\"response\":\"0\",\"done\":\"false\"}\\n{\"model\":\"codellama\",\"created_at\":\"2024-08-07T00:52:34.521324Z\",\"response\":\"\\\\n\",\"done\":\"false\"}\\n{\"model\":\"codellama\",\"created_at\":\"2024-08-07T00:52:34.69702Z\",\"response\":\"#\",\"done\":\"false\"}\\n{\"model\":\"codellama\",\"created_at\":\"2024-08-07T00:52:34.885878Z\",\"response\":\" Test\",\"done\":\"false\"}\\n{\"model\":\"codellama\",\"created_at\":\"2024-08-07T00:52:35.065857Z\",\"response\":\" case\",\"done\":\"false\"}\\n{\"model\":\"codellama\",\"created_at\":\"2024-08-07T00:52:35.247327Z\",\"response\":\" \",\"done\":\"false\"}\\n{\"model\":\"codellama\",\"created_at\":\"2024-08-07T00:52:35.423069Z\",\"response\":\"2\",\"done\":\"false\"}\\n{\"model\":\"codellama\",\"created_at\":\"2024-08-07T00:52:35.597652Z\",\"response\":\":\",\"done\":\"false\"}\\n{\"model\":\"codellama\",\"created_at\":\"2024-08-07T00:52:35.785146Z\",\"response\":\"\\\\n\",\"done\":\"false\"}\\n{\"model\":\"codellama\",\"created_at\":\"2024-08-07T00:52:35.97583Z\",\"response\":\"assert\",\"done\":\"false\"}\\n{\"model\":\"codellama\",\"created_at\":\"2024-08-07T00:52:36.147239Z\",\"response\":\" fib\",\"done\":\"false\"}\\n{\"model\":\"codellama\",\"created_at\":\"2024-08-07T00:52:36.331642Z\",\"response\":\"on\",\"done\":\"false\"}\\n{\"model\":\"codellama\",\"created_at\":\"2024-08-07T00:52:36.513535Z\",\"response\":\"acci\",\"done\":\"false\"}\\n{\"model\":\"codellama\",\"created_at\":\"2024-08-07T00:52:36.692059Z\",\"response\":\"(\",\"done\":\"false\"}\\n{\"model\":\"codellama\",\"created_at\":\"2024-08-07T00:52:36.874339Z\",\"response\":\"1\",\"done\":\"false\"}\\n{\"model\":\"codellama\",\"created_at\":\"2024-08-07T00:52:37.065458Z\",\"response\":\")\",\"done\":\"false\"}\\n{\"model\":\"codellama\",\"created_at\":\"2024-08-07T00:52:37.247649Z\",\"response\":\" ==\",\"done\":\"false\"}\\n{\"model\":\"codellama\",\"created_at\":\"2024-08-07T00:52:37.491306Z\",\"response\":\" \",\"done\":\"false\"}\\n{\"model\":\"codellama\",\"created_at\":\"2024-08-07T00:52:37.672308Z\",\"response\":\"1\",\"done\":\"false\"}\\n{\"model\":\"codellama\",\"created_at\":\"2024-08-07T00:52:37.856662Z\",\"response\":\"\\\\n\",\"done\":\"false\"}\\n{\"model\":\"codellama\",\"created_at\":\"2024-08-07T00:52:38.052687Z\",\"response\":\"#\",\"done\":\"false\"}\\n{\"model\":\"codellama\",\"created_at\":\"2024-08-07T00:52:38.246924Z\",\"response\":\" Test\",\"done\":\"false\"}\\n{\"model\":\"codellama\",\"created_at\":\"2024-08-07T00:52:38.422306Z\",\"response\":\" case\",\"done\":\"false\"}\\n{\"model\":\"codellama\",\"created_at\":\"2024-08-07T00:52:38.600486Z\",\"response\":\" \",\"done\":\"false\"}\\n{\"model\":\"codellama\",\"created_at\":\"2024-08-07T00:52:38.788686Z\",\"response\":\"3\",\"done\":\"false\"}\\n{\"model\":\"codellama\",\"created_at\":\"2024-08-07T00:52:38.960277Z\",\"response\":\":\",\"done\":\"false\"}\\n{\"model\":\"codellama\",\"created_at\":\"2024-08-07T00:52:39.139048Z\",\"response\":\"\\\\n\",\"done\":\"false\"}\\n{\"model\":\"codellama\",\"created_at\":\"2024-08-07T00:52:39.320047Z\",\"response\":\"assert\",\"done\":\"false\"}\\n{\"model\":\"codellama\",\"created_at\":\"2024-08-07T00:52:39.499309Z\",\"response\":\" fib\",\"done\":\"false\"}\\n{\"model\":\"codellama\",\"created_at\":\"2024-08-07T00:52:39.67326Z\",\"response\":\"on\",\"done\":\"false\"}\\n{\"model\":\"codellama\",\"created_at\":\"2024-08-07T00:52:39.845871Z\",\"response\":\"acci\",\"done\":\"false\"}\\n{\"model\":\"codellama\",\"created_at\":\"2024-08-07T00:52:40.031227Z\",\"response\":\"(\",\"done\":\"false\"}\\n{\"model\":\"codellama\",\"created_at\":\"2024-08-07T00:52:40.216116Z\",\"response\":\"2\",\"done\":\"false\"}\\n{\"model\":\"codellama\",\"created_at\":\"2024-08-07T00:52:40.393622Z\",\"response\":\")\",\"done\":\"false\"}\\n{\"model\":\"codellama\",\"created_at\":\"2024-08-07T00:52:40.564391Z\",\"response\":\" ==\",\"done\":\"false\"}\\n{\"model\":\"codellama\",\"created_at\":\"2024-08-07T00:52:40.782061Z\",\"response\":\" \",\"done\":\"false\"}\\n{\"model\":\"codellama\",\"created_at\":\"2024-08-07T00:52:41.01461Z\",\"response\":\"1\",\"done\":\"false\"}\\n{\"model\":\"codellama\",\"created_at\":\"2024-08-07T00:52:41.199079Z\",\"response\":\"\\\\n\",\"done\":\"false\"}\\n{\"model\":\"codellama\",\"created_at\":\"2024-08-07T00:52:41.390148Z\",\"response\":\"#\",\"done\":\"false\"}\\n{\"model\":\"codellama\",\"created_at\":\"2024-08-07T00:52:41.571888Z\",\"response\":\" Test\",\"done\":\"false\"}\\n{\"model\":\"codellama\",\"created_at\":\"2024-08-07T00:52:41.745445Z\",\"response\":\" case\",\"done\":\"false\"}\\n{\"model\":\"codellama\",\"created_at\":\"2024-08-07T00:52:41.964606Z\",\"response\":\" \",\"done\":\"false\"}\\n{\"model\":\"codellama\",\"created_at\":\"2024-08-07T00:52:42.214929Z\",\"response\":\"4\",\"done\":\"false\"}\\n{\"model\":\"codellama\",\"created_at\":\"2024-08-07T00:52:42.404429Z\",\"response\":\":\",\"done\":\"false\"}\\n{\"model\":\"codellama\",\"created_at\":\"2024-08-07T00:52:42.582708Z\",\"response\":\"\\\\n\",\"done\":\"false\"}\\n{\"model\":\"codellama\",\"created_at\":\"2024-08-07T00:52:42.812474Z\",\"response\":\"assert\",\"done\":\"false\"}\\n{\"model\":\"codellama\",\"created_at\":\"2024-08-07T00:52:42.996568Z\",\"response\":\" fib\",\"done\":\"false\"}\\n{\"model\":\"codellama\",\"created_at\":\"2024-08-07T00:52:43.171279Z\",\"response\":\"on\",\"done\":\"false\"}\\n{\"model\":\"codellama\",\"created_at\":\"2024-08-07T00:52:43.349445Z\",\"response\":\"acci\",\"done\":\"false\"}\\n{\"model\":\"codellama\",\"created_at\":\"2024-08-07T00:52:43.519959Z\",\"response\":\"(\",\"done\":\"false\"}\\n{\"model\":\"codellama\",\"created_at\":\"2024-08-07T00:52:43.704427Z\",\"response\":\"3\",\"done\":\"false\"}\\n{\"model\":\"codellama\",\"created_at\":\"2024-08-07T00:52:43.892965Z\",\"response\":\")\",\"done\":\"false\"}\\n{\"model\":\"codellama\",\"created_at\":\"2024-08-07T00:52:44.088826Z\",\"response\":\" ==\",\"done\":\"false\"}\\n{\"model\":\"codellama\",\"created_at\":\"2024-08-07T00:52:44.30658Z\",\"response\":\" \",\"done\":\"false\"}\\n{\"model\":\"codellama\",\"created_at\":\"2024-08-07T00:52:44.494794Z\",\"response\":\"2\",\"done\":\"false\"}\\n{\"model\":\"codellama\",\"created_at\":\"2024-08-07T00:52:44.686706Z\",\"response\":\"\\\\n\",\"done\":\"false\"}\\n{\"model\":\"codellama\",\"created_at\":\"2024-08-07T00:52:44.89395Z\",\"response\":\"#\",\"done\":\"false\"}\\n{\"model\":\"codellama\",\"created_at\":\"2024-08-07T00:52:45.096672Z\",\"response\":\" Test\",\"done\":\"false\"}\\n{\"model\":\"codellama\",\"created_at\":\"2024-08-07T00:52:45.342202Z\",\"response\":\" case\",\"done\":\"false\"}\\n{\"model\":\"codellama\",\"created_at\":\"2024-08-07T00:52:45.558279Z\",\"response\":\" \",\"done\":\"false\"}\\n{\"model\":\"codellama\",\"created_at\":\"2024-08-07T00:52:45.786167Z\",\"response\":\"5\",\"done\":\"false\"}\\n{\"model\":\"codellama\",\"created_at\":\"2024-08-07T00:52:46.018607Z\",\"response\":\":\",\"done\":\"false\"}\\n{\"model\":\"codellama\",\"created_at\":\"2024-08-07T00:52:46.312719Z\",\"response\":\"\\\\n\",\"done\":\"false\"}\\n{\"model\":\"codellama\",\"created_at\":\"2024-08-07T00:52:46.531799Z\",\"response\":\"assert\",\"done\":\"false\"}\\n{\"model\":\"codellama\",\"created_at\":\"2024-08-07T00:52:46.731651Z\",\"response\":\" fib\",\"done\":\"false\"}\\n{\"model\":\"codellama\",\"created_at\":\"2024-08-07T00:52:47.037253Z\",\"response\":\"on\",\"done\":\"false\"}\\n{\"model\":\"codellama\",\"created_at\":\"2024-08-07T00:52:47.251711Z\",\"response\":\"acci\",\"done\":\"false\"}\\n{\"model\":\"codellama\",\"created_at\":\"2024-08-07T00:52:47.455702Z\",\"response\":\"(\",\"done\":\"false\"}\\n{\"model\":\"codellama\",\"created_at\":\"2024-08-07T00:52:47.639583Z\",\"response\":\"6\",\"done\":\"false\"}\\n{\"model\":\"codellama\",\"created_at\":\"2024-08-07T00:52:47.827495Z\",\"response\":\")\",\"done\":\"false\"}\\n{\"model\":\"codellama\",\"created_at\":\"2024-08-07T00:52:48.033817Z\",\"response\":\" ==\",\"done\":\"false\"}\\n{\"model\":\"codellama\",\"created_at\":\"2024-08-07T00:52:48.248088Z\",\"response\":\" \",\"done\":\"false\"}\\n{\"model\":\"codellama\",\"created_at\":\"2024-08-07T00:52:48.494679Z\",\"response\":\"8\",\"done\":\"false\"}\\n{\"model\":\"codellama\",\"created_at\":\"2024-08-07T00:52:48.734866Z\",\"response\":\"\\\\n\",\"done\":\"false\"}\\n{\"model\":\"codellama\",\"created_at\":\"2024-08-07T00:52:49.314453Z\",\"response\":\"[/TEST\",\"done\":\"false\"}\\n{\"model\":\"codellama\",\"created_at\":\"2024-08-07T00:52:49.532145Z\",\"response\":\"S\",\"done\":\"false\"}\\n{\"model\":\"codellama\",\"created_at\":\"2024-08-07T00:52:49.696097Z\",\"response\":\"]\",\"done\":\"false\"}\\n{\"model\":\"codellama\",\"created_at\":\"2024-08-07T00:52:49.867756Z\",\"response\":\"\\\\n\",\"done\":\"false\"}\\n{\"model\":\"codellama\",\"created_at\":\"2024-08-07T00:52:50.040286Z\",\"response\":\"\",\"done\":true,\"done_reason\":\"stop\",\"context\":[518,25580,29962,3532,14816,29903,29958,5299,829,14816,29903,6778,13,13,6113,592,263,740,297,3017,393,14391,278,18755,265,21566,5665,518,29914,25580,29962,13,29961,20055,4690,1164,29962,13,1753,18755,265,21566,29898,29876,1125,13,1678,565,302,5277,29871,29896,29901,13,4706,736,302,13,1678,1683,29901,13,4706,736,18755,265,21566,29898,29876,29899,29896,29897,718,18755,265,21566,29898,29876,29899,29906,29897,13,29961,29914,20055,4690,1164,29962,13,29961,18267,29903,29962,13,29937,4321,1206,29871,29896,29901,13,9294,18755,265,21566,29898,29900,29897,1275,29871,29900,13,29937,4321,1206,29871,29906,29901,13,9294,18755,265,21566,29898,29896,29897,1275,29871,29896,13,29937,4321,1206,29871,29941,29901,13,9294,18755,265,21566,29898,29906,29897,1275,29871,29896,13,29937,4321,1206,29871,29946,29901,13,9294,18755,265,21566,29898,29941,29897,1275,29871,29906,13,29937,4321,1206,29871,29945,29901,13,9294,18755,265,21566,29898,29953,29897,1275,29871,29947,13,29961,29914,18267,29903,29962,13],\"total_duration\":31364882660,\"load_duration\":16626346,\"prompt_eval_count\":33,\"prompt_eval_duration\":249733000,\"eval_count\":159,\"eval_duration\":31095986000}\\n'"
      ]
     },
     "execution_count": 98,
     "metadata": {},
     "output_type": "execute_result"
    }
   ],
   "source": [
    "r"
   ]
  },
  {
   "cell_type": "code",
   "execution_count": 152,
   "metadata": {},
   "outputs": [
    {
     "data": {
      "text/plain": [
       "['\"[PY\"',\n",
       " '\"TH\"',\n",
       " '\"ON\"',\n",
       " '\"def\"',\n",
       " '\"on\"',\n",
       " '\"acci\"',\n",
       " '\"(\"',\n",
       " '\"n\"',\n",
       " '\"):\"',\n",
       " '\"1\"',\n",
       " '\":\"',\n",
       " '\":\"',\n",
       " '\"on\"',\n",
       " '\"acci\"',\n",
       " '\"(\"',\n",
       " '\"n\"',\n",
       " '\"-\"',\n",
       " '\"1\"',\n",
       " '\")\"',\n",
       " '\"on\"',\n",
       " '\"acci\"',\n",
       " '\"(\"',\n",
       " '\"n\"',\n",
       " '\"-\"',\n",
       " '\"2\"',\n",
       " '\")\"',\n",
       " '\"TH\"',\n",
       " '\"ON\"',\n",
       " '\"[TEST\"',\n",
       " '\"S\"',\n",
       " '\"1\"',\n",
       " '\":\"',\n",
       " '\"assert\"',\n",
       " '\"on\"',\n",
       " '\"acci\"',\n",
       " '\"(\"',\n",
       " '\"0\"',\n",
       " '\")\"',\n",
       " '\"0\"',\n",
       " '\"2\"',\n",
       " '\":\"',\n",
       " '\"assert\"',\n",
       " '\"on\"',\n",
       " '\"acci\"',\n",
       " '\"(\"',\n",
       " '\"1\"',\n",
       " '\")\"',\n",
       " '\"1\"',\n",
       " '\"3\"',\n",
       " '\":\"',\n",
       " '\"assert\"',\n",
       " '\"on\"',\n",
       " '\"acci\"',\n",
       " '\"(\"',\n",
       " '\"2\"',\n",
       " '\")\"',\n",
       " '\"1\"',\n",
       " '\"4\"',\n",
       " '\":\"',\n",
       " '\"assert\"',\n",
       " '\"on\"',\n",
       " '\"acci\"',\n",
       " '\"(\"',\n",
       " '\"3\"',\n",
       " '\")\"',\n",
       " '\"2\"',\n",
       " '\"5\"',\n",
       " '\":\"',\n",
       " '\"assert\"',\n",
       " '\"on\"',\n",
       " '\"acci\"',\n",
       " '\"(\"',\n",
       " '\"6\"',\n",
       " '\")\"',\n",
       " '\"8\"',\n",
       " '\"S\"',\n",
       " '\"\",\"done\":true,\"done_reason\":\"stop\",\"context\":[518,25580,29962,3532,14816,29903,29958,5299,829,14816,29903,6778,13,13,6113,592,263,740,297,3017,393,14391,278,18755,265,21566,5665,518,29914,25580,29962,13,29961,20055,4690,1164,29962,13,1753,18755,265,21566,29898,29876,1125,13,1678,565,302,5277,29871,29896,29901,13,4706,736,302,13,1678,1683,29901,13,4706,736,18755,265,21566,29898,29876,29899,29896,29897,718,18755,265,21566,29898,29876,29899,29906,29897,13,29961,29914,20055,4690,1164,29962,13,29961,18267,29903,29962,13,29937,4321,1206,29871,29896,29901,13,9294,18755,265,21566,29898,29900,29897,1275,29871,29900,13,29937,4321,1206,29871,29906,29901,13,9294,18755,265,21566,29898,29896,29897,1275,29871,29896,13,29937,4321,1206,29871,29941,29901,13,9294,18755,265,21566,29898,29906,29897,1275,29871,29896,13,29937,4321,1206,29871,29946,29901,13,9294,18755,265,21566,29898,29941,29897,1275,29871,29906,13,29937,4321,1206,29871,29945,29901,13,9294,18755,265,21566,29898,29953,29897,1275,29871,29947,13,29961,29914,18267,29903,29962']"
      ]
     },
     "execution_count": 152,
     "metadata": {},
     "output_type": "execute_result"
    }
   ],
   "source": [
    "r = response.text.replace(\"false\", '\"false\"')\n",
    "# r = r.replace(\"done\", '')\n",
    "import re\n",
    "# m = re.findall(r'''({[A-Za-z\":,_0-9-.[} ()]*)''', r)\n",
    "\n",
    "# r = response.text.replace(\"false\", '\"false\"')\n",
    "# # r = r.replace(\"done\", '')\n",
    "# import re\n",
    "m = re.findall(r'''\"response\":([A-Za-z\":,_0-9-.[}()]*),''', r)\n",
    "# m\n",
    "\n",
    "m"
   ]
  },
  {
   "cell_type": "code",
   "execution_count": 145,
   "metadata": {},
   "outputs": [
    {
     "data": {
      "text/plain": [
       "'PYTHONdef fibonacci(n):    if n 1:        return n    else:        return fibonacci(n-1) fibonacci(n-2)THONTESTS Test case 1:assert fibonacci(0) 0 Test case 2:assert fibonacci(1) 1 Test case 3:assert fibonacci(2) 1 Test case 4:assert fibonacci(3) 2 Test case 5:assert fibonacci(6) 8S,done:true,done_reason:stop,context:518,25580,29962,3532,14816,29903,29958,5299,829,14816,29903,6778,13,13,6113,592,263,740,297,3017,393,14391,278,18755,265,21566,5665,518,29914,25580,29962,13,29961,20055,4690,1164,29962,13,1753,18755,265,21566,29898,29876,1125,13,1678,565,302,5277,29871,29896,29901,13,4706,736,302,13,1678,1683,29901,13,4706,736,18755,265,21566,29898,29876,29899,29896,29897,718,18755,265,21566,29898,29876,29899,29906,29897,13,29961,29914,20055,4690,1164,29962,13,29961,18267,29903,29962,13,29937,4321,1206,29871,29896,29901,13,9294,18755,265,21566,29898,29900,29897,1275,29871,29900,13,29937,4321,1206,29871,29906,29901,13,9294,18755,265,21566,29898,29896,29897,1275,29871,29896,13,29937,4321,1206,29871,29941,29901,13,9294,18755,265,21566,29898,29906,29897,1275,29871,29896,13,29937,4321,1206,29871,29946,29901,13,9294,18755,265,21566,29898,29941,29897,1275,29871,29906,13,29937,4321,1206,29871,29945,29901,13,9294,18755,265,21566,29898,29953,29897,1275,29871,29947,13,29961,29914,18267,29903,29962'"
      ]
     },
     "execution_count": 145,
     "metadata": {},
     "output_type": "execute_result"
    }
   ],
   "source": [
    "m2 = [col.replace('''\"''', '').replace('''[''', '') for col in m]\n",
    "\"\".join(m2)"
   ]
  },
  {
   "cell_type": "code",
   "execution_count": 141,
   "metadata": {},
   "outputs": [],
   "source": [
    "def fibonacci(n): \n",
    "    if n == 0:\n",
    "        return 0   \n",
    "    if n == 1 or n == 2: \n",
    "        return 1  \n",
    "    else:\n",
    "        return fibonacci(n-1)+fibonacci(n-2)"
   ]
  },
  {
   "cell_type": "code",
   "execution_count": 142,
   "metadata": {},
   "outputs": [
    {
     "data": {
      "text/plain": [
       "34"
      ]
     },
     "execution_count": 142,
     "metadata": {},
     "output_type": "execute_result"
    }
   ],
   "source": [
    "fibonacci(9) "
   ]
  },
  {
   "cell_type": "code",
   "execution_count": 140,
   "metadata": {},
   "outputs": [
    {
     "name": "stdout",
     "output_type": "stream",
     "text": [
      "34\n"
     ]
    }
   ],
   "source": [
    "def Fibonacci(n):\n",
    "     \n",
    "    # Check if input is 0 then it will\n",
    "    # print incorrect input\n",
    "    if n < 0:\n",
    "        print(\"Incorrect input\")\n",
    " \n",
    "    # Check if n is 0\n",
    "    # then it will return 0\n",
    "    elif n == 0:\n",
    "        return 0\n",
    " \n",
    "    # Check if n is 1,2\n",
    "    # it will return 1\n",
    "    elif n == 1 or n == 2:\n",
    "        return 1\n",
    " \n",
    "    else:\n",
    "        return Fibonacci(n-1) + Fibonacci(n-2)\n",
    " \n",
    " \n",
    "# Driver Program\n",
    "print(Fibonacci(9))"
   ]
  },
  {
   "cell_type": "code",
   "execution_count": null,
   "metadata": {},
   "outputs": [],
   "source": []
  }
 ],
 "metadata": {
  "kernelspec": {
   "display_name": "morgage",
   "language": "python",
   "name": "python3"
  },
  "language_info": {
   "codemirror_mode": {
    "name": "ipython",
    "version": 3
   },
   "file_extension": ".py",
   "mimetype": "text/x-python",
   "name": "python",
   "nbconvert_exporter": "python",
   "pygments_lexer": "ipython3",
   "version": "3.12.2"
  }
 },
 "nbformat": 4,
 "nbformat_minor": 2
}
